{
 "cells": [
  {
   "cell_type": "markdown",
   "id": "9106c926",
   "metadata": {},
   "source": [
    "### Methodologies/Techniques in Data Science Process\n",
    "CRISP-DM (Cross Industry Standard for Data Mining) gives us a framework to tackling data analysis and machine learning.\n",
    "\n",
    "Its divided into 6 phase/steps:\n",
    "\n",
    "1. **Business Understanding**\n",
    "    * Defining the business objective(what is the goal/problem faced by the business)\n",
    "    * Create a data mining strategy(based on the problem/goal you can determine the most viable dataset to address it.)\n",
    "    * Create a criteria for success.\n",
    "\n",
    "2. **Data Understanding**\n",
    "    * Acquire data(know data format, does it from a database or as files.)\n",
    "    * Exploring the Data(EDA, visualizations and basic statistics)\n",
    "    * Grade the quality of data(how many nulls are present? Outliers?)\n",
    "\n",
    "3. **Data Preparation**\n",
    "    * Select relevant columns to work with\n",
    "    * Normalize the data(bring the data into one scale(scaling) eg length, width and height in different metrics cm, mm)\n",
    "\n",
    "4. **Modelling**\n",
    "    Creating machine learning algorithms.\n",
    "    * Selecting the ML algorithm(linear regression, classification, neural network)\n",
    "    * Split data into train and test\n",
    "    * Model using the train set\n",
    "    * Assess and improve on the model\n",
    "\n",
    "5. **Evaluation**\n",
    "    Compare the different model's performance and choose the best one for your business.\n",
    "\n",
    "6. **Deployment**\n",
    "    * Once you are comfortable with the model you bring it to the mainstream. \n",
    "    * Model monitoring and maintenance over time\n",
    "    * Updating"
   ]
  },
  {
   "cell_type": "markdown",
   "id": "66d1f0e8",
   "metadata": {},
   "source": []
  },
  {
   "cell_type": "code",
   "execution_count": 2,
   "id": "1f5eaf34",
   "metadata": {},
   "outputs": [],
   "source": [
    "import pandas as pd\n",
    "import numpy as np\n",
    "import matplotlib.pyplot as plt\n",
    "import seaborn as sns"
   ]
  },
  {
   "cell_type": "code",
   "execution_count": 3,
   "id": "c2eef68a",
   "metadata": {},
   "outputs": [
    {
     "name": "stdout",
     "output_type": "stream",
     "text": [
      "<class 'pandas.core.frame.DataFrame'>\n",
      "RangeIndex: 580 entries, 0 to 579\n",
      "Data columns (total 34 columns):\n",
      " #   Column       Non-Null Count  Dtype  \n",
      "---  ------       --------------  -----  \n",
      " 0   Player       580 non-null    object \n",
      " 1   Nation       580 non-null    object \n",
      " 2   Pos          580 non-null    object \n",
      " 3   Age          580 non-null    float64\n",
      " 4   MP           580 non-null    int64  \n",
      " 5   Starts       580 non-null    int64  \n",
      " 6   Min          580 non-null    float64\n",
      " 7   90s          580 non-null    float64\n",
      " 8   Gls          580 non-null    float64\n",
      " 9   Ast          580 non-null    float64\n",
      " 10  G+A          580 non-null    float64\n",
      " 11  G-PK         580 non-null    float64\n",
      " 12  PK           580 non-null    float64\n",
      " 13  PKatt        580 non-null    float64\n",
      " 14  CrdY         580 non-null    float64\n",
      " 15  CrdR         580 non-null    float64\n",
      " 16  xG           580 non-null    float64\n",
      " 17  npxG         580 non-null    float64\n",
      " 18  xAG          580 non-null    float64\n",
      " 19  npxG+xAG     580 non-null    float64\n",
      " 20  PrgC         580 non-null    float64\n",
      " 21  PrgP         580 non-null    float64\n",
      " 22  PrgR         580 non-null    float64\n",
      " 23  Gls_90       580 non-null    float64\n",
      " 24  Ast_90       580 non-null    float64\n",
      " 25  G+A_90       580 non-null    float64\n",
      " 26  G-PK_90      580 non-null    float64\n",
      " 27  G+A-PK_90    580 non-null    float64\n",
      " 28  xG_90        580 non-null    float64\n",
      " 29  xAG_90       580 non-null    float64\n",
      " 30  xG+xAG_90    580 non-null    float64\n",
      " 31  npxG_90      580 non-null    float64\n",
      " 32  npxG+xAG_90  580 non-null    float64\n",
      " 33  Team         580 non-null    object \n",
      "dtypes: float64(28), int64(2), object(4)\n",
      "memory usage: 154.2+ KB\n"
     ]
    }
   ],
   "source": [
    "df = pd.read_csv('./data/premier-player-23-24.csv')\n",
    "\n",
    "df.info()"
   ]
  },
  {
   "cell_type": "code",
   "execution_count": 10,
   "id": "d0a8d4e8",
   "metadata": {},
   "outputs": [
    {
     "data": {
      "application/vnd.microsoft.datawrangler.viewer.v0+json": {
       "columns": [
        {
         "name": "index",
         "rawType": "int64",
         "type": "integer"
        },
        {
         "name": "Player",
         "rawType": "object",
         "type": "string"
        },
        {
         "name": "Nation",
         "rawType": "object",
         "type": "string"
        },
        {
         "name": "Pos",
         "rawType": "object",
         "type": "string"
        },
        {
         "name": "Age",
         "rawType": "float64",
         "type": "float"
        },
        {
         "name": "MP",
         "rawType": "int64",
         "type": "integer"
        },
        {
         "name": "Starts",
         "rawType": "int64",
         "type": "integer"
        },
        {
         "name": "Min",
         "rawType": "float64",
         "type": "float"
        },
        {
         "name": "90s",
         "rawType": "float64",
         "type": "float"
        },
        {
         "name": "Gls",
         "rawType": "float64",
         "type": "float"
        },
        {
         "name": "Ast",
         "rawType": "float64",
         "type": "float"
        },
        {
         "name": "G+A",
         "rawType": "float64",
         "type": "float"
        },
        {
         "name": "G-PK",
         "rawType": "float64",
         "type": "float"
        },
        {
         "name": "PK",
         "rawType": "float64",
         "type": "float"
        },
        {
         "name": "PKatt",
         "rawType": "float64",
         "type": "float"
        },
        {
         "name": "CrdY",
         "rawType": "float64",
         "type": "float"
        },
        {
         "name": "CrdR",
         "rawType": "float64",
         "type": "float"
        },
        {
         "name": "xG",
         "rawType": "float64",
         "type": "float"
        },
        {
         "name": "npxG",
         "rawType": "float64",
         "type": "float"
        },
        {
         "name": "xAG",
         "rawType": "float64",
         "type": "float"
        },
        {
         "name": "npxG+xAG",
         "rawType": "float64",
         "type": "float"
        },
        {
         "name": "PrgC",
         "rawType": "float64",
         "type": "float"
        },
        {
         "name": "PrgP",
         "rawType": "float64",
         "type": "float"
        },
        {
         "name": "PrgR",
         "rawType": "float64",
         "type": "float"
        },
        {
         "name": "Gls_90",
         "rawType": "float64",
         "type": "float"
        },
        {
         "name": "Ast_90",
         "rawType": "float64",
         "type": "float"
        },
        {
         "name": "G+A_90",
         "rawType": "float64",
         "type": "float"
        },
        {
         "name": "G-PK_90",
         "rawType": "float64",
         "type": "float"
        },
        {
         "name": "G+A-PK_90",
         "rawType": "float64",
         "type": "float"
        },
        {
         "name": "xG_90",
         "rawType": "float64",
         "type": "float"
        },
        {
         "name": "xAG_90",
         "rawType": "float64",
         "type": "float"
        },
        {
         "name": "xG+xAG_90",
         "rawType": "float64",
         "type": "float"
        },
        {
         "name": "npxG_90",
         "rawType": "float64",
         "type": "float"
        },
        {
         "name": "npxG+xAG_90",
         "rawType": "float64",
         "type": "float"
        },
        {
         "name": "Team",
         "rawType": "object",
         "type": "string"
        }
       ],
       "ref": "b729fa55-a533-4015-bbc7-e8d47ba41822",
       "rows": [
        [
         "0",
         "Rodri",
         "es ESP",
         "MF",
         "27.0",
         "34",
         "34",
         "2931.0",
         "32.6",
         "8.0",
         "9.0",
         "17.0",
         "8.0",
         "0.0",
         "0.0",
         "8.0",
         "1.0",
         "4.1",
         "4.1",
         "3.9",
         "8.0",
         "76.0",
         "376.0",
         "55.0",
         "0.25",
         "0.28",
         "0.52",
         "0.25",
         "0.52",
         "0.12",
         "0.12",
         "0.24",
         "0.12",
         "0.24",
         "Manchester City"
        ],
        [
         "1",
         "Phil Foden",
         "eng ENG",
         "FW,MF",
         "23.0",
         "35",
         "33",
         "2857.0",
         "31.7",
         "19.0",
         "8.0",
         "27.0",
         "19.0",
         "0.0",
         "0.0",
         "2.0",
         "0.0",
         "10.3",
         "10.3",
         "8.4",
         "18.7",
         "93.0",
         "168.0",
         "269.0",
         "0.6",
         "0.25",
         "0.85",
         "0.6",
         "0.85",
         "0.33",
         "0.26",
         "0.59",
         "0.33",
         "0.59",
         "Manchester City"
        ],
        [
         "2",
         "Ederson",
         "br BRA",
         "GK",
         "29.0",
         "33",
         "33",
         "2785.0",
         "30.9",
         "0.0",
         "0.0",
         "0.0",
         "0.0",
         "0.0",
         "0.0",
         "5.0",
         "0.0",
         "0.0",
         "0.0",
         "0.1",
         "0.1",
         "0.0",
         "4.0",
         "0.0",
         "0.0",
         "0.0",
         "0.0",
         "0.0",
         "0.0",
         "0.0",
         "0.0",
         "0.0",
         "0.0",
         "0.0",
         "Manchester City"
        ],
        [
         "3",
         "Julián Álvarez",
         "ar ARG",
         "MF,FW",
         "23.0",
         "36",
         "31",
         "2647.0",
         "29.4",
         "11.0",
         "8.0",
         "19.0",
         "9.0",
         "2.0",
         "2.0",
         "2.0",
         "0.0",
         "13.0",
         "11.5",
         "6.4",
         "17.9",
         "64.0",
         "103.0",
         "180.0",
         "0.37",
         "0.27",
         "0.65",
         "0.31",
         "0.58",
         "0.44",
         "0.22",
         "0.66",
         "0.39",
         "0.61",
         "Manchester City"
        ],
        [
         "4",
         "Kyle Walker",
         "eng ENG",
         "DF",
         "33.0",
         "32",
         "30",
         "2767.0",
         "30.7",
         "0.0",
         "4.0",
         "4.0",
         "0.0",
         "0.0",
         "0.0",
         "2.0",
         "0.0",
         "0.4",
         "0.4",
         "2.6",
         "3.0",
         "74.0",
         "157.0",
         "172.0",
         "0.0",
         "0.13",
         "0.13",
         "0.0",
         "0.13",
         "0.01",
         "0.09",
         "0.1",
         "0.01",
         "0.1",
         "Manchester City"
        ]
       ],
       "shape": {
        "columns": 34,
        "rows": 5
       }
      },
      "text/html": [
       "<div>\n",
       "<style scoped>\n",
       "    .dataframe tbody tr th:only-of-type {\n",
       "        vertical-align: middle;\n",
       "    }\n",
       "\n",
       "    .dataframe tbody tr th {\n",
       "        vertical-align: top;\n",
       "    }\n",
       "\n",
       "    .dataframe thead th {\n",
       "        text-align: right;\n",
       "    }\n",
       "</style>\n",
       "<table border=\"1\" class=\"dataframe\">\n",
       "  <thead>\n",
       "    <tr style=\"text-align: right;\">\n",
       "      <th></th>\n",
       "      <th>Player</th>\n",
       "      <th>Nation</th>\n",
       "      <th>Pos</th>\n",
       "      <th>Age</th>\n",
       "      <th>MP</th>\n",
       "      <th>Starts</th>\n",
       "      <th>Min</th>\n",
       "      <th>90s</th>\n",
       "      <th>Gls</th>\n",
       "      <th>Ast</th>\n",
       "      <th>...</th>\n",
       "      <th>Ast_90</th>\n",
       "      <th>G+A_90</th>\n",
       "      <th>G-PK_90</th>\n",
       "      <th>G+A-PK_90</th>\n",
       "      <th>xG_90</th>\n",
       "      <th>xAG_90</th>\n",
       "      <th>xG+xAG_90</th>\n",
       "      <th>npxG_90</th>\n",
       "      <th>npxG+xAG_90</th>\n",
       "      <th>Team</th>\n",
       "    </tr>\n",
       "  </thead>\n",
       "  <tbody>\n",
       "    <tr>\n",
       "      <th>0</th>\n",
       "      <td>Rodri</td>\n",
       "      <td>es ESP</td>\n",
       "      <td>MF</td>\n",
       "      <td>27.0</td>\n",
       "      <td>34</td>\n",
       "      <td>34</td>\n",
       "      <td>2931.0</td>\n",
       "      <td>32.6</td>\n",
       "      <td>8.0</td>\n",
       "      <td>9.0</td>\n",
       "      <td>...</td>\n",
       "      <td>0.28</td>\n",
       "      <td>0.52</td>\n",
       "      <td>0.25</td>\n",
       "      <td>0.52</td>\n",
       "      <td>0.12</td>\n",
       "      <td>0.12</td>\n",
       "      <td>0.24</td>\n",
       "      <td>0.12</td>\n",
       "      <td>0.24</td>\n",
       "      <td>Manchester City</td>\n",
       "    </tr>\n",
       "    <tr>\n",
       "      <th>1</th>\n",
       "      <td>Phil Foden</td>\n",
       "      <td>eng ENG</td>\n",
       "      <td>FW,MF</td>\n",
       "      <td>23.0</td>\n",
       "      <td>35</td>\n",
       "      <td>33</td>\n",
       "      <td>2857.0</td>\n",
       "      <td>31.7</td>\n",
       "      <td>19.0</td>\n",
       "      <td>8.0</td>\n",
       "      <td>...</td>\n",
       "      <td>0.25</td>\n",
       "      <td>0.85</td>\n",
       "      <td>0.60</td>\n",
       "      <td>0.85</td>\n",
       "      <td>0.33</td>\n",
       "      <td>0.26</td>\n",
       "      <td>0.59</td>\n",
       "      <td>0.33</td>\n",
       "      <td>0.59</td>\n",
       "      <td>Manchester City</td>\n",
       "    </tr>\n",
       "    <tr>\n",
       "      <th>2</th>\n",
       "      <td>Ederson</td>\n",
       "      <td>br BRA</td>\n",
       "      <td>GK</td>\n",
       "      <td>29.0</td>\n",
       "      <td>33</td>\n",
       "      <td>33</td>\n",
       "      <td>2785.0</td>\n",
       "      <td>30.9</td>\n",
       "      <td>0.0</td>\n",
       "      <td>0.0</td>\n",
       "      <td>...</td>\n",
       "      <td>0.00</td>\n",
       "      <td>0.00</td>\n",
       "      <td>0.00</td>\n",
       "      <td>0.00</td>\n",
       "      <td>0.00</td>\n",
       "      <td>0.00</td>\n",
       "      <td>0.00</td>\n",
       "      <td>0.00</td>\n",
       "      <td>0.00</td>\n",
       "      <td>Manchester City</td>\n",
       "    </tr>\n",
       "    <tr>\n",
       "      <th>3</th>\n",
       "      <td>Julián Álvarez</td>\n",
       "      <td>ar ARG</td>\n",
       "      <td>MF,FW</td>\n",
       "      <td>23.0</td>\n",
       "      <td>36</td>\n",
       "      <td>31</td>\n",
       "      <td>2647.0</td>\n",
       "      <td>29.4</td>\n",
       "      <td>11.0</td>\n",
       "      <td>8.0</td>\n",
       "      <td>...</td>\n",
       "      <td>0.27</td>\n",
       "      <td>0.65</td>\n",
       "      <td>0.31</td>\n",
       "      <td>0.58</td>\n",
       "      <td>0.44</td>\n",
       "      <td>0.22</td>\n",
       "      <td>0.66</td>\n",
       "      <td>0.39</td>\n",
       "      <td>0.61</td>\n",
       "      <td>Manchester City</td>\n",
       "    </tr>\n",
       "    <tr>\n",
       "      <th>4</th>\n",
       "      <td>Kyle Walker</td>\n",
       "      <td>eng ENG</td>\n",
       "      <td>DF</td>\n",
       "      <td>33.0</td>\n",
       "      <td>32</td>\n",
       "      <td>30</td>\n",
       "      <td>2767.0</td>\n",
       "      <td>30.7</td>\n",
       "      <td>0.0</td>\n",
       "      <td>4.0</td>\n",
       "      <td>...</td>\n",
       "      <td>0.13</td>\n",
       "      <td>0.13</td>\n",
       "      <td>0.00</td>\n",
       "      <td>0.13</td>\n",
       "      <td>0.01</td>\n",
       "      <td>0.09</td>\n",
       "      <td>0.10</td>\n",
       "      <td>0.01</td>\n",
       "      <td>0.10</td>\n",
       "      <td>Manchester City</td>\n",
       "    </tr>\n",
       "  </tbody>\n",
       "</table>\n",
       "<p>5 rows × 34 columns</p>\n",
       "</div>"
      ],
      "text/plain": [
       "           Player   Nation    Pos   Age  MP  Starts     Min   90s   Gls  Ast  \\\n",
       "0           Rodri   es ESP     MF  27.0  34      34  2931.0  32.6   8.0  9.0   \n",
       "1      Phil Foden  eng ENG  FW,MF  23.0  35      33  2857.0  31.7  19.0  8.0   \n",
       "2         Ederson   br BRA     GK  29.0  33      33  2785.0  30.9   0.0  0.0   \n",
       "3  Julián Álvarez   ar ARG  MF,FW  23.0  36      31  2647.0  29.4  11.0  8.0   \n",
       "4     Kyle Walker  eng ENG     DF  33.0  32      30  2767.0  30.7   0.0  4.0   \n",
       "\n",
       "   ...  Ast_90  G+A_90  G-PK_90  G+A-PK_90  xG_90  xAG_90  xG+xAG_90  npxG_90  \\\n",
       "0  ...    0.28    0.52     0.25       0.52   0.12    0.12       0.24     0.12   \n",
       "1  ...    0.25    0.85     0.60       0.85   0.33    0.26       0.59     0.33   \n",
       "2  ...    0.00    0.00     0.00       0.00   0.00    0.00       0.00     0.00   \n",
       "3  ...    0.27    0.65     0.31       0.58   0.44    0.22       0.66     0.39   \n",
       "4  ...    0.13    0.13     0.00       0.13   0.01    0.09       0.10     0.01   \n",
       "\n",
       "   npxG+xAG_90             Team  \n",
       "0         0.24  Manchester City  \n",
       "1         0.59  Manchester City  \n",
       "2         0.00  Manchester City  \n",
       "3         0.61  Manchester City  \n",
       "4         0.10  Manchester City  \n",
       "\n",
       "[5 rows x 34 columns]"
      ]
     },
     "execution_count": 10,
     "metadata": {},
     "output_type": "execute_result"
    }
   ],
   "source": [
    "df.head()"
   ]
  },
  {
   "cell_type": "code",
   "execution_count": 11,
   "id": "a48535ef",
   "metadata": {},
   "outputs": [
    {
     "data": {
      "application/vnd.microsoft.datawrangler.viewer.v0+json": {
       "columns": [
        {
         "name": "index",
         "rawType": "object",
         "type": "string"
        },
        {
         "name": "Age",
         "rawType": "float64",
         "type": "float"
        },
        {
         "name": "MP",
         "rawType": "float64",
         "type": "float"
        },
        {
         "name": "Starts",
         "rawType": "float64",
         "type": "float"
        },
        {
         "name": "Min",
         "rawType": "float64",
         "type": "float"
        },
        {
         "name": "90s",
         "rawType": "float64",
         "type": "float"
        },
        {
         "name": "Gls",
         "rawType": "float64",
         "type": "float"
        },
        {
         "name": "Ast",
         "rawType": "float64",
         "type": "float"
        },
        {
         "name": "G+A",
         "rawType": "float64",
         "type": "float"
        },
        {
         "name": "G-PK",
         "rawType": "float64",
         "type": "float"
        },
        {
         "name": "PK",
         "rawType": "float64",
         "type": "float"
        },
        {
         "name": "PKatt",
         "rawType": "float64",
         "type": "float"
        },
        {
         "name": "CrdY",
         "rawType": "float64",
         "type": "float"
        },
        {
         "name": "CrdR",
         "rawType": "float64",
         "type": "float"
        },
        {
         "name": "xG",
         "rawType": "float64",
         "type": "float"
        },
        {
         "name": "npxG",
         "rawType": "float64",
         "type": "float"
        },
        {
         "name": "xAG",
         "rawType": "float64",
         "type": "float"
        },
        {
         "name": "npxG+xAG",
         "rawType": "float64",
         "type": "float"
        },
        {
         "name": "PrgC",
         "rawType": "float64",
         "type": "float"
        },
        {
         "name": "PrgP",
         "rawType": "float64",
         "type": "float"
        },
        {
         "name": "PrgR",
         "rawType": "float64",
         "type": "float"
        },
        {
         "name": "Gls_90",
         "rawType": "float64",
         "type": "float"
        },
        {
         "name": "Ast_90",
         "rawType": "float64",
         "type": "float"
        },
        {
         "name": "G+A_90",
         "rawType": "float64",
         "type": "float"
        },
        {
         "name": "G-PK_90",
         "rawType": "float64",
         "type": "float"
        },
        {
         "name": "G+A-PK_90",
         "rawType": "float64",
         "type": "float"
        },
        {
         "name": "xG_90",
         "rawType": "float64",
         "type": "float"
        },
        {
         "name": "xAG_90",
         "rawType": "float64",
         "type": "float"
        },
        {
         "name": "xG+xAG_90",
         "rawType": "float64",
         "type": "float"
        },
        {
         "name": "npxG_90",
         "rawType": "float64",
         "type": "float"
        },
        {
         "name": "npxG+xAG_90",
         "rawType": "float64",
         "type": "float"
        }
       ],
       "ref": "6a1a6e06-003f-4216-aa96-0abc1b8474cb",
       "rows": [
        [
         "count",
         "580.0",
         "580.0",
         "580.0",
         "580.0",
         "580.0",
         "580.0",
         "580.0",
         "580.0",
         "580.0",
         "580.0",
         "580.0",
         "580.0",
         "580.0",
         "580.0",
         "580.0",
         "580.0",
         "580.0",
         "580.0",
         "580.0",
         "580.0",
         "580.0",
         "580.0",
         "580.0",
         "580.0",
         "580.0",
         "580.0",
         "580.0",
         "580.0",
         "580.0",
         "580.0"
        ],
        [
         "mean",
         "24.906896551724138",
         "19.627586206896552",
         "14.413793103448276",
         "1294.5844827586207",
         "14.383448275862069",
         "2.0637931034482757",
         "1.4810344827586206",
         "3.5448275862068965",
         "1.8982758620689655",
         "0.16551724137931034",
         "0.18448275862068966",
         "2.85",
         "0.1",
         "2.0760344827586206",
         "1.9296551724137931",
         "1.4937931034482759",
         "3.425689655172414",
         "24.651724137931033",
         "50.58448275862069",
         "50.06206896551724",
         "0.12525862068965518",
         "0.09162068965517242",
         "0.2168103448275862",
         "0.1181551724137931",
         "0.20963793103448278",
         "0.14498275862068966",
         "0.10070689655172414",
         "0.2458448275862069",
         "0.13843103448275862",
         "0.23946551724137932"
        ],
        [
         "std",
         "4.464593468892227",
         "11.832419285578204",
         "11.92642163782579",
         "1024.7203577089638",
         "11.38534199172239",
         "3.621238362782877",
         "2.3607291470835943",
         "5.3913886565081",
         "3.189739128769993",
         "0.7798303088384255",
         "0.8590273899574069",
         "2.8551532055720648",
         "0.31704595047883133",
         "3.402253870270796",
         "2.9779877324175072",
         "2.1153512654209865",
         "4.634031064896755",
         "31.42300534202846",
         "57.027564470209015",
         "68.75718540585268",
         "0.2231609207672346",
         "0.1607026698693904",
         "0.2970848553726084",
         "0.21434209108618033",
         "0.28703542163603846",
         "0.2222249705277417",
         "0.21071311674629026",
         "0.3480036478539549",
         "0.21394748698496927",
         "0.3406311684750709"
        ],
        [
         "min",
         "15.0",
         "1.0",
         "0.0",
         "1.0",
         "0.0",
         "0.0",
         "0.0",
         "0.0",
         "0.0",
         "0.0",
         "0.0",
         "0.0",
         "0.0",
         "0.0",
         "0.0",
         "0.0",
         "0.0",
         "0.0",
         "0.0",
         "0.0",
         "0.0",
         "0.0",
         "0.0",
         "0.0",
         "0.0",
         "0.0",
         "0.0",
         "0.0",
         "0.0",
         "0.0"
        ],
        [
         "25%",
         "21.0",
         "9.0",
         "3.0",
         "342.75",
         "3.775",
         "0.0",
         "0.0",
         "0.0",
         "0.0",
         "0.0",
         "0.0",
         "1.0",
         "0.0",
         "0.1",
         "0.1",
         "0.1",
         "0.2",
         "2.0",
         "5.0",
         "3.0",
         "0.0",
         "0.0",
         "0.0",
         "0.0",
         "0.0",
         "0.0175",
         "0.01",
         "0.06",
         "0.0175",
         "0.06"
        ],
        [
         "50%",
         "25.0",
         "20.0",
         "13.0",
         "1164.0",
         "12.95",
         "1.0",
         "0.0",
         "1.0",
         "1.0",
         "0.0",
         "0.0",
         "2.0",
         "0.0",
         "0.8",
         "0.75",
         "0.7",
         "1.6",
         "13.0",
         "35.0",
         "21.0",
         "0.03",
         "0.0",
         "0.1",
         "0.03",
         "0.1",
         "0.07",
         "0.06",
         "0.14500000000000002",
         "0.07",
         "0.14500000000000002"
        ],
        [
         "75%",
         "28.0",
         "30.0",
         "25.0",
         "2104.25",
         "23.4",
         "2.0",
         "2.0",
         "4.0",
         "2.0",
         "0.0",
         "0.0",
         "4.0",
         "0.0",
         "2.5",
         "2.5",
         "2.0",
         "4.5",
         "34.0",
         "73.0",
         "73.0",
         "0.17",
         "0.13",
         "0.31",
         "0.16",
         "0.3",
         "0.19",
         "0.14",
         "0.37",
         "0.18",
         "0.35"
        ],
        [
         "max",
         "38.0",
         "38.0",
         "38.0",
         "3420.0",
         "38.0",
         "27.0",
         "13.0",
         "33.0",
         "20.0",
         "9.0",
         "9.0",
         "13.0",
         "2.0",
         "29.2",
         "22.9",
         "11.8",
         "27.3",
         "218.0",
         "376.0",
         "508.0",
         "2.65",
         "1.7",
         "2.65",
         "2.65",
         "2.65",
         "3.23",
         "4.44",
         "5.54",
         "3.23",
         "5.54"
        ]
       ],
       "shape": {
        "columns": 30,
        "rows": 8
       }
      },
      "text/html": [
       "<div>\n",
       "<style scoped>\n",
       "    .dataframe tbody tr th:only-of-type {\n",
       "        vertical-align: middle;\n",
       "    }\n",
       "\n",
       "    .dataframe tbody tr th {\n",
       "        vertical-align: top;\n",
       "    }\n",
       "\n",
       "    .dataframe thead th {\n",
       "        text-align: right;\n",
       "    }\n",
       "</style>\n",
       "<table border=\"1\" class=\"dataframe\">\n",
       "  <thead>\n",
       "    <tr style=\"text-align: right;\">\n",
       "      <th></th>\n",
       "      <th>Age</th>\n",
       "      <th>MP</th>\n",
       "      <th>Starts</th>\n",
       "      <th>Min</th>\n",
       "      <th>90s</th>\n",
       "      <th>Gls</th>\n",
       "      <th>Ast</th>\n",
       "      <th>G+A</th>\n",
       "      <th>G-PK</th>\n",
       "      <th>PK</th>\n",
       "      <th>...</th>\n",
       "      <th>Gls_90</th>\n",
       "      <th>Ast_90</th>\n",
       "      <th>G+A_90</th>\n",
       "      <th>G-PK_90</th>\n",
       "      <th>G+A-PK_90</th>\n",
       "      <th>xG_90</th>\n",
       "      <th>xAG_90</th>\n",
       "      <th>xG+xAG_90</th>\n",
       "      <th>npxG_90</th>\n",
       "      <th>npxG+xAG_90</th>\n",
       "    </tr>\n",
       "  </thead>\n",
       "  <tbody>\n",
       "    <tr>\n",
       "      <th>count</th>\n",
       "      <td>580.000000</td>\n",
       "      <td>580.000000</td>\n",
       "      <td>580.000000</td>\n",
       "      <td>580.000000</td>\n",
       "      <td>580.000000</td>\n",
       "      <td>580.000000</td>\n",
       "      <td>580.000000</td>\n",
       "      <td>580.000000</td>\n",
       "      <td>580.000000</td>\n",
       "      <td>580.000000</td>\n",
       "      <td>...</td>\n",
       "      <td>580.000000</td>\n",
       "      <td>580.000000</td>\n",
       "      <td>580.000000</td>\n",
       "      <td>580.000000</td>\n",
       "      <td>580.000000</td>\n",
       "      <td>580.000000</td>\n",
       "      <td>580.000000</td>\n",
       "      <td>580.000000</td>\n",
       "      <td>580.000000</td>\n",
       "      <td>580.000000</td>\n",
       "    </tr>\n",
       "    <tr>\n",
       "      <th>mean</th>\n",
       "      <td>24.906897</td>\n",
       "      <td>19.627586</td>\n",
       "      <td>14.413793</td>\n",
       "      <td>1294.584483</td>\n",
       "      <td>14.383448</td>\n",
       "      <td>2.063793</td>\n",
       "      <td>1.481034</td>\n",
       "      <td>3.544828</td>\n",
       "      <td>1.898276</td>\n",
       "      <td>0.165517</td>\n",
       "      <td>...</td>\n",
       "      <td>0.125259</td>\n",
       "      <td>0.091621</td>\n",
       "      <td>0.216810</td>\n",
       "      <td>0.118155</td>\n",
       "      <td>0.209638</td>\n",
       "      <td>0.144983</td>\n",
       "      <td>0.100707</td>\n",
       "      <td>0.245845</td>\n",
       "      <td>0.138431</td>\n",
       "      <td>0.239466</td>\n",
       "    </tr>\n",
       "    <tr>\n",
       "      <th>std</th>\n",
       "      <td>4.464593</td>\n",
       "      <td>11.832419</td>\n",
       "      <td>11.926422</td>\n",
       "      <td>1024.720358</td>\n",
       "      <td>11.385342</td>\n",
       "      <td>3.621238</td>\n",
       "      <td>2.360729</td>\n",
       "      <td>5.391389</td>\n",
       "      <td>3.189739</td>\n",
       "      <td>0.779830</td>\n",
       "      <td>...</td>\n",
       "      <td>0.223161</td>\n",
       "      <td>0.160703</td>\n",
       "      <td>0.297085</td>\n",
       "      <td>0.214342</td>\n",
       "      <td>0.287035</td>\n",
       "      <td>0.222225</td>\n",
       "      <td>0.210713</td>\n",
       "      <td>0.348004</td>\n",
       "      <td>0.213947</td>\n",
       "      <td>0.340631</td>\n",
       "    </tr>\n",
       "    <tr>\n",
       "      <th>min</th>\n",
       "      <td>15.000000</td>\n",
       "      <td>1.000000</td>\n",
       "      <td>0.000000</td>\n",
       "      <td>1.000000</td>\n",
       "      <td>0.000000</td>\n",
       "      <td>0.000000</td>\n",
       "      <td>0.000000</td>\n",
       "      <td>0.000000</td>\n",
       "      <td>0.000000</td>\n",
       "      <td>0.000000</td>\n",
       "      <td>...</td>\n",
       "      <td>0.000000</td>\n",
       "      <td>0.000000</td>\n",
       "      <td>0.000000</td>\n",
       "      <td>0.000000</td>\n",
       "      <td>0.000000</td>\n",
       "      <td>0.000000</td>\n",
       "      <td>0.000000</td>\n",
       "      <td>0.000000</td>\n",
       "      <td>0.000000</td>\n",
       "      <td>0.000000</td>\n",
       "    </tr>\n",
       "    <tr>\n",
       "      <th>25%</th>\n",
       "      <td>21.000000</td>\n",
       "      <td>9.000000</td>\n",
       "      <td>3.000000</td>\n",
       "      <td>342.750000</td>\n",
       "      <td>3.775000</td>\n",
       "      <td>0.000000</td>\n",
       "      <td>0.000000</td>\n",
       "      <td>0.000000</td>\n",
       "      <td>0.000000</td>\n",
       "      <td>0.000000</td>\n",
       "      <td>...</td>\n",
       "      <td>0.000000</td>\n",
       "      <td>0.000000</td>\n",
       "      <td>0.000000</td>\n",
       "      <td>0.000000</td>\n",
       "      <td>0.000000</td>\n",
       "      <td>0.017500</td>\n",
       "      <td>0.010000</td>\n",
       "      <td>0.060000</td>\n",
       "      <td>0.017500</td>\n",
       "      <td>0.060000</td>\n",
       "    </tr>\n",
       "    <tr>\n",
       "      <th>50%</th>\n",
       "      <td>25.000000</td>\n",
       "      <td>20.000000</td>\n",
       "      <td>13.000000</td>\n",
       "      <td>1164.000000</td>\n",
       "      <td>12.950000</td>\n",
       "      <td>1.000000</td>\n",
       "      <td>0.000000</td>\n",
       "      <td>1.000000</td>\n",
       "      <td>1.000000</td>\n",
       "      <td>0.000000</td>\n",
       "      <td>...</td>\n",
       "      <td>0.030000</td>\n",
       "      <td>0.000000</td>\n",
       "      <td>0.100000</td>\n",
       "      <td>0.030000</td>\n",
       "      <td>0.100000</td>\n",
       "      <td>0.070000</td>\n",
       "      <td>0.060000</td>\n",
       "      <td>0.145000</td>\n",
       "      <td>0.070000</td>\n",
       "      <td>0.145000</td>\n",
       "    </tr>\n",
       "    <tr>\n",
       "      <th>75%</th>\n",
       "      <td>28.000000</td>\n",
       "      <td>30.000000</td>\n",
       "      <td>25.000000</td>\n",
       "      <td>2104.250000</td>\n",
       "      <td>23.400000</td>\n",
       "      <td>2.000000</td>\n",
       "      <td>2.000000</td>\n",
       "      <td>4.000000</td>\n",
       "      <td>2.000000</td>\n",
       "      <td>0.000000</td>\n",
       "      <td>...</td>\n",
       "      <td>0.170000</td>\n",
       "      <td>0.130000</td>\n",
       "      <td>0.310000</td>\n",
       "      <td>0.160000</td>\n",
       "      <td>0.300000</td>\n",
       "      <td>0.190000</td>\n",
       "      <td>0.140000</td>\n",
       "      <td>0.370000</td>\n",
       "      <td>0.180000</td>\n",
       "      <td>0.350000</td>\n",
       "    </tr>\n",
       "    <tr>\n",
       "      <th>max</th>\n",
       "      <td>38.000000</td>\n",
       "      <td>38.000000</td>\n",
       "      <td>38.000000</td>\n",
       "      <td>3420.000000</td>\n",
       "      <td>38.000000</td>\n",
       "      <td>27.000000</td>\n",
       "      <td>13.000000</td>\n",
       "      <td>33.000000</td>\n",
       "      <td>20.000000</td>\n",
       "      <td>9.000000</td>\n",
       "      <td>...</td>\n",
       "      <td>2.650000</td>\n",
       "      <td>1.700000</td>\n",
       "      <td>2.650000</td>\n",
       "      <td>2.650000</td>\n",
       "      <td>2.650000</td>\n",
       "      <td>3.230000</td>\n",
       "      <td>4.440000</td>\n",
       "      <td>5.540000</td>\n",
       "      <td>3.230000</td>\n",
       "      <td>5.540000</td>\n",
       "    </tr>\n",
       "  </tbody>\n",
       "</table>\n",
       "<p>8 rows × 30 columns</p>\n",
       "</div>"
      ],
      "text/plain": [
       "              Age          MP      Starts          Min         90s  \\\n",
       "count  580.000000  580.000000  580.000000   580.000000  580.000000   \n",
       "mean    24.906897   19.627586   14.413793  1294.584483   14.383448   \n",
       "std      4.464593   11.832419   11.926422  1024.720358   11.385342   \n",
       "min     15.000000    1.000000    0.000000     1.000000    0.000000   \n",
       "25%     21.000000    9.000000    3.000000   342.750000    3.775000   \n",
       "50%     25.000000   20.000000   13.000000  1164.000000   12.950000   \n",
       "75%     28.000000   30.000000   25.000000  2104.250000   23.400000   \n",
       "max     38.000000   38.000000   38.000000  3420.000000   38.000000   \n",
       "\n",
       "              Gls         Ast         G+A        G-PK          PK  ...  \\\n",
       "count  580.000000  580.000000  580.000000  580.000000  580.000000  ...   \n",
       "mean     2.063793    1.481034    3.544828    1.898276    0.165517  ...   \n",
       "std      3.621238    2.360729    5.391389    3.189739    0.779830  ...   \n",
       "min      0.000000    0.000000    0.000000    0.000000    0.000000  ...   \n",
       "25%      0.000000    0.000000    0.000000    0.000000    0.000000  ...   \n",
       "50%      1.000000    0.000000    1.000000    1.000000    0.000000  ...   \n",
       "75%      2.000000    2.000000    4.000000    2.000000    0.000000  ...   \n",
       "max     27.000000   13.000000   33.000000   20.000000    9.000000  ...   \n",
       "\n",
       "           Gls_90      Ast_90      G+A_90     G-PK_90   G+A-PK_90       xG_90  \\\n",
       "count  580.000000  580.000000  580.000000  580.000000  580.000000  580.000000   \n",
       "mean     0.125259    0.091621    0.216810    0.118155    0.209638    0.144983   \n",
       "std      0.223161    0.160703    0.297085    0.214342    0.287035    0.222225   \n",
       "min      0.000000    0.000000    0.000000    0.000000    0.000000    0.000000   \n",
       "25%      0.000000    0.000000    0.000000    0.000000    0.000000    0.017500   \n",
       "50%      0.030000    0.000000    0.100000    0.030000    0.100000    0.070000   \n",
       "75%      0.170000    0.130000    0.310000    0.160000    0.300000    0.190000   \n",
       "max      2.650000    1.700000    2.650000    2.650000    2.650000    3.230000   \n",
       "\n",
       "           xAG_90   xG+xAG_90     npxG_90  npxG+xAG_90  \n",
       "count  580.000000  580.000000  580.000000   580.000000  \n",
       "mean     0.100707    0.245845    0.138431     0.239466  \n",
       "std      0.210713    0.348004    0.213947     0.340631  \n",
       "min      0.000000    0.000000    0.000000     0.000000  \n",
       "25%      0.010000    0.060000    0.017500     0.060000  \n",
       "50%      0.060000    0.145000    0.070000     0.145000  \n",
       "75%      0.140000    0.370000    0.180000     0.350000  \n",
       "max      4.440000    5.540000    3.230000     5.540000  \n",
       "\n",
       "[8 rows x 30 columns]"
      ]
     },
     "execution_count": 11,
     "metadata": {},
     "output_type": "execute_result"
    }
   ],
   "source": [
    "df.describe()\n"
   ]
  },
  {
   "cell_type": "markdown",
   "id": "7a3ffd91",
   "metadata": {},
   "source": [
    "### Data Cleaning Techniques\n",
    "Two methods for missing entries:\n",
    "* `Dropping`\n",
    "* `Impute` - fill in with the mean of that column\n",
    "           - fill in with the mode of the column\n",
    "           - fill in with placeholder (**Nan** ----> `None`)"
   ]
  },
  {
   "cell_type": "code",
   "execution_count": 34,
   "id": "42290c97",
   "metadata": {},
   "outputs": [
    {
     "data": {
      "application/vnd.microsoft.datawrangler.viewer.v0+json": {
       "columns": [
        {
         "name": "index",
         "rawType": "int64",
         "type": "integer"
        },
        {
         "name": "Name",
         "rawType": "object",
         "type": "unknown"
        },
        {
         "name": "Age",
         "rawType": "float64",
         "type": "float"
        },
        {
         "name": "City",
         "rawType": "object",
         "type": "unknown"
        }
       ],
       "ref": "cc60dc6a-6cb2-40dc-82c0-9cc3904fc484",
       "rows": [
        [
         "0",
         "Alice",
         "25.0",
         "Nairobi"
        ],
        [
         "1",
         "Bob",
         null,
         "Kampala"
        ],
        [
         "2",
         "Charlie",
         "30.0",
         null
        ],
        [
         "3",
         null,
         "22.0",
         "Nairobi"
        ],
        [
         "4",
         "Jane",
         "22.0",
         "Kampala"
        ],
        [
         "5",
         "Peter",
         null,
         "Nairobi"
        ]
       ],
       "shape": {
        "columns": 3,
        "rows": 6
       }
      },
      "text/html": [
       "<div>\n",
       "<style scoped>\n",
       "    .dataframe tbody tr th:only-of-type {\n",
       "        vertical-align: middle;\n",
       "    }\n",
       "\n",
       "    .dataframe tbody tr th {\n",
       "        vertical-align: top;\n",
       "    }\n",
       "\n",
       "    .dataframe thead th {\n",
       "        text-align: right;\n",
       "    }\n",
       "</style>\n",
       "<table border=\"1\" class=\"dataframe\">\n",
       "  <thead>\n",
       "    <tr style=\"text-align: right;\">\n",
       "      <th></th>\n",
       "      <th>Name</th>\n",
       "      <th>Age</th>\n",
       "      <th>City</th>\n",
       "    </tr>\n",
       "  </thead>\n",
       "  <tbody>\n",
       "    <tr>\n",
       "      <th>0</th>\n",
       "      <td>Alice</td>\n",
       "      <td>25.0</td>\n",
       "      <td>Nairobi</td>\n",
       "    </tr>\n",
       "    <tr>\n",
       "      <th>1</th>\n",
       "      <td>Bob</td>\n",
       "      <td>NaN</td>\n",
       "      <td>Kampala</td>\n",
       "    </tr>\n",
       "    <tr>\n",
       "      <th>2</th>\n",
       "      <td>Charlie</td>\n",
       "      <td>30.0</td>\n",
       "      <td>None</td>\n",
       "    </tr>\n",
       "    <tr>\n",
       "      <th>3</th>\n",
       "      <td>None</td>\n",
       "      <td>22.0</td>\n",
       "      <td>Nairobi</td>\n",
       "    </tr>\n",
       "    <tr>\n",
       "      <th>4</th>\n",
       "      <td>Jane</td>\n",
       "      <td>22.0</td>\n",
       "      <td>Kampala</td>\n",
       "    </tr>\n",
       "    <tr>\n",
       "      <th>5</th>\n",
       "      <td>Peter</td>\n",
       "      <td>NaN</td>\n",
       "      <td>Nairobi</td>\n",
       "    </tr>\n",
       "  </tbody>\n",
       "</table>\n",
       "</div>"
      ],
      "text/plain": [
       "      Name   Age     City\n",
       "0    Alice  25.0  Nairobi\n",
       "1      Bob   NaN  Kampala\n",
       "2  Charlie  30.0     None\n",
       "3     None  22.0  Nairobi\n",
       "4     Jane  22.0  Kampala\n",
       "5    Peter   NaN  Nairobi"
      ]
     },
     "execution_count": 34,
     "metadata": {},
     "output_type": "execute_result"
    }
   ],
   "source": [
    "import pandas as pd\n",
    "import numpy as np\n",
    "\n",
    "\n",
    "data = {\n",
    "    'Name': ['Alice', 'Bob', 'Charlie', None, 'Jane', 'Peter'],\n",
    "    'Age': [25, np.nan, 30, 22, 22, np.nan],\n",
    "    'City': ['Nairobi', 'Kampala', None, 'Nairobi', 'Kampala', 'Nairobi']\n",
    "}\n",
    "data = pd.DataFrame(data)\n",
    "data\n"
   ]
  },
  {
   "cell_type": "code",
   "execution_count": 4,
   "id": "c4df2299",
   "metadata": {},
   "outputs": [
    {
     "data": {
      "application/vnd.microsoft.datawrangler.viewer.v0+json": {
       "columns": [
        {
         "name": "index",
         "rawType": "int64",
         "type": "integer"
        },
        {
         "name": "Name",
         "rawType": "object",
         "type": "string"
        },
        {
         "name": "Age",
         "rawType": "float64",
         "type": "float"
        },
        {
         "name": "City",
         "rawType": "object",
         "type": "string"
        }
       ],
       "ref": "eeb61efd-49bc-49ea-af6c-1177d0e48254",
       "rows": [
        [
         "0",
         "Alice",
         "25.0",
         "Nairobi"
        ]
       ],
       "shape": {
        "columns": 3,
        "rows": 1
       }
      },
      "text/html": [
       "<div>\n",
       "<style scoped>\n",
       "    .dataframe tbody tr th:only-of-type {\n",
       "        vertical-align: middle;\n",
       "    }\n",
       "\n",
       "    .dataframe tbody tr th {\n",
       "        vertical-align: top;\n",
       "    }\n",
       "\n",
       "    .dataframe thead th {\n",
       "        text-align: right;\n",
       "    }\n",
       "</style>\n",
       "<table border=\"1\" class=\"dataframe\">\n",
       "  <thead>\n",
       "    <tr style=\"text-align: right;\">\n",
       "      <th></th>\n",
       "      <th>Name</th>\n",
       "      <th>Age</th>\n",
       "      <th>City</th>\n",
       "    </tr>\n",
       "  </thead>\n",
       "  <tbody>\n",
       "    <tr>\n",
       "      <th>0</th>\n",
       "      <td>Alice</td>\n",
       "      <td>25.0</td>\n",
       "      <td>Nairobi</td>\n",
       "    </tr>\n",
       "  </tbody>\n",
       "</table>\n",
       "</div>"
      ],
      "text/plain": [
       "    Name   Age     City\n",
       "0  Alice  25.0  Nairobi"
      ]
     },
     "execution_count": 4,
     "metadata": {},
     "output_type": "execute_result"
    }
   ],
   "source": [
    "dropped_data = data.dropna()\n",
    "\n",
    "dropped_data"
   ]
  },
  {
   "cell_type": "code",
   "execution_count": 8,
   "id": "7c286ccf",
   "metadata": {},
   "outputs": [
    {
     "data": {
      "application/vnd.microsoft.datawrangler.viewer.v0+json": {
       "columns": [
        {
         "name": "index",
         "rawType": "int64",
         "type": "integer"
        },
        {
         "name": "Name",
         "rawType": "object",
         "type": "unknown"
        },
        {
         "name": "Age",
         "rawType": "float64",
         "type": "float"
        },
        {
         "name": "City",
         "rawType": "object",
         "type": "string"
        }
       ],
       "ref": "450bab70-a750-44b6-b0e4-b64970e23efd",
       "rows": [
        [
         "0",
         "Alice",
         "25.0",
         "Nairobi"
        ],
        [
         "1",
         "Bob",
         null,
         "Kampala"
        ],
        [
         "3",
         null,
         "22.0",
         "Nairobi"
        ]
       ],
       "shape": {
        "columns": 3,
        "rows": 3
       }
      },
      "text/html": [
       "<div>\n",
       "<style scoped>\n",
       "    .dataframe tbody tr th:only-of-type {\n",
       "        vertical-align: middle;\n",
       "    }\n",
       "\n",
       "    .dataframe tbody tr th {\n",
       "        vertical-align: top;\n",
       "    }\n",
       "\n",
       "    .dataframe thead th {\n",
       "        text-align: right;\n",
       "    }\n",
       "</style>\n",
       "<table border=\"1\" class=\"dataframe\">\n",
       "  <thead>\n",
       "    <tr style=\"text-align: right;\">\n",
       "      <th></th>\n",
       "      <th>Name</th>\n",
       "      <th>Age</th>\n",
       "      <th>City</th>\n",
       "    </tr>\n",
       "  </thead>\n",
       "  <tbody>\n",
       "    <tr>\n",
       "      <th>0</th>\n",
       "      <td>Alice</td>\n",
       "      <td>25.0</td>\n",
       "      <td>Nairobi</td>\n",
       "    </tr>\n",
       "    <tr>\n",
       "      <th>1</th>\n",
       "      <td>Bob</td>\n",
       "      <td>NaN</td>\n",
       "      <td>Kampala</td>\n",
       "    </tr>\n",
       "    <tr>\n",
       "      <th>3</th>\n",
       "      <td>None</td>\n",
       "      <td>22.0</td>\n",
       "      <td>Nairobi</td>\n",
       "    </tr>\n",
       "  </tbody>\n",
       "</table>\n",
       "</div>"
      ],
      "text/plain": [
       "    Name   Age     City\n",
       "0  Alice  25.0  Nairobi\n",
       "1    Bob   NaN  Kampala\n",
       "3   None  22.0  Nairobi"
      ]
     },
     "execution_count": 8,
     "metadata": {},
     "output_type": "execute_result"
    }
   ],
   "source": [
    "people_without_cities = data.dropna(subset=['City'])\n",
    "\n",
    "people_without_cities"
   ]
  },
  {
   "cell_type": "markdown",
   "id": "76c64a07",
   "metadata": {},
   "source": [
    "Drop people without age"
   ]
  },
  {
   "cell_type": "code",
   "execution_count": 9,
   "id": "32182b1c",
   "metadata": {},
   "outputs": [
    {
     "data": {
      "application/vnd.microsoft.datawrangler.viewer.v0+json": {
       "columns": [
        {
         "name": "index",
         "rawType": "int64",
         "type": "integer"
        },
        {
         "name": "Name",
         "rawType": "object",
         "type": "unknown"
        },
        {
         "name": "Age",
         "rawType": "float64",
         "type": "float"
        },
        {
         "name": "City",
         "rawType": "object",
         "type": "unknown"
        }
       ],
       "ref": "6c43b6f3-3c9d-451a-ad9d-dd11f0646c16",
       "rows": [
        [
         "0",
         "Alice",
         "25.0",
         "Nairobi"
        ],
        [
         "2",
         "Charlie",
         "30.0",
         null
        ],
        [
         "3",
         null,
         "22.0",
         "Nairobi"
        ]
       ],
       "shape": {
        "columns": 3,
        "rows": 3
       }
      },
      "text/html": [
       "<div>\n",
       "<style scoped>\n",
       "    .dataframe tbody tr th:only-of-type {\n",
       "        vertical-align: middle;\n",
       "    }\n",
       "\n",
       "    .dataframe tbody tr th {\n",
       "        vertical-align: top;\n",
       "    }\n",
       "\n",
       "    .dataframe thead th {\n",
       "        text-align: right;\n",
       "    }\n",
       "</style>\n",
       "<table border=\"1\" class=\"dataframe\">\n",
       "  <thead>\n",
       "    <tr style=\"text-align: right;\">\n",
       "      <th></th>\n",
       "      <th>Name</th>\n",
       "      <th>Age</th>\n",
       "      <th>City</th>\n",
       "    </tr>\n",
       "  </thead>\n",
       "  <tbody>\n",
       "    <tr>\n",
       "      <th>0</th>\n",
       "      <td>Alice</td>\n",
       "      <td>25.0</td>\n",
       "      <td>Nairobi</td>\n",
       "    </tr>\n",
       "    <tr>\n",
       "      <th>2</th>\n",
       "      <td>Charlie</td>\n",
       "      <td>30.0</td>\n",
       "      <td>None</td>\n",
       "    </tr>\n",
       "    <tr>\n",
       "      <th>3</th>\n",
       "      <td>None</td>\n",
       "      <td>22.0</td>\n",
       "      <td>Nairobi</td>\n",
       "    </tr>\n",
       "  </tbody>\n",
       "</table>\n",
       "</div>"
      ],
      "text/plain": [
       "      Name   Age     City\n",
       "0    Alice  25.0  Nairobi\n",
       "2  Charlie  30.0     None\n",
       "3     None  22.0  Nairobi"
      ]
     },
     "execution_count": 9,
     "metadata": {},
     "output_type": "execute_result"
    }
   ],
   "source": [
    "people_without_age = data.dropna(subset=['Age'])\n",
    "\n",
    "people_without_age"
   ]
  },
  {
   "cell_type": "markdown",
   "id": "5e69f0c7",
   "metadata": {},
   "source": [
    "Drop based on two columns."
   ]
  },
  {
   "cell_type": "code",
   "execution_count": 10,
   "id": "40265ccf",
   "metadata": {},
   "outputs": [
    {
     "data": {
      "application/vnd.microsoft.datawrangler.viewer.v0+json": {
       "columns": [
        {
         "name": "index",
         "rawType": "int64",
         "type": "integer"
        },
        {
         "name": "Name",
         "rawType": "object",
         "type": "string"
        },
        {
         "name": "Age",
         "rawType": "float64",
         "type": "float"
        },
        {
         "name": "City",
         "rawType": "object",
         "type": "unknown"
        }
       ],
       "ref": "eb23bafe-3510-4b6c-bfd2-38899648db48",
       "rows": [
        [
         "0",
         "Alice",
         "25.0",
         "Nairobi"
        ],
        [
         "2",
         "Charlie",
         "30.0",
         null
        ]
       ],
       "shape": {
        "columns": 3,
        "rows": 2
       }
      },
      "text/html": [
       "<div>\n",
       "<style scoped>\n",
       "    .dataframe tbody tr th:only-of-type {\n",
       "        vertical-align: middle;\n",
       "    }\n",
       "\n",
       "    .dataframe tbody tr th {\n",
       "        vertical-align: top;\n",
       "    }\n",
       "\n",
       "    .dataframe thead th {\n",
       "        text-align: right;\n",
       "    }\n",
       "</style>\n",
       "<table border=\"1\" class=\"dataframe\">\n",
       "  <thead>\n",
       "    <tr style=\"text-align: right;\">\n",
       "      <th></th>\n",
       "      <th>Name</th>\n",
       "      <th>Age</th>\n",
       "      <th>City</th>\n",
       "    </tr>\n",
       "  </thead>\n",
       "  <tbody>\n",
       "    <tr>\n",
       "      <th>0</th>\n",
       "      <td>Alice</td>\n",
       "      <td>25.0</td>\n",
       "      <td>Nairobi</td>\n",
       "    </tr>\n",
       "    <tr>\n",
       "      <th>2</th>\n",
       "      <td>Charlie</td>\n",
       "      <td>30.0</td>\n",
       "      <td>None</td>\n",
       "    </tr>\n",
       "  </tbody>\n",
       "</table>\n",
       "</div>"
      ],
      "text/plain": [
       "      Name   Age     City\n",
       "0    Alice  25.0  Nairobi\n",
       "2  Charlie  30.0     None"
      ]
     },
     "execution_count": 10,
     "metadata": {},
     "output_type": "execute_result"
    }
   ],
   "source": [
    "people_without_age_name = data.dropna(subset=['Name', 'Age'])\n",
    "\n",
    "people_without_age_name"
   ]
  },
  {
   "cell_type": "code",
   "execution_count": null,
   "id": "7487ddab",
   "metadata": {},
   "outputs": [],
   "source": []
  },
  {
   "cell_type": "markdown",
   "id": "fc6f0e10",
   "metadata": {},
   "source": [
    "Filling in null entries with a fixed value.(Value that we had in mind is what we use to fill.)"
   ]
  },
  {
   "cell_type": "code",
   "execution_count": 19,
   "metadata": {},
   "outputs": [
    {
     "data": {
      "application/vnd.microsoft.datawrangler.viewer.v0+json": {
       "columns": [
        {
         "name": "index",
         "rawType": "int64",
         "type": "integer"
        },
        {
         "name": "Name",
         "rawType": "object",
         "type": "string"
        },
        {
         "name": "Age",
         "rawType": "float64",
         "type": "float"
        },
        {
         "name": "City",
         "rawType": "object",
         "type": "unknown"
        }
       ],
       "ref": "392ad682-cb02-43c9-b839-bcb072891219",
       "rows": [
        [
         "0",
         "Alice",
         "25.0",
         "Nairobi"
        ],
        [
         "1",
         "Bob",
         null,
         "Kampala"
        ],
        [
         "2",
         "Charlie",
         "30.0",
         null
        ],
        [
         "3",
         "Brian",
         "22.0",
         "Nairobi"
        ]
       ],
       "shape": {
        "columns": 3,
        "rows": 4
       }
      },
      "text/html": [
       "<div>\n",
       "<style scoped>\n",
       "    .dataframe tbody tr th:only-of-type {\n",
       "        vertical-align: middle;\n",
       "    }\n",
       "\n",
       "    .dataframe tbody tr th {\n",
       "        vertical-align: top;\n",
       "    }\n",
       "\n",
       "    .dataframe thead th {\n",
       "        text-align: right;\n",
       "    }\n",
       "</style>\n",
       "<table border=\"1\" class=\"dataframe\">\n",
       "  <thead>\n",
       "    <tr style=\"text-align: right;\">\n",
       "      <th></th>\n",
       "      <th>Name</th>\n",
       "      <th>Age</th>\n",
       "      <th>City</th>\n",
       "    </tr>\n",
       "  </thead>\n",
       "  <tbody>\n",
       "    <tr>\n",
       "      <th>0</th>\n",
       "      <td>Alice</td>\n",
       "      <td>25.0</td>\n",
       "      <td>Nairobi</td>\n",
       "    </tr>\n",
       "    <tr>\n",
       "      <th>1</th>\n",
       "      <td>Bob</td>\n",
       "      <td>NaN</td>\n",
       "      <td>Kampala</td>\n",
       "    </tr>\n",
       "    <tr>\n",
       "      <th>2</th>\n",
       "      <td>Charlie</td>\n",
       "      <td>30.0</td>\n",
       "      <td>None</td>\n",
       "    </tr>\n",
       "    <tr>\n",
       "      <th>3</th>\n",
       "      <td>Brian</td>\n",
       "      <td>22.0</td>\n",
       "      <td>Nairobi</td>\n",
       "    </tr>\n",
       "  </tbody>\n",
       "</table>\n",
       "</div>"
      ],
      "text/plain": [
       "      Name   Age     City\n",
       "0    Alice  25.0  Nairobi\n",
       "1      Bob   NaN  Kampala\n",
       "2  Charlie  30.0     None\n",
       "3    Brian  22.0  Nairobi"
      ]
     },
     "execution_count": 19,
     "metadata": {},
     "output_type": "execute_result"
    }
   ],
   "source": [
    "data_copy = data.copy()\n",
    "\n",
    "data_copy['Name'] = data_copy['Name'].fillna('Brian')\n",
    "\n",
    "data_copy"
   ]
  },
  {
   "cell_type": "code",
   "execution_count": 21,
   "id": "307bb90a",
   "metadata": {},
   "outputs": [
    {
     "name": "stdout",
     "output_type": "stream",
     "text": [
      "<class 'pandas.core.frame.DataFrame'>\n",
      "RangeIndex: 4 entries, 0 to 3\n",
      "Data columns (total 3 columns):\n",
      " #   Column  Non-Null Count  Dtype  \n",
      "---  ------  --------------  -----  \n",
      " 0   Name    3 non-null      object \n",
      " 1   Age     3 non-null      float64\n",
      " 2   City    3 non-null      object \n",
      "dtypes: float64(1), object(2)\n",
      "memory usage: 228.0+ bytes\n"
     ]
    }
   ],
   "source": [
    "data.info()"
   ]
  },
  {
   "cell_type": "code",
   "execution_count": 26,
   "metadata": {},
   "outputs": [
    {
     "data": {
      "application/vnd.microsoft.datawrangler.viewer.v0+json": {
       "columns": [
        {
         "name": "index",
         "rawType": "int64",
         "type": "integer"
        },
        {
         "name": "Name",
         "rawType": "object",
         "type": "unknown"
        },
        {
         "name": "Age",
         "rawType": "float64",
         "type": "float"
        },
        {
         "name": "City",
         "rawType": "object",
         "type": "unknown"
        }
       ],
       "ref": "e83cc19f-76c2-4612-914b-8c6d72e6c157",
       "rows": [
        [
         "0",
         "Alice",
         "25.0",
         "Nairobi"
        ],
        [
         "1",
         "Bob",
         "22.0",
         "Kampala"
        ],
        [
         "2",
         "Charlie",
         "30.0",
         null
        ],
        [
         "3",
         null,
         "22.0",
         "Nairobi"
        ]
       ],
       "shape": {
        "columns": 3,
        "rows": 4
       }
      },
      "text/html": [
       "<div>\n",
       "<style scoped>\n",
       "    .dataframe tbody tr th:only-of-type {\n",
       "        vertical-align: middle;\n",
       "    }\n",
       "\n",
       "    .dataframe tbody tr th {\n",
       "        vertical-align: top;\n",
       "    }\n",
       "\n",
       "    .dataframe thead th {\n",
       "        text-align: right;\n",
       "    }\n",
       "</style>\n",
       "<table border=\"1\" class=\"dataframe\">\n",
       "  <thead>\n",
       "    <tr style=\"text-align: right;\">\n",
       "      <th></th>\n",
       "      <th>Name</th>\n",
       "      <th>Age</th>\n",
       "      <th>City</th>\n",
       "    </tr>\n",
       "  </thead>\n",
       "  <tbody>\n",
       "    <tr>\n",
       "      <th>0</th>\n",
       "      <td>Alice</td>\n",
       "      <td>25.0</td>\n",
       "      <td>Nairobi</td>\n",
       "    </tr>\n",
       "    <tr>\n",
       "      <th>1</th>\n",
       "      <td>Bob</td>\n",
       "      <td>22.0</td>\n",
       "      <td>Kampala</td>\n",
       "    </tr>\n",
       "    <tr>\n",
       "      <th>2</th>\n",
       "      <td>Charlie</td>\n",
       "      <td>30.0</td>\n",
       "      <td>None</td>\n",
       "    </tr>\n",
       "    <tr>\n",
       "      <th>3</th>\n",
       "      <td>None</td>\n",
       "      <td>22.0</td>\n",
       "      <td>Nairobi</td>\n",
       "    </tr>\n",
       "  </tbody>\n",
       "</table>\n",
       "</div>"
      ],
      "text/plain": [
       "      Name   Age     City\n",
       "0    Alice  25.0  Nairobi\n",
       "1      Bob  22.0  Kampala\n",
       "2  Charlie  30.0     None\n",
       "3     None  22.0  Nairobi"
      ]
     },
     "execution_count": 26,
     "metadata": {},
     "output_type": "execute_result"
    }
   ],
   "source": [
    "data_copy = data.copy()\n",
    "\n",
    "data_copy['Age'] = data_copy['Age'].fillna(22)\n",
    "\n",
    "data_copy\n"
   ]
  },
  {
   "cell_type": "markdown",
   "id": "e16fc2a9",
   "metadata": {},
   "source": [
    "Filling out null entries with the mean."
   ]
  },
  {
   "cell_type": "code",
   "execution_count": 29,
   "metadata": {},
   "outputs": [
    {
     "data": {
      "application/vnd.microsoft.datawrangler.viewer.v0+json": {
       "columns": [
        {
         "name": "index",
         "rawType": "int64",
         "type": "integer"
        },
        {
         "name": "Name",
         "rawType": "object",
         "type": "unknown"
        },
        {
         "name": "Age",
         "rawType": "float64",
         "type": "float"
        },
        {
         "name": "City",
         "rawType": "object",
         "type": "unknown"
        }
       ],
       "ref": "51aa60f9-236a-425c-bb6c-cde818312a8b",
       "rows": [
        [
         "0",
         "Alice",
         "25.0",
         "Nairobi"
        ],
        [
         "1",
         "Bob",
         "25.7",
         "Kampala"
        ],
        [
         "2",
         "Charlie",
         "30.0",
         null
        ],
        [
         "3",
         null,
         "22.0",
         "Nairobi"
        ]
       ],
       "shape": {
        "columns": 3,
        "rows": 4
       }
      },
      "text/html": [
       "<div>\n",
       "<style scoped>\n",
       "    .dataframe tbody tr th:only-of-type {\n",
       "        vertical-align: middle;\n",
       "    }\n",
       "\n",
       "    .dataframe tbody tr th {\n",
       "        vertical-align: top;\n",
       "    }\n",
       "\n",
       "    .dataframe thead th {\n",
       "        text-align: right;\n",
       "    }\n",
       "</style>\n",
       "<table border=\"1\" class=\"dataframe\">\n",
       "  <thead>\n",
       "    <tr style=\"text-align: right;\">\n",
       "      <th></th>\n",
       "      <th>Name</th>\n",
       "      <th>Age</th>\n",
       "      <th>City</th>\n",
       "    </tr>\n",
       "  </thead>\n",
       "  <tbody>\n",
       "    <tr>\n",
       "      <th>0</th>\n",
       "      <td>Alice</td>\n",
       "      <td>25.0</td>\n",
       "      <td>Nairobi</td>\n",
       "    </tr>\n",
       "    <tr>\n",
       "      <th>1</th>\n",
       "      <td>Bob</td>\n",
       "      <td>25.7</td>\n",
       "      <td>Kampala</td>\n",
       "    </tr>\n",
       "    <tr>\n",
       "      <th>2</th>\n",
       "      <td>Charlie</td>\n",
       "      <td>30.0</td>\n",
       "      <td>None</td>\n",
       "    </tr>\n",
       "    <tr>\n",
       "      <th>3</th>\n",
       "      <td>None</td>\n",
       "      <td>22.0</td>\n",
       "      <td>Nairobi</td>\n",
       "    </tr>\n",
       "  </tbody>\n",
       "</table>\n",
       "</div>"
      ],
      "text/plain": [
       "      Name   Age     City\n",
       "0    Alice  25.0  Nairobi\n",
       "1      Bob  25.7  Kampala\n",
       "2  Charlie  30.0     None\n",
       "3     None  22.0  Nairobi"
      ]
     },
     "execution_count": 29,
     "metadata": {},
     "output_type": "execute_result"
    }
   ],
   "source": [
    "data_copy = data.copy()\n",
    "\n",
    "mean_age = data_copy['Age'].mean().__round__(1)\n",
    "\n",
    "data_copy['Age'] = data_copy['Age'].fillna(mean_age)\n",
    "\n",
    "data_copy"
   ]
  },
  {
   "cell_type": "markdown",
   "id": "26282c79",
   "metadata": {},
   "source": [
    "Use mode to fill in null entries."
   ]
  },
  {
   "cell_type": "code",
   "execution_count": 38,
   "id": "8f37657b",
   "metadata": {},
   "outputs": [
    {
     "data": {
      "application/vnd.microsoft.datawrangler.viewer.v0+json": {
       "columns": [
        {
         "name": "index",
         "rawType": "int64",
         "type": "integer"
        },
        {
         "name": "Name",
         "rawType": "object",
         "type": "unknown"
        },
        {
         "name": "Age",
         "rawType": "float64",
         "type": "float"
        },
        {
         "name": "City",
         "rawType": "object",
         "type": "string"
        }
       ],
       "ref": "fee3e9fa-aa78-4174-991e-f891f270e81e",
       "rows": [
        [
         "0",
         "Alice",
         "25.0",
         "Nairobi"
        ],
        [
         "1",
         "Bob",
         null,
         "Kampala"
        ],
        [
         "2",
         "Charlie",
         "30.0",
         "Nairobi"
        ],
        [
         "3",
         null,
         "22.0",
         "Nairobi"
        ],
        [
         "4",
         "Jane",
         "22.0",
         "Kampala"
        ],
        [
         "5",
         "Peter",
         null,
         "Nairobi"
        ]
       ],
       "shape": {
        "columns": 3,
        "rows": 6
       }
      },
      "text/html": [
       "<div>\n",
       "<style scoped>\n",
       "    .dataframe tbody tr th:only-of-type {\n",
       "        vertical-align: middle;\n",
       "    }\n",
       "\n",
       "    .dataframe tbody tr th {\n",
       "        vertical-align: top;\n",
       "    }\n",
       "\n",
       "    .dataframe thead th {\n",
       "        text-align: right;\n",
       "    }\n",
       "</style>\n",
       "<table border=\"1\" class=\"dataframe\">\n",
       "  <thead>\n",
       "    <tr style=\"text-align: right;\">\n",
       "      <th></th>\n",
       "      <th>Name</th>\n",
       "      <th>Age</th>\n",
       "      <th>City</th>\n",
       "    </tr>\n",
       "  </thead>\n",
       "  <tbody>\n",
       "    <tr>\n",
       "      <th>0</th>\n",
       "      <td>Alice</td>\n",
       "      <td>25.0</td>\n",
       "      <td>Nairobi</td>\n",
       "    </tr>\n",
       "    <tr>\n",
       "      <th>1</th>\n",
       "      <td>Bob</td>\n",
       "      <td>NaN</td>\n",
       "      <td>Kampala</td>\n",
       "    </tr>\n",
       "    <tr>\n",
       "      <th>2</th>\n",
       "      <td>Charlie</td>\n",
       "      <td>30.0</td>\n",
       "      <td>Nairobi</td>\n",
       "    </tr>\n",
       "    <tr>\n",
       "      <th>3</th>\n",
       "      <td>None</td>\n",
       "      <td>22.0</td>\n",
       "      <td>Nairobi</td>\n",
       "    </tr>\n",
       "    <tr>\n",
       "      <th>4</th>\n",
       "      <td>Jane</td>\n",
       "      <td>22.0</td>\n",
       "      <td>Kampala</td>\n",
       "    </tr>\n",
       "    <tr>\n",
       "      <th>5</th>\n",
       "      <td>Peter</td>\n",
       "      <td>NaN</td>\n",
       "      <td>Nairobi</td>\n",
       "    </tr>\n",
       "  </tbody>\n",
       "</table>\n",
       "</div>"
      ],
      "text/plain": [
       "      Name   Age     City\n",
       "0    Alice  25.0  Nairobi\n",
       "1      Bob   NaN  Kampala\n",
       "2  Charlie  30.0  Nairobi\n",
       "3     None  22.0  Nairobi\n",
       "4     Jane  22.0  Kampala\n",
       "5    Peter   NaN  Nairobi"
      ]
     },
     "execution_count": 38,
     "metadata": {},
     "output_type": "execute_result"
    }
   ],
   "source": [
    "data_copy = data.copy()\n",
    "\n",
    "city_mode = data_copy['City'].mode()[0]\n",
    "\n",
    "data_copy['City'] = data_copy['City'].fillna(city_mode)\n",
    "\n",
    "data_copy"
   ]
  },
  {
   "cell_type": "code",
   "execution_count": 40,
   "metadata": {},
   "outputs": [
    {
     "data": {
      "application/vnd.microsoft.datawrangler.viewer.v0+json": {
       "columns": [
        {
         "name": "index",
         "rawType": "int64",
         "type": "integer"
        },
        {
         "name": "Name",
         "rawType": "object",
         "type": "unknown"
        },
        {
         "name": "Age",
         "rawType": "float64",
         "type": "float"
        },
        {
         "name": "City",
         "rawType": "object",
         "type": "unknown"
        }
       ],
       "ref": "c3c2a7bd-a999-4c02-a911-ff422bea638e",
       "rows": [
        [
         "0",
         "Alice",
         "25.0",
         "Nairobi"
        ],
        [
         "1",
         "Bob",
         "22.0",
         "Kampala"
        ],
        [
         "2",
         "Charlie",
         "30.0",
         null
        ],
        [
         "3",
         null,
         "22.0",
         "Nairobi"
        ],
        [
         "4",
         "Jane",
         "22.0",
         "Kampala"
        ],
        [
         "5",
         "Peter",
         "22.0",
         "Nairobi"
        ]
       ],
       "shape": {
        "columns": 3,
        "rows": 6
       }
      },
      "text/html": [
       "<div>\n",
       "<style scoped>\n",
       "    .dataframe tbody tr th:only-of-type {\n",
       "        vertical-align: middle;\n",
       "    }\n",
       "\n",
       "    .dataframe tbody tr th {\n",
       "        vertical-align: top;\n",
       "    }\n",
       "\n",
       "    .dataframe thead th {\n",
       "        text-align: right;\n",
       "    }\n",
       "</style>\n",
       "<table border=\"1\" class=\"dataframe\">\n",
       "  <thead>\n",
       "    <tr style=\"text-align: right;\">\n",
       "      <th></th>\n",
       "      <th>Name</th>\n",
       "      <th>Age</th>\n",
       "      <th>City</th>\n",
       "    </tr>\n",
       "  </thead>\n",
       "  <tbody>\n",
       "    <tr>\n",
       "      <th>0</th>\n",
       "      <td>Alice</td>\n",
       "      <td>25.0</td>\n",
       "      <td>Nairobi</td>\n",
       "    </tr>\n",
       "    <tr>\n",
       "      <th>1</th>\n",
       "      <td>Bob</td>\n",
       "      <td>22.0</td>\n",
       "      <td>Kampala</td>\n",
       "    </tr>\n",
       "    <tr>\n",
       "      <th>2</th>\n",
       "      <td>Charlie</td>\n",
       "      <td>30.0</td>\n",
       "      <td>None</td>\n",
       "    </tr>\n",
       "    <tr>\n",
       "      <th>3</th>\n",
       "      <td>None</td>\n",
       "      <td>22.0</td>\n",
       "      <td>Nairobi</td>\n",
       "    </tr>\n",
       "    <tr>\n",
       "      <th>4</th>\n",
       "      <td>Jane</td>\n",
       "      <td>22.0</td>\n",
       "      <td>Kampala</td>\n",
       "    </tr>\n",
       "    <tr>\n",
       "      <th>5</th>\n",
       "      <td>Peter</td>\n",
       "      <td>22.0</td>\n",
       "      <td>Nairobi</td>\n",
       "    </tr>\n",
       "  </tbody>\n",
       "</table>\n",
       "</div>"
      ],
      "text/plain": [
       "      Name   Age     City\n",
       "0    Alice  25.0  Nairobi\n",
       "1      Bob  22.0  Kampala\n",
       "2  Charlie  30.0     None\n",
       "3     None  22.0  Nairobi\n",
       "4     Jane  22.0  Kampala\n",
       "5    Peter  22.0  Nairobi"
      ]
     },
     "execution_count": 40,
     "metadata": {},
     "output_type": "execute_result"
    }
   ],
   "source": [
    "data_copy = data.copy()\n",
    "\n",
    "mode_age = data_copy['Age'].mode()[0]\n",
    "\n",
    "data_copy['Age'] = data_copy['Age'].fillna(mode_age)\n",
    "\n",
    "data_copy"
   ]
  },
  {
   "cell_type": "markdown",
   "id": "b595f36a",
   "metadata": {},
   "source": [
    "Using previous rows to fill in the null entries."
   ]
  },
  {
   "cell_type": "code",
   "execution_count": 42,
   "id": "156dc3e3",
   "metadata": {},
   "outputs": [
    {
     "name": "stderr",
     "output_type": "stream",
     "text": [
      "C:\\Users\\marwa\\AppData\\Local\\Temp\\ipykernel_10064\\265613081.py:3: FutureWarning: Series.fillna with 'method' is deprecated and will raise in a future version. Use obj.ffill() or obj.bfill() instead.\n",
      "  data_copy['Name'] = data_copy['Name'].fillna(method='bfill')\n"
     ]
    },
    {
     "data": {
      "application/vnd.microsoft.datawrangler.viewer.v0+json": {
       "columns": [
        {
         "name": "index",
         "rawType": "int64",
         "type": "integer"
        },
        {
         "name": "Name",
         "rawType": "object",
         "type": "string"
        },
        {
         "name": "Age",
         "rawType": "float64",
         "type": "float"
        },
        {
         "name": "City",
         "rawType": "object",
         "type": "unknown"
        }
       ],
       "ref": "2ad26bb6-0f79-4c7a-80fa-da66fa885050",
       "rows": [
        [
         "0",
         "Alice",
         "25.0",
         "Nairobi"
        ],
        [
         "1",
         "Bob",
         null,
         "Kampala"
        ],
        [
         "2",
         "Charlie",
         "30.0",
         null
        ],
        [
         "3",
         "Jane",
         "22.0",
         "Nairobi"
        ],
        [
         "4",
         "Jane",
         "22.0",
         "Kampala"
        ],
        [
         "5",
         "Peter",
         null,
         "Nairobi"
        ]
       ],
       "shape": {
        "columns": 3,
        "rows": 6
       }
      },
      "text/html": [
       "<div>\n",
       "<style scoped>\n",
       "    .dataframe tbody tr th:only-of-type {\n",
       "        vertical-align: middle;\n",
       "    }\n",
       "\n",
       "    .dataframe tbody tr th {\n",
       "        vertical-align: top;\n",
       "    }\n",
       "\n",
       "    .dataframe thead th {\n",
       "        text-align: right;\n",
       "    }\n",
       "</style>\n",
       "<table border=\"1\" class=\"dataframe\">\n",
       "  <thead>\n",
       "    <tr style=\"text-align: right;\">\n",
       "      <th></th>\n",
       "      <th>Name</th>\n",
       "      <th>Age</th>\n",
       "      <th>City</th>\n",
       "    </tr>\n",
       "  </thead>\n",
       "  <tbody>\n",
       "    <tr>\n",
       "      <th>0</th>\n",
       "      <td>Alice</td>\n",
       "      <td>25.0</td>\n",
       "      <td>Nairobi</td>\n",
       "    </tr>\n",
       "    <tr>\n",
       "      <th>1</th>\n",
       "      <td>Bob</td>\n",
       "      <td>NaN</td>\n",
       "      <td>Kampala</td>\n",
       "    </tr>\n",
       "    <tr>\n",
       "      <th>2</th>\n",
       "      <td>Charlie</td>\n",
       "      <td>30.0</td>\n",
       "      <td>None</td>\n",
       "    </tr>\n",
       "    <tr>\n",
       "      <th>3</th>\n",
       "      <td>Jane</td>\n",
       "      <td>22.0</td>\n",
       "      <td>Nairobi</td>\n",
       "    </tr>\n",
       "    <tr>\n",
       "      <th>4</th>\n",
       "      <td>Jane</td>\n",
       "      <td>22.0</td>\n",
       "      <td>Kampala</td>\n",
       "    </tr>\n",
       "    <tr>\n",
       "      <th>5</th>\n",
       "      <td>Peter</td>\n",
       "      <td>NaN</td>\n",
       "      <td>Nairobi</td>\n",
       "    </tr>\n",
       "  </tbody>\n",
       "</table>\n",
       "</div>"
      ],
      "text/plain": [
       "      Name   Age     City\n",
       "0    Alice  25.0  Nairobi\n",
       "1      Bob   NaN  Kampala\n",
       "2  Charlie  30.0     None\n",
       "3     Jane  22.0  Nairobi\n",
       "4     Jane  22.0  Kampala\n",
       "5    Peter   NaN  Nairobi"
      ]
     },
     "execution_count": 42,
     "metadata": {},
     "output_type": "execute_result"
    }
   ],
   "source": [
    "data_copy = data.copy()\n",
    "\n",
    "data_copy['Name'] = data_copy['Name'].fillna(method='bfill')\n",
    "\n",
    "data_copy"
   ]
  },
  {
   "cell_type": "code",
   "execution_count": null,
   "id": "2567ebf2",
   "metadata": {},
   "outputs": [],
   "source": []
  },
  {
   "cell_type": "code",
   "execution_count": 12,
   "id": "d9cba692",
   "metadata": {},
   "outputs": [
    {
     "data": {
      "application/vnd.microsoft.datawrangler.viewer.v0+json": {
       "columns": [
        {
         "name": "index",
         "rawType": "int64",
         "type": "integer"
        },
        {
         "name": "Player Name",
         "rawType": "object",
         "type": "string"
        },
        {
         "name": "Club",
         "rawType": "object",
         "type": "string"
        },
        {
         "name": "Nationality",
         "rawType": "object",
         "type": "string"
        },
        {
         "name": "Position",
         "rawType": "object",
         "type": "string"
        },
        {
         "name": "Appearances",
         "rawType": "int64",
         "type": "integer"
        },
        {
         "name": "Minutes",
         "rawType": "int64",
         "type": "integer"
        },
        {
         "name": "Goals",
         "rawType": "int64",
         "type": "integer"
        },
        {
         "name": "Assists",
         "rawType": "int64",
         "type": "integer"
        },
        {
         "name": "Shots",
         "rawType": "int64",
         "type": "integer"
        },
        {
         "name": "Shots On Target",
         "rawType": "int64",
         "type": "integer"
        },
        {
         "name": "Conversion %",
         "rawType": "object",
         "type": "string"
        },
        {
         "name": "Big Chances Missed",
         "rawType": "int64",
         "type": "integer"
        },
        {
         "name": "Hit Woodwork",
         "rawType": "int64",
         "type": "integer"
        },
        {
         "name": "Offsides",
         "rawType": "int64",
         "type": "integer"
        },
        {
         "name": "Touches",
         "rawType": "int64",
         "type": "integer"
        },
        {
         "name": "Passes",
         "rawType": "int64",
         "type": "integer"
        },
        {
         "name": "Successful Passes",
         "rawType": "int64",
         "type": "integer"
        },
        {
         "name": "Passes%",
         "rawType": "object",
         "type": "string"
        },
        {
         "name": "Crosses",
         "rawType": "int64",
         "type": "integer"
        },
        {
         "name": "Successful Crosses",
         "rawType": "int64",
         "type": "integer"
        },
        {
         "name": "Crosses %",
         "rawType": "object",
         "type": "string"
        },
        {
         "name": "fThird Passes",
         "rawType": "int64",
         "type": "integer"
        },
        {
         "name": "Successful fThird Passes",
         "rawType": "int64",
         "type": "integer"
        },
        {
         "name": "fThird Passes %",
         "rawType": "object",
         "type": "string"
        },
        {
         "name": "Through Balls",
         "rawType": "int64",
         "type": "integer"
        },
        {
         "name": "Carries",
         "rawType": "int64",
         "type": "integer"
        },
        {
         "name": "Progressive Carries",
         "rawType": "int64",
         "type": "integer"
        },
        {
         "name": "Carries Ended with Goal",
         "rawType": "int64",
         "type": "integer"
        },
        {
         "name": "Carries Ended with Assist",
         "rawType": "int64",
         "type": "integer"
        },
        {
         "name": "Carries Ended with Shot",
         "rawType": "int64",
         "type": "integer"
        },
        {
         "name": "Carries Ended with Chance",
         "rawType": "int64",
         "type": "integer"
        },
        {
         "name": "Possession Won",
         "rawType": "int64",
         "type": "integer"
        },
        {
         "name": "Dispossessed",
         "rawType": "int64",
         "type": "integer"
        },
        {
         "name": "Clean Sheets",
         "rawType": "int64",
         "type": "integer"
        },
        {
         "name": "Clearances",
         "rawType": "int64",
         "type": "integer"
        },
        {
         "name": "Interceptions",
         "rawType": "int64",
         "type": "integer"
        },
        {
         "name": "Blocks",
         "rawType": "int64",
         "type": "integer"
        },
        {
         "name": "Tackles",
         "rawType": "int64",
         "type": "integer"
        },
        {
         "name": "Ground Duels",
         "rawType": "int64",
         "type": "integer"
        },
        {
         "name": "gDuels Won",
         "rawType": "int64",
         "type": "integer"
        },
        {
         "name": "gDuels %",
         "rawType": "object",
         "type": "string"
        },
        {
         "name": "Aerial Duels",
         "rawType": "int64",
         "type": "integer"
        },
        {
         "name": "aDuels Won",
         "rawType": "int64",
         "type": "integer"
        },
        {
         "name": "aDuels %",
         "rawType": "object",
         "type": "string"
        },
        {
         "name": "Goals Conceded",
         "rawType": "int64",
         "type": "integer"
        },
        {
         "name": "xGoT Conceded",
         "rawType": "int64",
         "type": "integer"
        },
        {
         "name": "Own Goals",
         "rawType": "int64",
         "type": "integer"
        },
        {
         "name": "Fouls",
         "rawType": "int64",
         "type": "integer"
        },
        {
         "name": "Yellow Cards",
         "rawType": "int64",
         "type": "integer"
        },
        {
         "name": "Red Cards",
         "rawType": "int64",
         "type": "integer"
        },
        {
         "name": "Saves",
         "rawType": "int64",
         "type": "integer"
        },
        {
         "name": "Saves %",
         "rawType": "object",
         "type": "string"
        },
        {
         "name": "Penalties Saved",
         "rawType": "int64",
         "type": "integer"
        },
        {
         "name": "Clearances Off Line",
         "rawType": "int64",
         "type": "integer"
        },
        {
         "name": "Punches",
         "rawType": "int64",
         "type": "integer"
        },
        {
         "name": "High Claims",
         "rawType": "int64",
         "type": "integer"
        },
        {
         "name": "Goals Prevented",
         "rawType": "float64",
         "type": "float"
        }
       ],
       "ref": "ae56a30b-cf3c-446b-bb67-0cc8bacf9cf0",
       "rows": [
        [
         "0",
         "Ben White",
         "Arsenal",
         "England",
         "DEF",
         "17",
         "1198",
         "0",
         "2",
         "9",
         "12",
         "13%",
         "0",
         "0",
         "1",
         "833",
         "1678",
         "1493",
         "89%",
         "51",
         "10",
         "20%",
         "714",
         "592",
         "83%",
         "4",
         "583",
         "296",
         "0",
         "0",
         "5",
         "17",
         "107",
         "6",
         "5",
         "38",
         "23",
         "6",
         "20",
         "231",
         "116",
         "50%",
         "16",
         "5",
         "31%",
         "0",
         "0",
         "0",
         "10",
         "2",
         "0",
         "0",
         "0%",
         "0",
         "0",
         "0",
         "0",
         "0.0"
        ],
        [
         "1",
         "Bukayo Saka",
         "Arsenal",
         "England",
         "MID",
         "25",
         "1735",
         "6",
         "10",
         "67",
         "2",
         "25%",
         "8",
         "0",
         "7",
         "1094",
         "643",
         "556",
         "87%",
         "1",
         "0",
         "0%",
         "55",
         "33",
         "60%",
         "1",
         "167",
         "69",
         "0",
         "0",
         "1",
         "0",
         "44",
         "40",
         "2",
         "6",
         "15",
         "14",
         "29",
         "58",
         "34",
         "59%",
         "45",
         "23",
         "51%",
         "0",
         "0",
         "0",
         "15",
         "3",
         "0",
         "0",
         "0%",
         "0",
         "0",
         "0",
         "0",
         "0.0"
        ],
        [
         "2",
         "David Raya",
         "Arsenal",
         "Spain",
         "GKP",
         "38",
         "3420",
         "0",
         "0",
         "0",
         "0",
         "0%",
         "0",
         "0",
         "0",
         "1599",
         "0",
         "0",
         "0%",
         "0",
         "0",
         "0%",
         "0",
         "0",
         "0%",
         "0",
         "0",
         "0",
         "0",
         "0",
         "0",
         "0",
         "0",
         "0",
         "13",
         "29",
         "0",
         "0",
         "0",
         "0",
         "0",
         "0%",
         "0",
         "0",
         "0%",
         "34",
         "36",
         "0",
         "1",
         "3",
         "0",
         "86",
         "72%",
         "0",
         "0",
         "8",
         "53",
         "2.1"
        ],
        [
         "3",
         "Declan Rice",
         "Arsenal",
         "England",
         "MID",
         "35",
         "2833",
         "4",
         "7",
         "48",
         "18",
         "15%",
         "2",
         "0",
         "2",
         "2016",
         "789",
         "641",
         "81%",
         "63",
         "7",
         "11%",
         "480",
         "364",
         "76%",
         "11",
         "411",
         "260",
         "3",
         "2",
         "18",
         "22",
         "121",
         "32",
         "7",
         "50",
         "13",
         "5",
         "53",
         "342",
         "121",
         "35%",
         "26",
         "10",
         "39%",
         "0",
         "0",
         "0",
         "21",
         "5",
         "1",
         "0",
         "0%",
         "0",
         "0",
         "0",
         "0",
         "0.0"
        ],
        [
         "4",
         "Ethan Nwaneri",
         "Arsenal",
         "England",
         "MID",
         "26",
         "889",
         "4",
         "0",
         "24",
         "0",
         "0%",
         "0",
         "3",
         "6",
         "601",
         "0",
         "0",
         "0%",
         "0",
         "0",
         "0%",
         "0",
         "0",
         "0%",
         "0",
         "0",
         "0",
         "0",
         "0",
         "0",
         "0",
         "0",
         "17",
         "1",
         "4",
         "0",
         "0",
         "11",
         "0",
         "0",
         "0%",
         "0",
         "0",
         "0%",
         "0",
         "0",
         "0",
         "9",
         "1",
         "0",
         "0",
         "0%",
         "0",
         "0",
         "0",
         "0",
         "0.0"
        ]
       ],
       "shape": {
        "columns": 57,
        "rows": 5
       }
      },
      "text/html": [
       "<div>\n",
       "<style scoped>\n",
       "    .dataframe tbody tr th:only-of-type {\n",
       "        vertical-align: middle;\n",
       "    }\n",
       "\n",
       "    .dataframe tbody tr th {\n",
       "        vertical-align: top;\n",
       "    }\n",
       "\n",
       "    .dataframe thead th {\n",
       "        text-align: right;\n",
       "    }\n",
       "</style>\n",
       "<table border=\"1\" class=\"dataframe\">\n",
       "  <thead>\n",
       "    <tr style=\"text-align: right;\">\n",
       "      <th></th>\n",
       "      <th>Player Name</th>\n",
       "      <th>Club</th>\n",
       "      <th>Nationality</th>\n",
       "      <th>Position</th>\n",
       "      <th>Appearances</th>\n",
       "      <th>Minutes</th>\n",
       "      <th>Goals</th>\n",
       "      <th>Assists</th>\n",
       "      <th>Shots</th>\n",
       "      <th>Shots On Target</th>\n",
       "      <th>...</th>\n",
       "      <th>Fouls</th>\n",
       "      <th>Yellow Cards</th>\n",
       "      <th>Red Cards</th>\n",
       "      <th>Saves</th>\n",
       "      <th>Saves %</th>\n",
       "      <th>Penalties Saved</th>\n",
       "      <th>Clearances Off Line</th>\n",
       "      <th>Punches</th>\n",
       "      <th>High Claims</th>\n",
       "      <th>Goals Prevented</th>\n",
       "    </tr>\n",
       "  </thead>\n",
       "  <tbody>\n",
       "    <tr>\n",
       "      <th>0</th>\n",
       "      <td>Ben White</td>\n",
       "      <td>Arsenal</td>\n",
       "      <td>England</td>\n",
       "      <td>DEF</td>\n",
       "      <td>17</td>\n",
       "      <td>1198</td>\n",
       "      <td>0</td>\n",
       "      <td>2</td>\n",
       "      <td>9</td>\n",
       "      <td>12</td>\n",
       "      <td>...</td>\n",
       "      <td>10</td>\n",
       "      <td>2</td>\n",
       "      <td>0</td>\n",
       "      <td>0</td>\n",
       "      <td>0%</td>\n",
       "      <td>0</td>\n",
       "      <td>0</td>\n",
       "      <td>0</td>\n",
       "      <td>0</td>\n",
       "      <td>0.0</td>\n",
       "    </tr>\n",
       "    <tr>\n",
       "      <th>1</th>\n",
       "      <td>Bukayo Saka</td>\n",
       "      <td>Arsenal</td>\n",
       "      <td>England</td>\n",
       "      <td>MID</td>\n",
       "      <td>25</td>\n",
       "      <td>1735</td>\n",
       "      <td>6</td>\n",
       "      <td>10</td>\n",
       "      <td>67</td>\n",
       "      <td>2</td>\n",
       "      <td>...</td>\n",
       "      <td>15</td>\n",
       "      <td>3</td>\n",
       "      <td>0</td>\n",
       "      <td>0</td>\n",
       "      <td>0%</td>\n",
       "      <td>0</td>\n",
       "      <td>0</td>\n",
       "      <td>0</td>\n",
       "      <td>0</td>\n",
       "      <td>0.0</td>\n",
       "    </tr>\n",
       "    <tr>\n",
       "      <th>2</th>\n",
       "      <td>David Raya</td>\n",
       "      <td>Arsenal</td>\n",
       "      <td>Spain</td>\n",
       "      <td>GKP</td>\n",
       "      <td>38</td>\n",
       "      <td>3420</td>\n",
       "      <td>0</td>\n",
       "      <td>0</td>\n",
       "      <td>0</td>\n",
       "      <td>0</td>\n",
       "      <td>...</td>\n",
       "      <td>1</td>\n",
       "      <td>3</td>\n",
       "      <td>0</td>\n",
       "      <td>86</td>\n",
       "      <td>72%</td>\n",
       "      <td>0</td>\n",
       "      <td>0</td>\n",
       "      <td>8</td>\n",
       "      <td>53</td>\n",
       "      <td>2.1</td>\n",
       "    </tr>\n",
       "    <tr>\n",
       "      <th>3</th>\n",
       "      <td>Declan Rice</td>\n",
       "      <td>Arsenal</td>\n",
       "      <td>England</td>\n",
       "      <td>MID</td>\n",
       "      <td>35</td>\n",
       "      <td>2833</td>\n",
       "      <td>4</td>\n",
       "      <td>7</td>\n",
       "      <td>48</td>\n",
       "      <td>18</td>\n",
       "      <td>...</td>\n",
       "      <td>21</td>\n",
       "      <td>5</td>\n",
       "      <td>1</td>\n",
       "      <td>0</td>\n",
       "      <td>0%</td>\n",
       "      <td>0</td>\n",
       "      <td>0</td>\n",
       "      <td>0</td>\n",
       "      <td>0</td>\n",
       "      <td>0.0</td>\n",
       "    </tr>\n",
       "    <tr>\n",
       "      <th>4</th>\n",
       "      <td>Ethan Nwaneri</td>\n",
       "      <td>Arsenal</td>\n",
       "      <td>England</td>\n",
       "      <td>MID</td>\n",
       "      <td>26</td>\n",
       "      <td>889</td>\n",
       "      <td>4</td>\n",
       "      <td>0</td>\n",
       "      <td>24</td>\n",
       "      <td>0</td>\n",
       "      <td>...</td>\n",
       "      <td>9</td>\n",
       "      <td>1</td>\n",
       "      <td>0</td>\n",
       "      <td>0</td>\n",
       "      <td>0%</td>\n",
       "      <td>0</td>\n",
       "      <td>0</td>\n",
       "      <td>0</td>\n",
       "      <td>0</td>\n",
       "      <td>0.0</td>\n",
       "    </tr>\n",
       "  </tbody>\n",
       "</table>\n",
       "<p>5 rows × 57 columns</p>\n",
       "</div>"
      ],
      "text/plain": [
       "     Player Name     Club Nationality Position  Appearances  Minutes  Goals  \\\n",
       "0      Ben White  Arsenal     England      DEF           17     1198      0   \n",
       "1    Bukayo Saka  Arsenal     England      MID           25     1735      6   \n",
       "2     David Raya  Arsenal       Spain      GKP           38     3420      0   \n",
       "3    Declan Rice  Arsenal     England      MID           35     2833      4   \n",
       "4  Ethan Nwaneri  Arsenal     England      MID           26      889      4   \n",
       "\n",
       "   Assists  Shots  Shots On Target  ... Fouls  Yellow Cards  Red Cards  Saves  \\\n",
       "0        2      9               12  ...    10             2          0      0   \n",
       "1       10     67                2  ...    15             3          0      0   \n",
       "2        0      0                0  ...     1             3          0     86   \n",
       "3        7     48               18  ...    21             5          1      0   \n",
       "4        0     24                0  ...     9             1          0      0   \n",
       "\n",
       "   Saves %  Penalties Saved  Clearances Off Line Punches  High Claims  \\\n",
       "0       0%                0                    0       0            0   \n",
       "1       0%                0                    0       0            0   \n",
       "2      72%                0                    0       8           53   \n",
       "3       0%                0                    0       0            0   \n",
       "4       0%                0                    0       0            0   \n",
       "\n",
       "   Goals Prevented  \n",
       "0              0.0  \n",
       "1              0.0  \n",
       "2              2.1  \n",
       "3              0.0  \n",
       "4              0.0  \n",
       "\n",
       "[5 rows x 57 columns]"
      ]
     },
     "execution_count": 12,
     "metadata": {},
     "output_type": "execute_result"
    }
   ],
   "source": [
    "player_stats = pd.read_csv('epl_player_stats_24_25.csv')\n",
    "\n",
    "player_stats.head()"
   ]
  },
  {
   "cell_type": "code",
   "execution_count": 13,
   "id": "0dff8630",
   "metadata": {},
   "outputs": [
    {
     "name": "stdout",
     "output_type": "stream",
     "text": [
      "<class 'pandas.core.frame.DataFrame'>\n",
      "RangeIndex: 562 entries, 0 to 561\n",
      "Data columns (total 57 columns):\n",
      " #   Column                     Non-Null Count  Dtype  \n",
      "---  ------                     --------------  -----  \n",
      " 0   Player Name                562 non-null    object \n",
      " 1   Club                       562 non-null    object \n",
      " 2   Nationality                562 non-null    object \n",
      " 3   Position                   562 non-null    object \n",
      " 4   Appearances                562 non-null    int64  \n",
      " 5   Minutes                    562 non-null    int64  \n",
      " 6   Goals                      562 non-null    int64  \n",
      " 7   Assists                    562 non-null    int64  \n",
      " 8   Shots                      562 non-null    int64  \n",
      " 9   Shots On Target            562 non-null    int64  \n",
      " 10  Conversion %               562 non-null    object \n",
      " 11  Big Chances Missed         562 non-null    int64  \n",
      " 12  Hit Woodwork               562 non-null    int64  \n",
      " 13  Offsides                   562 non-null    int64  \n",
      " 14  Touches                    562 non-null    int64  \n",
      " 15  Passes                     562 non-null    int64  \n",
      " 16  Successful Passes          562 non-null    int64  \n",
      " 17  Passes%                    562 non-null    object \n",
      " 18  Crosses                    562 non-null    int64  \n",
      " 19  Successful Crosses         562 non-null    int64  \n",
      " 20  Crosses %                  562 non-null    object \n",
      " 21  fThird Passes              562 non-null    int64  \n",
      " 22  Successful fThird Passes   562 non-null    int64  \n",
      " 23  fThird Passes %            562 non-null    object \n",
      " 24  Through Balls              562 non-null    int64  \n",
      " 25  Carries                    562 non-null    int64  \n",
      " 26  Progressive Carries        562 non-null    int64  \n",
      " 27  Carries Ended with Goal    562 non-null    int64  \n",
      " 28  Carries Ended with Assist  562 non-null    int64  \n",
      " 29  Carries Ended with Shot    562 non-null    int64  \n",
      " 30  Carries Ended with Chance  562 non-null    int64  \n",
      " 31  Possession Won             562 non-null    int64  \n",
      " 32  Dispossessed               562 non-null    int64  \n",
      " 33  Clean Sheets               562 non-null    int64  \n",
      " 34  Clearances                 562 non-null    int64  \n",
      " 35  Interceptions              562 non-null    int64  \n",
      " 36  Blocks                     562 non-null    int64  \n",
      " 37  Tackles                    562 non-null    int64  \n",
      " 38  Ground Duels               562 non-null    int64  \n",
      " 39  gDuels Won                 562 non-null    int64  \n",
      " 40  gDuels %                   562 non-null    object \n",
      " 41  Aerial Duels               562 non-null    int64  \n",
      " 42  aDuels Won                 562 non-null    int64  \n",
      " 43  aDuels %                   562 non-null    object \n",
      " 44  Goals Conceded             562 non-null    int64  \n",
      " 45  xGoT Conceded              562 non-null    int64  \n",
      " 46  Own Goals                  562 non-null    int64  \n",
      " 47  Fouls                      562 non-null    int64  \n",
      " 48  Yellow Cards               562 non-null    int64  \n",
      " 49  Red Cards                  562 non-null    int64  \n",
      " 50  Saves                      562 non-null    int64  \n",
      " 51  Saves %                    562 non-null    object \n",
      " 52  Penalties Saved            562 non-null    int64  \n",
      " 53  Clearances Off Line        562 non-null    int64  \n",
      " 54  Punches                    562 non-null    int64  \n",
      " 55  High Claims                562 non-null    int64  \n",
      " 56  Goals Prevented            562 non-null    float64\n",
      "dtypes: float64(1), int64(45), object(11)\n",
      "memory usage: 250.4+ KB\n"
     ]
    }
   ],
   "source": [
    "player_stats.info()"
   ]
  },
  {
   "cell_type": "markdown",
   "id": "b90123d2",
   "metadata": {},
   "source": [
    "### To-do list\n",
    "* Write a function to remove the percentage `%` sign."
   ]
  },
  {
   "cell_type": "code",
   "execution_count": 14,
   "id": "1ab202dd",
   "metadata": {},
   "outputs": [
    {
     "data": {
      "application/vnd.microsoft.datawrangler.viewer.v0+json": {
       "columns": [
        {
         "name": "Club",
         "rawType": "object",
         "type": "string"
        },
        {
         "name": "count",
         "rawType": "int64",
         "type": "integer"
        }
       ],
       "ref": "0ff88968-113c-482a-a44f-a89dc3a7f441",
       "rows": [
        [
         "Southampton",
         "34"
        ],
        [
         "Wolverhampton Wanderers",
         "32"
        ],
        [
         "Leicester City",
         "31"
        ],
        [
         "Tottenham Hotspur",
         "31"
        ],
        [
         "Manchester City",
         "31"
        ],
        [
         "Manchester United",
         "30"
        ],
        [
         "Ipswich Town",
         "30"
        ],
        [
         "Bournemouth",
         "29"
        ],
        [
         "Chelsea",
         "28"
        ],
        [
         "Brighton & Hove Albion",
         "28"
        ],
        [
         "Brentford",
         "28"
        ],
        [
         "West Ham United",
         "28"
        ],
        [
         "Aston Villa",
         "27"
        ],
        [
         "Crystal Palace",
         "26"
        ],
        [
         "Everton",
         "26"
        ],
        [
         "Fulham",
         "26"
        ],
        [
         "Arsenal",
         "25"
        ],
        [
         "Liverpool",
         "24"
        ],
        [
         "Newcastle United",
         "23"
        ],
        [
         "Nottingham Forest",
         "23"
        ],
        [
         "Brighton",
         "2"
        ]
       ],
       "shape": {
        "columns": 1,
        "rows": 21
       }
      },
      "text/plain": [
       "Club\n",
       "Southampton                34\n",
       "Wolverhampton Wanderers    32\n",
       "Leicester City             31\n",
       "Tottenham Hotspur          31\n",
       "Manchester City            31\n",
       "Manchester United          30\n",
       "Ipswich Town               30\n",
       "Bournemouth                29\n",
       "Chelsea                    28\n",
       "Brighton & Hove Albion     28\n",
       "Brentford                  28\n",
       "West Ham United            28\n",
       "Aston Villa                27\n",
       "Crystal Palace             26\n",
       "Everton                    26\n",
       "Fulham                     26\n",
       "Arsenal                    25\n",
       "Liverpool                  24\n",
       "Newcastle United           23\n",
       "Nottingham Forest          23\n",
       "Brighton                    2\n",
       "Name: count, dtype: int64"
      ]
     },
     "execution_count": 14,
     "metadata": {},
     "output_type": "execute_result"
    }
   ],
   "source": [
    "player_stats['Club'].value_counts()"
   ]
  },
  {
   "cell_type": "code",
   "execution_count": null,
   "id": "ba3c006f",
   "metadata": {},
   "outputs": [],
   "source": []
  }
 ],
 "metadata": {
  "kernelspec": {
   "display_name": "xBase",
   "language": "python",
   "name": "python3"
  },
  "language_info": {
   "codemirror_mode": {
    "name": "ipython",
    "version": 3
   },
   "file_extension": ".py",
   "mimetype": "text/x-python",
   "name": "python",
   "nbconvert_exporter": "python",
   "pygments_lexer": "ipython3",
   "version": "3.12.3"
  }
 },
 "nbformat": 4,
 "nbformat_minor": 5
}
