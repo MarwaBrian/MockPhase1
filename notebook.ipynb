{
 "cells": [
  {
   "cell_type": "markdown",
   "id": "d799ef85",
   "metadata": {},
   "source": [
    "## First Project\n",
    "This is the first project in data science this week."
   ]
  },
  {
   "cell_type": "code",
   "execution_count": null,
   "id": "7b202c60",
   "metadata": {},
   "outputs": [],
   "source": [
    "def capitalize(name):\n",
    "    ..."
   ]
  }
 ],
 "metadata": {
  "kernelspec": {
   "display_name": "xBase",
   "language": "python",
   "name": "python3"
  },
  "language_info": {
   "codemirror_mode": {
    "name": "ipython",
    "version": 3
   },
   "file_extension": ".py",
   "mimetype": "text/x-python",
   "name": "python",
   "nbconvert_exporter": "python",
   "pygments_lexer": "ipython3",
   "version": "3.12.3"
  }
 },
 "nbformat": 4,
 "nbformat_minor": 5
}
