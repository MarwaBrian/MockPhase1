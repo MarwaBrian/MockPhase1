{
 "cells": [
  {
   "cell_type": "markdown",
   "id": "d799ef85",
   "metadata": {},
   "source": [
    "## First Project\n",
    "This is the first project in data science this week."
   ]
  },
  {
   "cell_type": "code",
   "execution_count": 6,
   "id": "7b202c60",
   "metadata": {},
   "outputs": [],
   "source": [
    "def capitalize(name):\n",
    "    ...\n",
    "\n",
    "def puntuate(name):\n",
    "    ...\n"
   ]
  },
  {
   "cell_type": "code",
   "execution_count": 7,
   "id": "f0ed68e1",
   "metadata": {},
   "outputs": [
    {
     "name": "stdout",
     "output_type": "stream",
     "text": [
      "Hello World!\n"
     ]
    }
   ],
   "source": [
    "example_dic =  {...}\n",
    "example_list = [...]\n",
    "\n",
    "\n",
    "print('Hello World!')"
   ]
  },
  {
   "cell_type": "code",
   "execution_count": 8,
   "id": "10af5200",
   "metadata": {},
   "outputs": [
    {
     "name": "stdout",
     "output_type": "stream",
     "text": [
      "Today is a Tuesday?\n",
      "Today is a Friday?\n",
      "Today is a Wednesday?\n"
     ]
    }
   ],
   "source": [
    "print('Today is a Tuesday?')\n",
    "print('Today is a Friday?')\n",
    "print('Today is a Wednesday?')"
   ]
  },
  {
   "cell_type": "code",
   "execution_count": null,
   "id": "effc77d3",
   "metadata": {},
   "outputs": [],
   "source": []
  },
  {
   "cell_type": "markdown",
   "id": "f35239b3",
   "metadata": {},
   "source": [
    "### Libraries\n",
    "#### Data Visualization and Scientific Computations\n",
    "- **Pandas** - used to load files into series(one dimensional) or dataframes(2 dimensional)\n",
    "- **Numpy** - numerical python; helps us in performing scientific computations. \n",
    "- **Matplotlib** - flexible plotting library(histograms, pie charts, bar graphs etc...)\n",
    "- **Seaborn** - complementary to matplotlib, same visuals less syntax.\n",
    "\n",
    "#### Machine Learning\n",
    "- **Scikit-learn** - for basic ML algos\n",
    "- **Keras/Tensorflow** - for neural networks"
   ]
  },
  {
   "cell_type": "code",
   "execution_count": 9,
   "id": "4f6391e3",
   "metadata": {},
   "outputs": [],
   "source": [
    "import pandas as pd "
   ]
  },
  {
   "cell_type": "code",
   "execution_count": 10,
   "id": "4ced15e1",
   "metadata": {},
   "outputs": [
    {
     "data": {
      "text/plain": [
       "pandas.core.frame.DataFrame"
      ]
     },
     "execution_count": 10,
     "metadata": {},
     "output_type": "execute_result"
    }
   ],
   "source": [
    "data = pd.read_csv('Salary_dataset.csv')\n",
    "type(data)"
   ]
  },
  {
   "cell_type": "code",
   "execution_count": 11,
   "id": "04239bdb",
   "metadata": {},
   "outputs": [
    {
     "data": {
      "application/vnd.microsoft.datawrangler.viewer.v0+json": {
       "columns": [
        {
         "name": "index",
         "rawType": "int64",
         "type": "integer"
        },
        {
         "name": "Unnamed: 0",
         "rawType": "int64",
         "type": "integer"
        },
        {
         "name": "YearsExperience",
         "rawType": "float64",
         "type": "float"
        },
        {
         "name": "Salary",
         "rawType": "float64",
         "type": "float"
        }
       ],
       "ref": "c19d1a9c-e3c3-4686-92fc-5a9a953f1814",
       "rows": [
        [
         "0",
         "0",
         "1.2000000000000002",
         "39344.0"
        ],
        [
         "1",
         "1",
         "1.4",
         "46206.0"
        ],
        [
         "2",
         "2",
         "1.6",
         "37732.0"
        ],
        [
         "3",
         "3",
         "2.1",
         "43526.0"
        ],
        [
         "4",
         "4",
         "2.3000000000000003",
         "39892.0"
        ],
        [
         "5",
         "5",
         "3.0",
         "56643.0"
        ],
        [
         "6",
         "6",
         "3.1",
         "60151.0"
        ],
        [
         "7",
         "7",
         "3.3000000000000003",
         "54446.0"
        ],
        [
         "8",
         "8",
         "3.3000000000000003",
         "64446.0"
        ],
        [
         "9",
         "9",
         "3.8",
         "57190.0"
        ],
        [
         "10",
         "10",
         "4.0",
         "63219.0"
        ],
        [
         "11",
         "11",
         "4.1",
         "55795.0"
        ],
        [
         "12",
         "12",
         "4.1",
         "56958.0"
        ],
        [
         "13",
         "13",
         "4.199999999999999",
         "57082.0"
        ],
        [
         "14",
         "14",
         "4.6",
         "61112.0"
        ]
       ],
       "shape": {
        "columns": 3,
        "rows": 15
       }
      },
      "text/html": [
       "<div>\n",
       "<style scoped>\n",
       "    .dataframe tbody tr th:only-of-type {\n",
       "        vertical-align: middle;\n",
       "    }\n",
       "\n",
       "    .dataframe tbody tr th {\n",
       "        vertical-align: top;\n",
       "    }\n",
       "\n",
       "    .dataframe thead th {\n",
       "        text-align: right;\n",
       "    }\n",
       "</style>\n",
       "<table border=\"1\" class=\"dataframe\">\n",
       "  <thead>\n",
       "    <tr style=\"text-align: right;\">\n",
       "      <th></th>\n",
       "      <th>Unnamed: 0</th>\n",
       "      <th>YearsExperience</th>\n",
       "      <th>Salary</th>\n",
       "    </tr>\n",
       "  </thead>\n",
       "  <tbody>\n",
       "    <tr>\n",
       "      <th>0</th>\n",
       "      <td>0</td>\n",
       "      <td>1.2</td>\n",
       "      <td>39344.0</td>\n",
       "    </tr>\n",
       "    <tr>\n",
       "      <th>1</th>\n",
       "      <td>1</td>\n",
       "      <td>1.4</td>\n",
       "      <td>46206.0</td>\n",
       "    </tr>\n",
       "    <tr>\n",
       "      <th>2</th>\n",
       "      <td>2</td>\n",
       "      <td>1.6</td>\n",
       "      <td>37732.0</td>\n",
       "    </tr>\n",
       "    <tr>\n",
       "      <th>3</th>\n",
       "      <td>3</td>\n",
       "      <td>2.1</td>\n",
       "      <td>43526.0</td>\n",
       "    </tr>\n",
       "    <tr>\n",
       "      <th>4</th>\n",
       "      <td>4</td>\n",
       "      <td>2.3</td>\n",
       "      <td>39892.0</td>\n",
       "    </tr>\n",
       "    <tr>\n",
       "      <th>5</th>\n",
       "      <td>5</td>\n",
       "      <td>3.0</td>\n",
       "      <td>56643.0</td>\n",
       "    </tr>\n",
       "    <tr>\n",
       "      <th>6</th>\n",
       "      <td>6</td>\n",
       "      <td>3.1</td>\n",
       "      <td>60151.0</td>\n",
       "    </tr>\n",
       "    <tr>\n",
       "      <th>7</th>\n",
       "      <td>7</td>\n",
       "      <td>3.3</td>\n",
       "      <td>54446.0</td>\n",
       "    </tr>\n",
       "    <tr>\n",
       "      <th>8</th>\n",
       "      <td>8</td>\n",
       "      <td>3.3</td>\n",
       "      <td>64446.0</td>\n",
       "    </tr>\n",
       "    <tr>\n",
       "      <th>9</th>\n",
       "      <td>9</td>\n",
       "      <td>3.8</td>\n",
       "      <td>57190.0</td>\n",
       "    </tr>\n",
       "    <tr>\n",
       "      <th>10</th>\n",
       "      <td>10</td>\n",
       "      <td>4.0</td>\n",
       "      <td>63219.0</td>\n",
       "    </tr>\n",
       "    <tr>\n",
       "      <th>11</th>\n",
       "      <td>11</td>\n",
       "      <td>4.1</td>\n",
       "      <td>55795.0</td>\n",
       "    </tr>\n",
       "    <tr>\n",
       "      <th>12</th>\n",
       "      <td>12</td>\n",
       "      <td>4.1</td>\n",
       "      <td>56958.0</td>\n",
       "    </tr>\n",
       "    <tr>\n",
       "      <th>13</th>\n",
       "      <td>13</td>\n",
       "      <td>4.2</td>\n",
       "      <td>57082.0</td>\n",
       "    </tr>\n",
       "    <tr>\n",
       "      <th>14</th>\n",
       "      <td>14</td>\n",
       "      <td>4.6</td>\n",
       "      <td>61112.0</td>\n",
       "    </tr>\n",
       "  </tbody>\n",
       "</table>\n",
       "</div>"
      ],
      "text/plain": [
       "    Unnamed: 0  YearsExperience   Salary\n",
       "0            0              1.2  39344.0\n",
       "1            1              1.4  46206.0\n",
       "2            2              1.6  37732.0\n",
       "3            3              2.1  43526.0\n",
       "4            4              2.3  39892.0\n",
       "5            5              3.0  56643.0\n",
       "6            6              3.1  60151.0\n",
       "7            7              3.3  54446.0\n",
       "8            8              3.3  64446.0\n",
       "9            9              3.8  57190.0\n",
       "10          10              4.0  63219.0\n",
       "11          11              4.1  55795.0\n",
       "12          12              4.1  56958.0\n",
       "13          13              4.2  57082.0\n",
       "14          14              4.6  61112.0"
      ]
     },
     "execution_count": 11,
     "metadata": {},
     "output_type": "execute_result"
    }
   ],
   "source": [
    "\"\"\" \n",
    "head() = first five entries\n",
    "tail() = last five entries\n",
    "info() = columns available\n",
    "\"\"\"\n",
    "\n",
    "data.head(15)"
   ]
  },
  {
   "cell_type": "code",
   "execution_count": 12,
   "id": "dc5b86a1",
   "metadata": {},
   "outputs": [
    {
     "data": {
      "application/vnd.microsoft.datawrangler.viewer.v0+json": {
       "columns": [
        {
         "name": "index",
         "rawType": "int64",
         "type": "integer"
        },
        {
         "name": "Unnamed: 0",
         "rawType": "int64",
         "type": "integer"
        },
        {
         "name": "YearsExperience",
         "rawType": "float64",
         "type": "float"
        },
        {
         "name": "Salary",
         "rawType": "float64",
         "type": "float"
        }
       ],
       "ref": "25405a3b-8e3a-4d39-abf4-5015d53c5eae",
       "rows": [
        [
         "23",
         "23",
         "8.299999999999999",
         "113813.0"
        ],
        [
         "24",
         "24",
         "8.799999999999999",
         "109432.0"
        ],
        [
         "25",
         "25",
         "9.1",
         "105583.0"
        ],
        [
         "26",
         "26",
         "9.6",
         "116970.0"
        ],
        [
         "27",
         "27",
         "9.7",
         "112636.0"
        ],
        [
         "28",
         "28",
         "10.4",
         "122392.0"
        ],
        [
         "29",
         "29",
         "10.6",
         "121873.0"
        ]
       ],
       "shape": {
        "columns": 3,
        "rows": 7
       }
      },
      "text/html": [
       "<div>\n",
       "<style scoped>\n",
       "    .dataframe tbody tr th:only-of-type {\n",
       "        vertical-align: middle;\n",
       "    }\n",
       "\n",
       "    .dataframe tbody tr th {\n",
       "        vertical-align: top;\n",
       "    }\n",
       "\n",
       "    .dataframe thead th {\n",
       "        text-align: right;\n",
       "    }\n",
       "</style>\n",
       "<table border=\"1\" class=\"dataframe\">\n",
       "  <thead>\n",
       "    <tr style=\"text-align: right;\">\n",
       "      <th></th>\n",
       "      <th>Unnamed: 0</th>\n",
       "      <th>YearsExperience</th>\n",
       "      <th>Salary</th>\n",
       "    </tr>\n",
       "  </thead>\n",
       "  <tbody>\n",
       "    <tr>\n",
       "      <th>23</th>\n",
       "      <td>23</td>\n",
       "      <td>8.3</td>\n",
       "      <td>113813.0</td>\n",
       "    </tr>\n",
       "    <tr>\n",
       "      <th>24</th>\n",
       "      <td>24</td>\n",
       "      <td>8.8</td>\n",
       "      <td>109432.0</td>\n",
       "    </tr>\n",
       "    <tr>\n",
       "      <th>25</th>\n",
       "      <td>25</td>\n",
       "      <td>9.1</td>\n",
       "      <td>105583.0</td>\n",
       "    </tr>\n",
       "    <tr>\n",
       "      <th>26</th>\n",
       "      <td>26</td>\n",
       "      <td>9.6</td>\n",
       "      <td>116970.0</td>\n",
       "    </tr>\n",
       "    <tr>\n",
       "      <th>27</th>\n",
       "      <td>27</td>\n",
       "      <td>9.7</td>\n",
       "      <td>112636.0</td>\n",
       "    </tr>\n",
       "    <tr>\n",
       "      <th>28</th>\n",
       "      <td>28</td>\n",
       "      <td>10.4</td>\n",
       "      <td>122392.0</td>\n",
       "    </tr>\n",
       "    <tr>\n",
       "      <th>29</th>\n",
       "      <td>29</td>\n",
       "      <td>10.6</td>\n",
       "      <td>121873.0</td>\n",
       "    </tr>\n",
       "  </tbody>\n",
       "</table>\n",
       "</div>"
      ],
      "text/plain": [
       "    Unnamed: 0  YearsExperience    Salary\n",
       "23          23              8.3  113813.0\n",
       "24          24              8.8  109432.0\n",
       "25          25              9.1  105583.0\n",
       "26          26              9.6  116970.0\n",
       "27          27              9.7  112636.0\n",
       "28          28             10.4  122392.0\n",
       "29          29             10.6  121873.0"
      ]
     },
     "execution_count": 12,
     "metadata": {},
     "output_type": "execute_result"
    }
   ],
   "source": [
    "data.tail(7)"
   ]
  },
  {
   "cell_type": "code",
   "execution_count": 13,
   "id": "d78bbc8d",
   "metadata": {},
   "outputs": [
    {
     "name": "stdout",
     "output_type": "stream",
     "text": [
      "<class 'pandas.core.frame.DataFrame'>\n",
      "RangeIndex: 30 entries, 0 to 29\n",
      "Data columns (total 3 columns):\n",
      " #   Column           Non-Null Count  Dtype  \n",
      "---  ------           --------------  -----  \n",
      " 0   Unnamed: 0       30 non-null     int64  \n",
      " 1   YearsExperience  30 non-null     float64\n",
      " 2   Salary           30 non-null     float64\n",
      "dtypes: float64(2), int64(1)\n",
      "memory usage: 852.0 bytes\n"
     ]
    }
   ],
   "source": [
    "data.info()"
   ]
  },
  {
   "cell_type": "markdown",
   "id": "f25a6051",
   "metadata": {},
   "source": [
    "### Working with Pandas\n",
    "Datatypes:\n",
    "- **Series** \n",
    "- **Dataframe**"
   ]
  },
  {
   "cell_type": "code",
   "execution_count": null,
   "id": "f656a1ea",
   "metadata": {},
   "outputs": [],
   "source": [
    "import pandas as pd\n",
    "import numpy as np \n",
    "import matplotlib.pyplot as plt\n",
    "import seaborn as sns"
   ]
  },
  {
   "cell_type": "code",
   "execution_count": 16,
   "id": "a1ec6041",
   "metadata": {},
   "outputs": [],
   "source": [
    "import pandas as pd\n",
    "\n",
    "\n",
    "players = [\n",
    "    'Allison Becker',\n",
    "    'luke shaw',\n",
    "    'Harry Maguire',\n",
    "    'PaUl POgba',\n",
    "    'Bruno FERNANdes',\n",
    "    'DaRWin Nunes',\n",
    "    'Kylian MBaPPe',\n",
    "    'James Rodriguez',\n",
    "    'MaRTin ODegaaRd',\n",
    "    'Bukayo SAKa',\n",
    "    'Bukayo SAKa',\n",
    "    'HARRy Kane',\n",
    "    'HARRy Kane'\n",
    "]\n",
    "\n",
    "copy_players = [\n",
    "    'Allison Becker',\n",
    "    'luke shaw',\n",
    "    'Harry Maguire',\n",
    "    'PaUl POgba',\n",
    "    'Bruno FERNANdes',\n",
    "    'DaRWin Nunes',\n",
    "    'Kylian MBaPPe',\n",
    "    'James Rodriguez',\n",
    "    'MaRTin ODegaaRd',\n",
    "    'Bukayo SAKa',\n",
    "    'HARRy Kane'\n",
    "]"
   ]
  },
  {
   "cell_type": "code",
   "execution_count": 33,
   "id": "923dec60",
   "metadata": {},
   "outputs": [
    {
     "data": {
      "application/vnd.microsoft.datawrangler.viewer.v0+json": {
       "columns": [
        {
         "name": "index",
         "rawType": "int64",
         "type": "integer"
        },
        {
         "name": "0",
         "rawType": "object",
         "type": "string"
        }
       ],
       "ref": "f169fae1-c444-4bb5-83f2-fce173e1120d",
       "rows": [
        [
         "0",
         "Allison Becker"
        ],
        [
         "1",
         "luke shaw"
        ],
        [
         "2",
         "Harry Maguire"
        ],
        [
         "3",
         "PaUl POgba"
        ],
        [
         "4",
         "Bruno FERNANdes"
        ],
        [
         "5",
         "DaRWin Nunes"
        ],
        [
         "6",
         "Kylian MBaPPe"
        ],
        [
         "7",
         "James Rodriguez"
        ],
        [
         "8",
         "MaRTin ODegaaRd"
        ],
        [
         "9",
         "Bukayo SAKa"
        ],
        [
         "10",
         "Bukayo SAKa"
        ],
        [
         "11",
         "HARRy Kane"
        ],
        [
         "12",
         "HARRy Kane"
        ]
       ],
       "shape": {
        "columns": 1,
        "rows": 13
       }
      },
      "text/plain": [
       "0      Allison Becker\n",
       "1           luke shaw\n",
       "2       Harry Maguire\n",
       "3          PaUl POgba\n",
       "4     Bruno FERNANdes\n",
       "5        DaRWin Nunes\n",
       "6       Kylian MBaPPe\n",
       "7     James Rodriguez\n",
       "8     MaRTin ODegaaRd\n",
       "9         Bukayo SAKa\n",
       "10        Bukayo SAKa\n",
       "11         HARRy Kane\n",
       "12         HARRy Kane\n",
       "dtype: object"
      ]
     },
     "execution_count": 33,
     "metadata": {},
     "output_type": "execute_result"
    }
   ],
   "source": [
    "n_players = pd.Series(players)\n",
    "\n",
    "\n",
    "\n",
    "n_players"
   ]
  },
  {
   "cell_type": "code",
   "execution_count": null,
   "id": "3aceb335",
   "metadata": {},
   "outputs": [
    {
     "ename": "AttributeError",
     "evalue": "'list' object has no attribute 'head'",
     "output_type": "error",
     "traceback": [
      "\u001b[31m---------------------------------------------------------------------------\u001b[39m",
      "\u001b[31mAttributeError\u001b[39m                            Traceback (most recent call last)",
      "\u001b[36mCell\u001b[39m\u001b[36m \u001b[39m\u001b[32mIn[28]\u001b[39m\u001b[32m, line 3\u001b[39m\n\u001b[32m      1\u001b[39m \u001b[38;5;28mtype\u001b[39m(players)\n\u001b[32m----> \u001b[39m\u001b[32m3\u001b[39m \u001b[43mplayers\u001b[49m\u001b[43m.\u001b[49m\u001b[43mhead\u001b[49m()\n",
      "\u001b[31mAttributeError\u001b[39m: 'list' object has no attribute 'head'"
     ]
    }
   ],
   "source": [
    "type(players)\n",
    "\n",
    "players.head()"
   ]
  },
  {
   "cell_type": "code",
   "execution_count": null,
   "id": "3009f849",
   "metadata": {},
   "outputs": [
    {
     "data": {
      "application/vnd.microsoft.datawrangler.viewer.v0+json": {
       "columns": [
        {
         "name": "index",
         "rawType": "object",
         "type": "string"
        },
        {
         "name": "count",
         "rawType": "int64",
         "type": "integer"
        }
       ],
       "ref": "1fda9642-05b0-49fc-ab72-e059d8c18683",
       "rows": [
        [
         "Bukayo SAKa",
         "2"
        ],
        [
         "HARRy Kane",
         "2"
        ],
        [
         "Allison Becker",
         "1"
        ],
        [
         "luke shaw",
         "1"
        ],
        [
         "Harry Maguire",
         "1"
        ],
        [
         "PaUl POgba",
         "1"
        ],
        [
         "Bruno FERNANdes",
         "1"
        ],
        [
         "DaRWin Nunes",
         "1"
        ],
        [
         "Kylian MBaPPe",
         "1"
        ],
        [
         "James Rodriguez",
         "1"
        ],
        [
         "MaRTin ODegaaRd",
         "1"
        ]
       ],
       "shape": {
        "columns": 1,
        "rows": 11
       }
      },
      "text/plain": [
       "Bukayo SAKa        2\n",
       "HARRy Kane         2\n",
       "Allison Becker     1\n",
       "luke shaw          1\n",
       "Harry Maguire      1\n",
       "PaUl POgba         1\n",
       "Bruno FERNANdes    1\n",
       "DaRWin Nunes       1\n",
       "Kylian MBaPPe      1\n",
       "James Rodriguez    1\n",
       "MaRTin ODegaaRd    1\n",
       "Name: count, dtype: int64"
      ]
     },
     "execution_count": 10,
     "metadata": {},
     "output_type": "execute_result"
    }
   ],
   "source": [
    "n_players.value_counts()"
   ]
  },
  {
   "cell_type": "code",
   "execution_count": null,
   "id": "401de4eb",
   "metadata": {},
   "outputs": [
    {
     "data": {
      "text/plain": [
       "False"
      ]
     },
     "execution_count": 11,
     "metadata": {},
     "output_type": "execute_result"
    }
   ],
   "source": [
    "n_players.is_unique"
   ]
  },
  {
   "cell_type": "code",
   "execution_count": null,
   "id": "c6f17300",
   "metadata": {},
   "outputs": [
    {
     "data": {
      "text/plain": [
       "True"
      ]
     },
     "execution_count": 13,
     "metadata": {},
     "output_type": "execute_result"
    }
   ],
   "source": [
    "copy_players_series = pd.Series(copy_players)\n",
    "\n",
    "copy_players_series.is_unique"
   ]
  },
  {
   "cell_type": "code",
   "execution_count": null,
   "id": "49ade13e",
   "metadata": {},
   "outputs": [
    {
     "name": "stdout",
     "output_type": "stream",
     "text": [
      "<class 'pandas.core.series.Series'>\n",
      "RangeIndex: 11 entries, 0 to 10\n",
      "Series name: None\n",
      "Non-Null Count  Dtype \n",
      "--------------  ----- \n",
      "11 non-null     object\n",
      "dtypes: object(1)\n",
      "memory usage: 220.0+ bytes\n"
     ]
    }
   ],
   "source": [
    "copy_players_series.info()"
   ]
  },
  {
   "cell_type": "code",
   "execution_count": 20,
   "id": "6cae65c2",
   "metadata": {},
   "outputs": [
    {
     "data": {
      "text/plain": [
       "'Brian Chacha'"
      ]
     },
     "execution_count": 20,
     "metadata": {},
     "output_type": "execute_result"
    }
   ],
   "source": [
    "def title(name):\n",
    "    name = name.title()\n",
    "    return name\n",
    "\n",
    "title('briAn cHacha')"
   ]
  },
  {
   "cell_type": "code",
   "execution_count": 36,
   "id": "aab68aa6",
   "metadata": {},
   "outputs": [
    {
     "data": {
      "text/plain": [
       "['Allison Becker',\n",
       " 'Luke Shaw',\n",
       " 'Harry Maguire',\n",
       " 'Paul Pogba',\n",
       " 'Bruno Fernandes',\n",
       " 'Darwin Nunes',\n",
       " 'Kylian Mbappe',\n",
       " 'James Rodriguez',\n",
       " 'Martin Odegaard',\n",
       " 'Bukayo Saka',\n",
       " 'Bukayo Saka',\n",
       " 'Harry Kane',\n",
       " 'Harry Kane']"
      ]
     },
     "execution_count": 36,
     "metadata": {},
     "output_type": "execute_result"
    }
   ],
   "source": [
    "# title(players)\n",
    "title_players = []\n",
    "\n",
    "for player in players:\n",
    "    x = title(player)\n",
    "    title_players.append(x)\n",
    "\n",
    "title_players"
   ]
  },
  {
   "cell_type": "code",
   "execution_count": 41,
   "id": "452e3333",
   "metadata": {},
   "outputs": [
    {
     "data": {
      "application/vnd.microsoft.datawrangler.viewer.v0+json": {
       "columns": [
        {
         "name": "index",
         "rawType": "int64",
         "type": "integer"
        },
        {
         "name": "0",
         "rawType": "object",
         "type": "string"
        }
       ],
       "ref": "8d8035cf-7d11-4667-9bc8-d24091f0ba52",
       "rows": [
        [
         "0",
         "Allison Becker"
        ],
        [
         "1",
         "Luke Shaw"
        ],
        [
         "2",
         "Harry Maguire"
        ],
        [
         "3",
         "Paul Pogba"
        ],
        [
         "4",
         "Bruno Fernandes"
        ],
        [
         "5",
         "Darwin Nunes"
        ],
        [
         "6",
         "Kylian Mbappe"
        ],
        [
         "7",
         "James Rodriguez"
        ],
        [
         "8",
         "Martin Odegaard"
        ],
        [
         "9",
         "Bukayo Saka"
        ],
        [
         "10",
         "Bukayo Saka"
        ],
        [
         "11",
         "Harry Kane"
        ],
        [
         "12",
         "Harry Kane"
        ]
       ],
       "shape": {
        "columns": 1,
        "rows": 13
       }
      },
      "text/plain": [
       "0      Allison Becker\n",
       "1           Luke Shaw\n",
       "2       Harry Maguire\n",
       "3          Paul Pogba\n",
       "4     Bruno Fernandes\n",
       "5        Darwin Nunes\n",
       "6       Kylian Mbappe\n",
       "7     James Rodriguez\n",
       "8     Martin Odegaard\n",
       "9         Bukayo Saka\n",
       "10        Bukayo Saka\n",
       "11         Harry Kane\n",
       "12         Harry Kane\n",
       "dtype: object"
      ]
     },
     "execution_count": 41,
     "metadata": {},
     "output_type": "execute_result"
    }
   ],
   "source": [
    "n_players = n_players.apply(title)\n",
    "\n",
    "#.apply()\n",
    "n_players"
   ]
  },
  {
   "cell_type": "code",
   "execution_count": 39,
   "id": "a21f3b48",
   "metadata": {},
   "outputs": [
    {
     "data": {
      "application/vnd.microsoft.datawrangler.viewer.v0+json": {
       "columns": [
        {
         "name": "index",
         "rawType": "int64",
         "type": "integer"
        },
        {
         "name": "0",
         "rawType": "object",
         "type": "string"
        }
       ],
       "ref": "5f8a2bc8-afa2-4293-9b04-b23050a26658",
       "rows": [
        [
         "0",
         "Allison Becker"
        ],
        [
         "1",
         "Luke Shaw"
        ],
        [
         "2",
         "Harry Maguire"
        ],
        [
         "3",
         "Paul Pogba"
        ],
        [
         "4",
         "Bruno Fernandes"
        ],
        [
         "5",
         "Darwin Nunes"
        ],
        [
         "6",
         "Kylian Mbappe"
        ],
        [
         "7",
         "James Rodriguez"
        ],
        [
         "8",
         "Martin Odegaard"
        ],
        [
         "9",
         "Bukayo Saka"
        ],
        [
         "10",
         "Bukayo Saka"
        ],
        [
         "11",
         "Harry Kane"
        ],
        [
         "12",
         "Harry Kane"
        ]
       ],
       "shape": {
        "columns": 1,
        "rows": 13
       }
      },
      "text/plain": [
       "0      Allison Becker\n",
       "1           Luke Shaw\n",
       "2       Harry Maguire\n",
       "3          Paul Pogba\n",
       "4     Bruno Fernandes\n",
       "5        Darwin Nunes\n",
       "6       Kylian Mbappe\n",
       "7     James Rodriguez\n",
       "8     Martin Odegaard\n",
       "9         Bukayo Saka\n",
       "10        Bukayo Saka\n",
       "11         Harry Kane\n",
       "12         Harry Kane\n",
       "dtype: object"
      ]
     },
     "execution_count": 39,
     "metadata": {},
     "output_type": "execute_result"
    }
   ],
   "source": [
    "n_players"
   ]
  },
  {
   "cell_type": "code",
   "execution_count": 43,
   "id": "a29e1b97",
   "metadata": {},
   "outputs": [
    {
     "name": "stdout",
     "output_type": "stream",
     "text": [
      "<class 'pandas.core.frame.DataFrame'>\n",
      "RangeIndex: 30 entries, 0 to 29\n",
      "Data columns (total 3 columns):\n",
      " #   Column           Non-Null Count  Dtype  \n",
      "---  ------           --------------  -----  \n",
      " 0   Unnamed: 0       30 non-null     int64  \n",
      " 1   YearsExperience  30 non-null     float64\n",
      " 2   Salary           30 non-null     float64\n",
      "dtypes: float64(2), int64(1)\n",
      "memory usage: 852.0 bytes\n"
     ]
    }
   ],
   "source": [
    "data.info()"
   ]
  },
  {
   "cell_type": "code",
   "execution_count": 45,
   "id": "2b7e646e",
   "metadata": {},
   "outputs": [
    {
     "data": {
      "application/vnd.microsoft.datawrangler.viewer.v0+json": {
       "columns": [
        {
         "name": "index",
         "rawType": "int64",
         "type": "integer"
        },
        {
         "name": "YearsExperience",
         "rawType": "float64",
         "type": "float"
        },
        {
         "name": "Salary",
         "rawType": "float64",
         "type": "float"
        }
       ],
       "ref": "da317cbe-743f-450e-af40-d70a0bbbce12",
       "rows": [
        [
         "0",
         "1.2000000000000002",
         "39344.0"
        ],
        [
         "1",
         "1.4",
         "46206.0"
        ],
        [
         "2",
         "1.6",
         "37732.0"
        ],
        [
         "3",
         "2.1",
         "43526.0"
        ],
        [
         "4",
         "2.3000000000000003",
         "39892.0"
        ],
        [
         "5",
         "3.0",
         "56643.0"
        ],
        [
         "6",
         "3.1",
         "60151.0"
        ],
        [
         "7",
         "3.3000000000000003",
         "54446.0"
        ],
        [
         "8",
         "3.3000000000000003",
         "64446.0"
        ],
        [
         "9",
         "3.8",
         "57190.0"
        ],
        [
         "10",
         "4.0",
         "63219.0"
        ],
        [
         "11",
         "4.1",
         "55795.0"
        ],
        [
         "12",
         "4.1",
         "56958.0"
        ],
        [
         "13",
         "4.199999999999999",
         "57082.0"
        ],
        [
         "14",
         "4.6",
         "61112.0"
        ],
        [
         "15",
         "5.0",
         "67939.0"
        ],
        [
         "16",
         "5.199999999999999",
         "66030.0"
        ],
        [
         "17",
         "5.4",
         "83089.0"
        ],
        [
         "18",
         "6.0",
         "81364.0"
        ],
        [
         "19",
         "6.1",
         "93941.0"
        ],
        [
         "20",
         "6.9",
         "91739.0"
        ],
        [
         "21",
         "7.199999999999999",
         "98274.0"
        ],
        [
         "22",
         "8.0",
         "101303.0"
        ],
        [
         "23",
         "8.299999999999999",
         "113813.0"
        ],
        [
         "24",
         "8.799999999999999",
         "109432.0"
        ],
        [
         "25",
         "9.1",
         "105583.0"
        ],
        [
         "26",
         "9.6",
         "116970.0"
        ],
        [
         "27",
         "9.7",
         "112636.0"
        ],
        [
         "28",
         "10.4",
         "122392.0"
        ],
        [
         "29",
         "10.6",
         "121873.0"
        ]
       ],
       "shape": {
        "columns": 2,
        "rows": 30
       }
      },
      "text/html": [
       "<div>\n",
       "<style scoped>\n",
       "    .dataframe tbody tr th:only-of-type {\n",
       "        vertical-align: middle;\n",
       "    }\n",
       "\n",
       "    .dataframe tbody tr th {\n",
       "        vertical-align: top;\n",
       "    }\n",
       "\n",
       "    .dataframe thead th {\n",
       "        text-align: right;\n",
       "    }\n",
       "</style>\n",
       "<table border=\"1\" class=\"dataframe\">\n",
       "  <thead>\n",
       "    <tr style=\"text-align: right;\">\n",
       "      <th></th>\n",
       "      <th>YearsExperience</th>\n",
       "      <th>Salary</th>\n",
       "    </tr>\n",
       "  </thead>\n",
       "  <tbody>\n",
       "    <tr>\n",
       "      <th>0</th>\n",
       "      <td>1.2</td>\n",
       "      <td>39344.0</td>\n",
       "    </tr>\n",
       "    <tr>\n",
       "      <th>1</th>\n",
       "      <td>1.4</td>\n",
       "      <td>46206.0</td>\n",
       "    </tr>\n",
       "    <tr>\n",
       "      <th>2</th>\n",
       "      <td>1.6</td>\n",
       "      <td>37732.0</td>\n",
       "    </tr>\n",
       "    <tr>\n",
       "      <th>3</th>\n",
       "      <td>2.1</td>\n",
       "      <td>43526.0</td>\n",
       "    </tr>\n",
       "    <tr>\n",
       "      <th>4</th>\n",
       "      <td>2.3</td>\n",
       "      <td>39892.0</td>\n",
       "    </tr>\n",
       "    <tr>\n",
       "      <th>5</th>\n",
       "      <td>3.0</td>\n",
       "      <td>56643.0</td>\n",
       "    </tr>\n",
       "    <tr>\n",
       "      <th>6</th>\n",
       "      <td>3.1</td>\n",
       "      <td>60151.0</td>\n",
       "    </tr>\n",
       "    <tr>\n",
       "      <th>7</th>\n",
       "      <td>3.3</td>\n",
       "      <td>54446.0</td>\n",
       "    </tr>\n",
       "    <tr>\n",
       "      <th>8</th>\n",
       "      <td>3.3</td>\n",
       "      <td>64446.0</td>\n",
       "    </tr>\n",
       "    <tr>\n",
       "      <th>9</th>\n",
       "      <td>3.8</td>\n",
       "      <td>57190.0</td>\n",
       "    </tr>\n",
       "    <tr>\n",
       "      <th>10</th>\n",
       "      <td>4.0</td>\n",
       "      <td>63219.0</td>\n",
       "    </tr>\n",
       "    <tr>\n",
       "      <th>11</th>\n",
       "      <td>4.1</td>\n",
       "      <td>55795.0</td>\n",
       "    </tr>\n",
       "    <tr>\n",
       "      <th>12</th>\n",
       "      <td>4.1</td>\n",
       "      <td>56958.0</td>\n",
       "    </tr>\n",
       "    <tr>\n",
       "      <th>13</th>\n",
       "      <td>4.2</td>\n",
       "      <td>57082.0</td>\n",
       "    </tr>\n",
       "    <tr>\n",
       "      <th>14</th>\n",
       "      <td>4.6</td>\n",
       "      <td>61112.0</td>\n",
       "    </tr>\n",
       "    <tr>\n",
       "      <th>15</th>\n",
       "      <td>5.0</td>\n",
       "      <td>67939.0</td>\n",
       "    </tr>\n",
       "    <tr>\n",
       "      <th>16</th>\n",
       "      <td>5.2</td>\n",
       "      <td>66030.0</td>\n",
       "    </tr>\n",
       "    <tr>\n",
       "      <th>17</th>\n",
       "      <td>5.4</td>\n",
       "      <td>83089.0</td>\n",
       "    </tr>\n",
       "    <tr>\n",
       "      <th>18</th>\n",
       "      <td>6.0</td>\n",
       "      <td>81364.0</td>\n",
       "    </tr>\n",
       "    <tr>\n",
       "      <th>19</th>\n",
       "      <td>6.1</td>\n",
       "      <td>93941.0</td>\n",
       "    </tr>\n",
       "    <tr>\n",
       "      <th>20</th>\n",
       "      <td>6.9</td>\n",
       "      <td>91739.0</td>\n",
       "    </tr>\n",
       "    <tr>\n",
       "      <th>21</th>\n",
       "      <td>7.2</td>\n",
       "      <td>98274.0</td>\n",
       "    </tr>\n",
       "    <tr>\n",
       "      <th>22</th>\n",
       "      <td>8.0</td>\n",
       "      <td>101303.0</td>\n",
       "    </tr>\n",
       "    <tr>\n",
       "      <th>23</th>\n",
       "      <td>8.3</td>\n",
       "      <td>113813.0</td>\n",
       "    </tr>\n",
       "    <tr>\n",
       "      <th>24</th>\n",
       "      <td>8.8</td>\n",
       "      <td>109432.0</td>\n",
       "    </tr>\n",
       "    <tr>\n",
       "      <th>25</th>\n",
       "      <td>9.1</td>\n",
       "      <td>105583.0</td>\n",
       "    </tr>\n",
       "    <tr>\n",
       "      <th>26</th>\n",
       "      <td>9.6</td>\n",
       "      <td>116970.0</td>\n",
       "    </tr>\n",
       "    <tr>\n",
       "      <th>27</th>\n",
       "      <td>9.7</td>\n",
       "      <td>112636.0</td>\n",
       "    </tr>\n",
       "    <tr>\n",
       "      <th>28</th>\n",
       "      <td>10.4</td>\n",
       "      <td>122392.0</td>\n",
       "    </tr>\n",
       "    <tr>\n",
       "      <th>29</th>\n",
       "      <td>10.6</td>\n",
       "      <td>121873.0</td>\n",
       "    </tr>\n",
       "  </tbody>\n",
       "</table>\n",
       "</div>"
      ],
      "text/plain": [
       "    YearsExperience    Salary\n",
       "0               1.2   39344.0\n",
       "1               1.4   46206.0\n",
       "2               1.6   37732.0\n",
       "3               2.1   43526.0\n",
       "4               2.3   39892.0\n",
       "5               3.0   56643.0\n",
       "6               3.1   60151.0\n",
       "7               3.3   54446.0\n",
       "8               3.3   64446.0\n",
       "9               3.8   57190.0\n",
       "10              4.0   63219.0\n",
       "11              4.1   55795.0\n",
       "12              4.1   56958.0\n",
       "13              4.2   57082.0\n",
       "14              4.6   61112.0\n",
       "15              5.0   67939.0\n",
       "16              5.2   66030.0\n",
       "17              5.4   83089.0\n",
       "18              6.0   81364.0\n",
       "19              6.1   93941.0\n",
       "20              6.9   91739.0\n",
       "21              7.2   98274.0\n",
       "22              8.0  101303.0\n",
       "23              8.3  113813.0\n",
       "24              8.8  109432.0\n",
       "25              9.1  105583.0\n",
       "26              9.6  116970.0\n",
       "27              9.7  112636.0\n",
       "28             10.4  122392.0\n",
       "29             10.6  121873.0"
      ]
     },
     "execution_count": 45,
     "metadata": {},
     "output_type": "execute_result"
    }
   ],
   "source": [
    "#dropping columns\n",
    "df = data.drop('Unnamed: 0', axis=1)\n",
    "\n",
    "df"
   ]
  },
  {
   "cell_type": "code",
   "execution_count": 49,
   "id": "97aac1a2",
   "metadata": {},
   "outputs": [
    {
     "data": {
      "application/vnd.microsoft.datawrangler.viewer.v0+json": {
       "columns": [
        {
         "name": "index",
         "rawType": "int64",
         "type": "integer"
        },
        {
         "name": "YearsExperience",
         "rawType": "float64",
         "type": "float"
        }
       ],
       "ref": "2c15000a-ab01-421e-a242-841d72b16ead",
       "rows": [
        [
         "0",
         "1.2000000000000002"
        ],
        [
         "1",
         "1.4"
        ],
        [
         "2",
         "1.6"
        ],
        [
         "3",
         "2.1"
        ],
        [
         "4",
         "2.3000000000000003"
        ],
        [
         "5",
         "3.0"
        ],
        [
         "6",
         "3.1"
        ],
        [
         "7",
         "3.3000000000000003"
        ],
        [
         "8",
         "3.3000000000000003"
        ],
        [
         "9",
         "3.8"
        ],
        [
         "10",
         "4.0"
        ],
        [
         "11",
         "4.1"
        ],
        [
         "12",
         "4.1"
        ],
        [
         "13",
         "4.199999999999999"
        ],
        [
         "14",
         "4.6"
        ],
        [
         "15",
         "5.0"
        ],
        [
         "16",
         "5.199999999999999"
        ],
        [
         "17",
         "5.4"
        ],
        [
         "18",
         "6.0"
        ],
        [
         "19",
         "6.1"
        ],
        [
         "20",
         "6.9"
        ],
        [
         "21",
         "7.199999999999999"
        ],
        [
         "22",
         "8.0"
        ],
        [
         "23",
         "8.299999999999999"
        ],
        [
         "24",
         "8.799999999999999"
        ],
        [
         "25",
         "9.1"
        ],
        [
         "26",
         "9.6"
        ],
        [
         "27",
         "9.7"
        ],
        [
         "28",
         "10.4"
        ],
        [
         "29",
         "10.6"
        ]
       ],
       "shape": {
        "columns": 1,
        "rows": 30
       }
      },
      "text/html": [
       "<div>\n",
       "<style scoped>\n",
       "    .dataframe tbody tr th:only-of-type {\n",
       "        vertical-align: middle;\n",
       "    }\n",
       "\n",
       "    .dataframe tbody tr th {\n",
       "        vertical-align: top;\n",
       "    }\n",
       "\n",
       "    .dataframe thead th {\n",
       "        text-align: right;\n",
       "    }\n",
       "</style>\n",
       "<table border=\"1\" class=\"dataframe\">\n",
       "  <thead>\n",
       "    <tr style=\"text-align: right;\">\n",
       "      <th></th>\n",
       "      <th>YearsExperience</th>\n",
       "    </tr>\n",
       "  </thead>\n",
       "  <tbody>\n",
       "    <tr>\n",
       "      <th>0</th>\n",
       "      <td>1.2</td>\n",
       "    </tr>\n",
       "    <tr>\n",
       "      <th>1</th>\n",
       "      <td>1.4</td>\n",
       "    </tr>\n",
       "    <tr>\n",
       "      <th>2</th>\n",
       "      <td>1.6</td>\n",
       "    </tr>\n",
       "    <tr>\n",
       "      <th>3</th>\n",
       "      <td>2.1</td>\n",
       "    </tr>\n",
       "    <tr>\n",
       "      <th>4</th>\n",
       "      <td>2.3</td>\n",
       "    </tr>\n",
       "    <tr>\n",
       "      <th>5</th>\n",
       "      <td>3.0</td>\n",
       "    </tr>\n",
       "    <tr>\n",
       "      <th>6</th>\n",
       "      <td>3.1</td>\n",
       "    </tr>\n",
       "    <tr>\n",
       "      <th>7</th>\n",
       "      <td>3.3</td>\n",
       "    </tr>\n",
       "    <tr>\n",
       "      <th>8</th>\n",
       "      <td>3.3</td>\n",
       "    </tr>\n",
       "    <tr>\n",
       "      <th>9</th>\n",
       "      <td>3.8</td>\n",
       "    </tr>\n",
       "    <tr>\n",
       "      <th>10</th>\n",
       "      <td>4.0</td>\n",
       "    </tr>\n",
       "    <tr>\n",
       "      <th>11</th>\n",
       "      <td>4.1</td>\n",
       "    </tr>\n",
       "    <tr>\n",
       "      <th>12</th>\n",
       "      <td>4.1</td>\n",
       "    </tr>\n",
       "    <tr>\n",
       "      <th>13</th>\n",
       "      <td>4.2</td>\n",
       "    </tr>\n",
       "    <tr>\n",
       "      <th>14</th>\n",
       "      <td>4.6</td>\n",
       "    </tr>\n",
       "    <tr>\n",
       "      <th>15</th>\n",
       "      <td>5.0</td>\n",
       "    </tr>\n",
       "    <tr>\n",
       "      <th>16</th>\n",
       "      <td>5.2</td>\n",
       "    </tr>\n",
       "    <tr>\n",
       "      <th>17</th>\n",
       "      <td>5.4</td>\n",
       "    </tr>\n",
       "    <tr>\n",
       "      <th>18</th>\n",
       "      <td>6.0</td>\n",
       "    </tr>\n",
       "    <tr>\n",
       "      <th>19</th>\n",
       "      <td>6.1</td>\n",
       "    </tr>\n",
       "    <tr>\n",
       "      <th>20</th>\n",
       "      <td>6.9</td>\n",
       "    </tr>\n",
       "    <tr>\n",
       "      <th>21</th>\n",
       "      <td>7.2</td>\n",
       "    </tr>\n",
       "    <tr>\n",
       "      <th>22</th>\n",
       "      <td>8.0</td>\n",
       "    </tr>\n",
       "    <tr>\n",
       "      <th>23</th>\n",
       "      <td>8.3</td>\n",
       "    </tr>\n",
       "    <tr>\n",
       "      <th>24</th>\n",
       "      <td>8.8</td>\n",
       "    </tr>\n",
       "    <tr>\n",
       "      <th>25</th>\n",
       "      <td>9.1</td>\n",
       "    </tr>\n",
       "    <tr>\n",
       "      <th>26</th>\n",
       "      <td>9.6</td>\n",
       "    </tr>\n",
       "    <tr>\n",
       "      <th>27</th>\n",
       "      <td>9.7</td>\n",
       "    </tr>\n",
       "    <tr>\n",
       "      <th>28</th>\n",
       "      <td>10.4</td>\n",
       "    </tr>\n",
       "    <tr>\n",
       "      <th>29</th>\n",
       "      <td>10.6</td>\n",
       "    </tr>\n",
       "  </tbody>\n",
       "</table>\n",
       "</div>"
      ],
      "text/plain": [
       "    YearsExperience\n",
       "0               1.2\n",
       "1               1.4\n",
       "2               1.6\n",
       "3               2.1\n",
       "4               2.3\n",
       "5               3.0\n",
       "6               3.1\n",
       "7               3.3\n",
       "8               3.3\n",
       "9               3.8\n",
       "10              4.0\n",
       "11              4.1\n",
       "12              4.1\n",
       "13              4.2\n",
       "14              4.6\n",
       "15              5.0\n",
       "16              5.2\n",
       "17              5.4\n",
       "18              6.0\n",
       "19              6.1\n",
       "20              6.9\n",
       "21              7.2\n",
       "22              8.0\n",
       "23              8.3\n",
       "24              8.8\n",
       "25              9.1\n",
       "26              9.6\n",
       "27              9.7\n",
       "28             10.4\n",
       "29             10.6"
      ]
     },
     "execution_count": 49,
     "metadata": {},
     "output_type": "execute_result"
    }
   ],
   "source": [
    "columns_to_drop = ['Unnamed: 0', 'Salary']\n",
    "\n",
    "cleaned_data = data.drop(columns_to_drop, axis=1)\n",
    "\n",
    "cleaned_data"
   ]
  },
  {
   "cell_type": "code",
   "execution_count": 50,
   "id": "adb3e4e5",
   "metadata": {},
   "outputs": [
    {
     "name": "stdout",
     "output_type": "stream",
     "text": [
      "<class 'pandas.core.frame.DataFrame'>\n",
      "RangeIndex: 30 entries, 0 to 29\n",
      "Data columns (total 3 columns):\n",
      " #   Column           Non-Null Count  Dtype  \n",
      "---  ------           --------------  -----  \n",
      " 0   Unnamed: 0       30 non-null     int64  \n",
      " 1   YearsExperience  30 non-null     float64\n",
      " 2   Salary           30 non-null     float64\n",
      "dtypes: float64(2), int64(1)\n",
      "memory usage: 852.0 bytes\n"
     ]
    }
   ],
   "source": [
    "data.info()"
   ]
  },
  {
   "cell_type": "code",
   "execution_count": null,
   "id": "fc745597",
   "metadata": {},
   "outputs": [
    {
     "data": {
      "application/vnd.microsoft.datawrangler.viewer.v0+json": {
       "columns": [
        {
         "name": "index",
         "rawType": "int64",
         "type": "integer"
        },
        {
         "name": "key",
         "rawType": "int64",
         "type": "integer"
        },
        {
         "name": "years",
         "rawType": "float64",
         "type": "float"
        },
        {
         "name": "wages",
         "rawType": "float64",
         "type": "float"
        }
       ],
       "ref": "ff1e930f-4250-4c4d-a0d6-818b5c0fb8d0",
       "rows": [
        [
         "0",
         "0",
         "1.2000000000000002",
         "39344.0"
        ],
        [
         "1",
         "1",
         "1.4",
         "46206.0"
        ],
        [
         "2",
         "2",
         "1.6",
         "37732.0"
        ],
        [
         "3",
         "3",
         "2.1",
         "43526.0"
        ],
        [
         "4",
         "4",
         "2.3000000000000003",
         "39892.0"
        ],
        [
         "5",
         "5",
         "3.0",
         "56643.0"
        ],
        [
         "6",
         "6",
         "3.1",
         "60151.0"
        ],
        [
         "7",
         "7",
         "3.3000000000000003",
         "54446.0"
        ],
        [
         "8",
         "8",
         "3.3000000000000003",
         "64446.0"
        ],
        [
         "9",
         "9",
         "3.8",
         "57190.0"
        ],
        [
         "10",
         "10",
         "4.0",
         "63219.0"
        ],
        [
         "11",
         "11",
         "4.1",
         "55795.0"
        ],
        [
         "12",
         "12",
         "4.1",
         "56958.0"
        ],
        [
         "13",
         "13",
         "4.199999999999999",
         "57082.0"
        ],
        [
         "14",
         "14",
         "4.6",
         "61112.0"
        ],
        [
         "15",
         "15",
         "5.0",
         "67939.0"
        ],
        [
         "16",
         "16",
         "5.199999999999999",
         "66030.0"
        ],
        [
         "17",
         "17",
         "5.4",
         "83089.0"
        ],
        [
         "18",
         "18",
         "6.0",
         "81364.0"
        ],
        [
         "19",
         "19",
         "6.1",
         "93941.0"
        ],
        [
         "20",
         "20",
         "6.9",
         "91739.0"
        ],
        [
         "21",
         "21",
         "7.199999999999999",
         "98274.0"
        ],
        [
         "22",
         "22",
         "8.0",
         "101303.0"
        ],
        [
         "23",
         "23",
         "8.299999999999999",
         "113813.0"
        ],
        [
         "24",
         "24",
         "8.799999999999999",
         "109432.0"
        ],
        [
         "25",
         "25",
         "9.1",
         "105583.0"
        ],
        [
         "26",
         "26",
         "9.6",
         "116970.0"
        ],
        [
         "27",
         "27",
         "9.7",
         "112636.0"
        ],
        [
         "28",
         "28",
         "10.4",
         "122392.0"
        ],
        [
         "29",
         "29",
         "10.6",
         "121873.0"
        ]
       ],
       "shape": {
        "columns": 3,
        "rows": 30
       }
      },
      "text/html": [
       "<div>\n",
       "<style scoped>\n",
       "    .dataframe tbody tr th:only-of-type {\n",
       "        vertical-align: middle;\n",
       "    }\n",
       "\n",
       "    .dataframe tbody tr th {\n",
       "        vertical-align: top;\n",
       "    }\n",
       "\n",
       "    .dataframe thead th {\n",
       "        text-align: right;\n",
       "    }\n",
       "</style>\n",
       "<table border=\"1\" class=\"dataframe\">\n",
       "  <thead>\n",
       "    <tr style=\"text-align: right;\">\n",
       "      <th></th>\n",
       "      <th>key</th>\n",
       "      <th>years</th>\n",
       "      <th>wages</th>\n",
       "    </tr>\n",
       "  </thead>\n",
       "  <tbody>\n",
       "    <tr>\n",
       "      <th>0</th>\n",
       "      <td>0</td>\n",
       "      <td>1.2</td>\n",
       "      <td>39344.0</td>\n",
       "    </tr>\n",
       "    <tr>\n",
       "      <th>1</th>\n",
       "      <td>1</td>\n",
       "      <td>1.4</td>\n",
       "      <td>46206.0</td>\n",
       "    </tr>\n",
       "    <tr>\n",
       "      <th>2</th>\n",
       "      <td>2</td>\n",
       "      <td>1.6</td>\n",
       "      <td>37732.0</td>\n",
       "    </tr>\n",
       "    <tr>\n",
       "      <th>3</th>\n",
       "      <td>3</td>\n",
       "      <td>2.1</td>\n",
       "      <td>43526.0</td>\n",
       "    </tr>\n",
       "    <tr>\n",
       "      <th>4</th>\n",
       "      <td>4</td>\n",
       "      <td>2.3</td>\n",
       "      <td>39892.0</td>\n",
       "    </tr>\n",
       "    <tr>\n",
       "      <th>5</th>\n",
       "      <td>5</td>\n",
       "      <td>3.0</td>\n",
       "      <td>56643.0</td>\n",
       "    </tr>\n",
       "    <tr>\n",
       "      <th>6</th>\n",
       "      <td>6</td>\n",
       "      <td>3.1</td>\n",
       "      <td>60151.0</td>\n",
       "    </tr>\n",
       "    <tr>\n",
       "      <th>7</th>\n",
       "      <td>7</td>\n",
       "      <td>3.3</td>\n",
       "      <td>54446.0</td>\n",
       "    </tr>\n",
       "    <tr>\n",
       "      <th>8</th>\n",
       "      <td>8</td>\n",
       "      <td>3.3</td>\n",
       "      <td>64446.0</td>\n",
       "    </tr>\n",
       "    <tr>\n",
       "      <th>9</th>\n",
       "      <td>9</td>\n",
       "      <td>3.8</td>\n",
       "      <td>57190.0</td>\n",
       "    </tr>\n",
       "    <tr>\n",
       "      <th>10</th>\n",
       "      <td>10</td>\n",
       "      <td>4.0</td>\n",
       "      <td>63219.0</td>\n",
       "    </tr>\n",
       "    <tr>\n",
       "      <th>11</th>\n",
       "      <td>11</td>\n",
       "      <td>4.1</td>\n",
       "      <td>55795.0</td>\n",
       "    </tr>\n",
       "    <tr>\n",
       "      <th>12</th>\n",
       "      <td>12</td>\n",
       "      <td>4.1</td>\n",
       "      <td>56958.0</td>\n",
       "    </tr>\n",
       "    <tr>\n",
       "      <th>13</th>\n",
       "      <td>13</td>\n",
       "      <td>4.2</td>\n",
       "      <td>57082.0</td>\n",
       "    </tr>\n",
       "    <tr>\n",
       "      <th>14</th>\n",
       "      <td>14</td>\n",
       "      <td>4.6</td>\n",
       "      <td>61112.0</td>\n",
       "    </tr>\n",
       "    <tr>\n",
       "      <th>15</th>\n",
       "      <td>15</td>\n",
       "      <td>5.0</td>\n",
       "      <td>67939.0</td>\n",
       "    </tr>\n",
       "    <tr>\n",
       "      <th>16</th>\n",
       "      <td>16</td>\n",
       "      <td>5.2</td>\n",
       "      <td>66030.0</td>\n",
       "    </tr>\n",
       "    <tr>\n",
       "      <th>17</th>\n",
       "      <td>17</td>\n",
       "      <td>5.4</td>\n",
       "      <td>83089.0</td>\n",
       "    </tr>\n",
       "    <tr>\n",
       "      <th>18</th>\n",
       "      <td>18</td>\n",
       "      <td>6.0</td>\n",
       "      <td>81364.0</td>\n",
       "    </tr>\n",
       "    <tr>\n",
       "      <th>19</th>\n",
       "      <td>19</td>\n",
       "      <td>6.1</td>\n",
       "      <td>93941.0</td>\n",
       "    </tr>\n",
       "    <tr>\n",
       "      <th>20</th>\n",
       "      <td>20</td>\n",
       "      <td>6.9</td>\n",
       "      <td>91739.0</td>\n",
       "    </tr>\n",
       "    <tr>\n",
       "      <th>21</th>\n",
       "      <td>21</td>\n",
       "      <td>7.2</td>\n",
       "      <td>98274.0</td>\n",
       "    </tr>\n",
       "    <tr>\n",
       "      <th>22</th>\n",
       "      <td>22</td>\n",
       "      <td>8.0</td>\n",
       "      <td>101303.0</td>\n",
       "    </tr>\n",
       "    <tr>\n",
       "      <th>23</th>\n",
       "      <td>23</td>\n",
       "      <td>8.3</td>\n",
       "      <td>113813.0</td>\n",
       "    </tr>\n",
       "    <tr>\n",
       "      <th>24</th>\n",
       "      <td>24</td>\n",
       "      <td>8.8</td>\n",
       "      <td>109432.0</td>\n",
       "    </tr>\n",
       "    <tr>\n",
       "      <th>25</th>\n",
       "      <td>25</td>\n",
       "      <td>9.1</td>\n",
       "      <td>105583.0</td>\n",
       "    </tr>\n",
       "    <tr>\n",
       "      <th>26</th>\n",
       "      <td>26</td>\n",
       "      <td>9.6</td>\n",
       "      <td>116970.0</td>\n",
       "    </tr>\n",
       "    <tr>\n",
       "      <th>27</th>\n",
       "      <td>27</td>\n",
       "      <td>9.7</td>\n",
       "      <td>112636.0</td>\n",
       "    </tr>\n",
       "    <tr>\n",
       "      <th>28</th>\n",
       "      <td>28</td>\n",
       "      <td>10.4</td>\n",
       "      <td>122392.0</td>\n",
       "    </tr>\n",
       "    <tr>\n",
       "      <th>29</th>\n",
       "      <td>29</td>\n",
       "      <td>10.6</td>\n",
       "      <td>121873.0</td>\n",
       "    </tr>\n",
       "  </tbody>\n",
       "</table>\n",
       "</div>"
      ],
      "text/plain": [
       "    key  years     wages\n",
       "0     0    1.2   39344.0\n",
       "1     1    1.4   46206.0\n",
       "2     2    1.6   37732.0\n",
       "3     3    2.1   43526.0\n",
       "4     4    2.3   39892.0\n",
       "5     5    3.0   56643.0\n",
       "6     6    3.1   60151.0\n",
       "7     7    3.3   54446.0\n",
       "8     8    3.3   64446.0\n",
       "9     9    3.8   57190.0\n",
       "10   10    4.0   63219.0\n",
       "11   11    4.1   55795.0\n",
       "12   12    4.1   56958.0\n",
       "13   13    4.2   57082.0\n",
       "14   14    4.6   61112.0\n",
       "15   15    5.0   67939.0\n",
       "16   16    5.2   66030.0\n",
       "17   17    5.4   83089.0\n",
       "18   18    6.0   81364.0\n",
       "19   19    6.1   93941.0\n",
       "20   20    6.9   91739.0\n",
       "21   21    7.2   98274.0\n",
       "22   22    8.0  101303.0\n",
       "23   23    8.3  113813.0\n",
       "24   24    8.8  109432.0\n",
       "25   25    9.1  105583.0\n",
       "26   26    9.6  116970.0\n",
       "27   27    9.7  112636.0\n",
       "28   28   10.4  122392.0\n",
       "29   29   10.6  121873.0"
      ]
     },
     "execution_count": 58,
     "metadata": {},
     "output_type": "execute_result"
    }
   ],
   "source": [
    "copy_data = data.copy()\n",
    "\n",
    "dict_mapper = {\n",
    "    'Unnamed: 0': 'key',\n",
    "    'YearsExperience': 'years',\n",
    "    'Salary': 'wages'\n",
    "}\n",
    "\n",
    "\n",
    "# copy_data.rename(dict_mapper, inplace=True, axis=1)\n",
    "\n",
    "\n",
    "copy_data = copy_data.rename(dict_mapper, axis=1)\n",
    "\n",
    "copy_data"
   ]
  },
  {
   "cell_type": "code",
   "execution_count": null,
   "id": "04efefd2",
   "metadata": {},
   "outputs": [],
   "source": []
  }
 ],
 "metadata": {
  "kernelspec": {
   "display_name": "xBase",
   "language": "python",
   "name": "python3"
  },
  "language_info": {
   "codemirror_mode": {
    "name": "ipython",
    "version": 3
   },
   "file_extension": ".py",
   "mimetype": "text/x-python",
   "name": "python",
   "nbconvert_exporter": "python",
   "pygments_lexer": "ipython3",
   "version": "3.12.3"
  }
 },
 "nbformat": 4,
 "nbformat_minor": 5
}
