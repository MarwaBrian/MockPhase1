{
 "cells": [
  {
   "cell_type": "markdown",
   "id": "d799ef85",
   "metadata": {},
   "source": [
    "## First Project\n",
    "This is the first project in data science this week."
   ]
  },
  {
   "cell_type": "code",
   "execution_count": null,
   "id": "7b202c60",
   "metadata": {},
   "outputs": [],
   "source": [
    "def capitalize(name):\n",
    "    ...\n",
    "\n",
    "def puntuate(name):\n",
    "    ...\n",
    "\n",
    "def updater(name):\n",
    "    ..."
   ]
  },
  {
   "cell_type": "code",
   "execution_count": 2,
   "id": "f0ed68e1",
   "metadata": {},
   "outputs": [
    {
     "name": "stdout",
     "output_type": "stream",
     "text": [
      "Hello World!\n"
     ]
    }
   ],
   "source": [
    "example_dic =  {...}\n",
    "example_list = [...]\n",
    "\n",
    "\n",
    "print('Hello World!')"
   ]
  }
 ],
 "metadata": {
  "kernelspec": {
   "display_name": "xBase",
   "language": "python",
   "name": "python3"
  },
  "language_info": {
   "codemirror_mode": {
    "name": "ipython",
    "version": 3
   },
   "file_extension": ".py",
   "mimetype": "text/x-python",
   "name": "python",
   "nbconvert_exporter": "python",
   "pygments_lexer": "ipython3",
   "version": "3.12.3"
  }
 },
 "nbformat": 4,
 "nbformat_minor": 5
}
