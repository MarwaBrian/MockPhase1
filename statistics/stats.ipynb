{
 "cells": [
  {
   "cell_type": "markdown",
   "id": "fea0ad94",
   "metadata": {},
   "source": [
    "### Set Theory\n",
    "`Set` - this is a collection of distinct object or elements.\n",
    "\n",
    "When you have all the possible outcomes within a set, the set becomes a `universal set.`\n",
    "\n",
    "`Subset` is a set containing some elements from our universal set."
   ]
  },
  {
   "cell_type": "code",
   "execution_count": 3,
   "id": "3b67da69",
   "metadata": {},
   "outputs": [
    {
     "data": {
      "text/plain": [
       "{1, 3, 5}"
      ]
     },
     "execution_count": 3,
     "metadata": {},
     "output_type": "execute_result"
    }
   ],
   "source": [
    "dice_outcomes = {1, 2, 3, 4, 5, 6} #universal set for rolling a dice\n",
    "\n",
    "even_dice_outcomes = {2, 4, 6} #set for even outcomes in rolling a dice  {subset }f universal set)\n",
    "\n",
    "odd_dice_outcomes = {1, 3, 5}\n",
    "\n",
    "odd_dice_outcomes"
   ]
  },
  {
   "cell_type": "markdown",
   "id": "6b2bc0c9",
   "metadata": {},
   "source": [
    "![alt text](image.png)"
   ]
  },
  {
   "cell_type": "code",
   "execution_count": null,
   "id": "fb2b1f87",
   "metadata": {},
   "outputs": [
    {
     "data": {
      "text/plain": [
       "{11, 23, 44, 82, 93}"
      ]
     },
     "execution_count": 9,
     "metadata": {},
     "output_type": "execute_result"
    }
   ],
   "source": [
    "# complements in sets withing python we use the `-` sign\n",
    "import numpy as np\n",
    "\n",
    "universal_set = set(np.array(range(1,101)))\n",
    "\n",
    "A = {1, 2, 3, 4, 5, 6, 7, 8, 9}\n",
    "\n",
    "B = {11, 23, 3, 44, 5, 6, 7, 82, 93}\n",
    "\n",
    "a_complement_b = A - B\n",
    "a_complement_b"
   ]
  },
  {
   "cell_type": "markdown",
   "id": "ec7131d5",
   "metadata": {},
   "source": [
    "A complement B ---> complement of B in A\n",
    "\n",
    "`A complement of B ` - We are looking at elements in **A** that are not in **B**(elements in the first set that are not in the second set.)"
   ]
  },
  {
   "cell_type": "code",
   "execution_count": 10,
   "id": "1f344290",
   "metadata": {},
   "outputs": [
    {
     "data": {
      "text/plain": [
       "{11, 23, 44, 82, 93}"
      ]
     },
     "execution_count": 10,
     "metadata": {},
     "output_type": "execute_result"
    }
   ],
   "source": [
    "#B complement of A\n",
    "b_complement_a = B - A\n",
    "\n",
    "#what elements are in B that are not in A\n",
    "b_complement_a\n"
   ]
  },
  {
   "cell_type": "code",
   "execution_count": 12,
   "id": "e3db774c",
   "metadata": {},
   "outputs": [
    {
     "name": "stdout",
     "output_type": "stream",
     "text": [
      "{1, 2, 3, 4, 5, 6, 7, 8, 9}\n",
      "{3, 5, 6, 7, 11, 44, 82, 23, 93}\n"
     ]
    }
   ],
   "source": [
    "print(A)\n",
    "print(B)"
   ]
  },
  {
   "cell_type": "code",
   "execution_count": 13,
   "id": "2df80992",
   "metadata": {},
   "outputs": [
    {
     "data": {
      "text/plain": [
       "{3, 5, 6, 7}"
      ]
     },
     "execution_count": 13,
     "metadata": {},
     "output_type": "execute_result"
    }
   ],
   "source": [
    "#looking for the intersect\n",
    "\n",
    "intersect_a_b = A & B\n",
    "\n",
    "intersect_a_b"
   ]
  },
  {
   "cell_type": "code",
   "execution_count": 14,
   "id": "d7fe8e1e",
   "metadata": {},
   "outputs": [
    {
     "data": {
      "text/plain": [
       "array([3, 5, 6, 7])"
      ]
     },
     "execution_count": 14,
     "metadata": {},
     "output_type": "execute_result"
    }
   ],
   "source": [
    "list_a = list(A) \n",
    "list_b = list(B)\n",
    "\n",
    "\n",
    "np.intersect1d(list_a, list_b)"
   ]
  },
  {
   "cell_type": "code",
   "execution_count": 15,
   "id": "88ea1d83",
   "metadata": {},
   "outputs": [
    {
     "data": {
      "text/plain": [
       "array([ 1,  2,  3,  4,  5,  6,  7,  8,  9, 11, 23, 44, 82, 93])"
      ]
     },
     "execution_count": 15,
     "metadata": {},
     "output_type": "execute_result"
    }
   ],
   "source": [
    "##union of sets\n",
    "np.union1d(list_a, list_b)"
   ]
  },
  {
   "cell_type": "code",
   "execution_count": 16,
   "id": "64bdf31f",
   "metadata": {},
   "outputs": [
    {
     "data": {
      "text/plain": [
       "{1, 2, 3, 4, 5, 6, 7, 8, 9, 11, 23, 44, 82, 93}"
      ]
     },
     "execution_count": 16,
     "metadata": {},
     "output_type": "execute_result"
    }
   ],
   "source": [
    "union_a_b = A | B\n",
    "\n",
    "union_a_b"
   ]
  },
  {
   "cell_type": "markdown",
   "id": "48f98e6c",
   "metadata": {},
   "source": [
    "### Intro to Sampling\n",
    "`Population` - complete set of individuals\n",
    "\n",
    "`Sample` - a subset of the population\n",
    "\n",
    "\n",
    "#### Methods for sampling\n",
    "* `Systematic sampling` = selects the **n**th element from a list starting at a random point.\n",
    "* `Random sampling` = every element has an equal chance of being selected.\n",
    "* `Cluster sampling` = population is divided into clusters(often based on geographical area), entire clusters are selected at random.\n",
    "* `Stratified sampling` = population is divided into subgroups(strata) and samples taken from each group.\n",
    "\n",
    "\n",
    "#### Common Terms\n",
    "- **Point Estimate** - single value from a sample that tries to infere to the population(eg 2.5 goals per game)\n",
    "       \n",
    "       \n",
    "     - Sample mean `x_bar` $\\bar{x}$\n",
    "     - Population mean `mu` $\\mu$\n",
    "     - Sample Standard deviation - represented by small s ($s$)\n",
    "     - Population Standard deviation - represented by sigma $\\sigma$\n",
    "- **Interval Estimate/Confidence Interval** - a range of values from samples that give a certain level of confidence towards the population value(eg 1.5 - 2.8 goals per game)\n",
    "- **Standard Error** - represents how much variance we see from means of different samples."
   ]
  },
  {
   "cell_type": "code",
   "execution_count": 17,
   "id": "e2a359b9",
   "metadata": {},
   "outputs": [
    {
     "data": {
      "text/plain": [
       "{1,\n",
       " 2,\n",
       " 3,\n",
       " 4,\n",
       " 5,\n",
       " 6,\n",
       " 7,\n",
       " 8,\n",
       " 9,\n",
       " 10,\n",
       " 11,\n",
       " 12,\n",
       " 13,\n",
       " 14,\n",
       " 15,\n",
       " 16,\n",
       " 17,\n",
       " 18,\n",
       " 19,\n",
       " 20,\n",
       " 21,\n",
       " 22,\n",
       " 23,\n",
       " 24,\n",
       " 25,\n",
       " 26,\n",
       " 27,\n",
       " 28,\n",
       " 29,\n",
       " 30,\n",
       " 31,\n",
       " 32,\n",
       " 33,\n",
       " 34,\n",
       " 35,\n",
       " 36,\n",
       " 37,\n",
       " 38,\n",
       " 39,\n",
       " 40,\n",
       " 41,\n",
       " 42,\n",
       " 43,\n",
       " 44,\n",
       " 45,\n",
       " 46,\n",
       " 47,\n",
       " 48,\n",
       " 49,\n",
       " 50,\n",
       " 51,\n",
       " 52,\n",
       " 53,\n",
       " 54,\n",
       " 55,\n",
       " 56,\n",
       " 57,\n",
       " 58,\n",
       " 59,\n",
       " 60,\n",
       " 61,\n",
       " 62,\n",
       " 63,\n",
       " 64,\n",
       " 65,\n",
       " 66,\n",
       " 67,\n",
       " 68,\n",
       " 69,\n",
       " 70,\n",
       " 71,\n",
       " 72,\n",
       " 73,\n",
       " 74,\n",
       " 75,\n",
       " 76,\n",
       " 77,\n",
       " 78,\n",
       " 79,\n",
       " 80,\n",
       " 81,\n",
       " 82,\n",
       " 83,\n",
       " 84,\n",
       " 85,\n",
       " 86,\n",
       " 87,\n",
       " 88,\n",
       " 89,\n",
       " 90,\n",
       " 91,\n",
       " 92,\n",
       " 93,\n",
       " 94,\n",
       " 95,\n",
       " 96,\n",
       " 97,\n",
       " 98,\n",
       " 99,\n",
       " 100}"
      ]
     },
     "execution_count": 17,
     "metadata": {},
     "output_type": "execute_result"
    }
   ],
   "source": [
    "universal_set"
   ]
  },
  {
   "cell_type": "markdown",
   "id": "d4a32660",
   "metadata": {},
   "source": [
    "### Distributions\n",
    "Distributions help us know how values are spread out.\n",
    "\n",
    "There are different types:\n",
    "* Normal/gaussian - most common where the data points center toward the average\n",
    "* Bernoulli - only two possible outcomes with similar probability\n",
    "* Uniform - fixed number of outcomes with similar probability\n",
    "* Binomial - models two outcomes over a fixed number of trials(cleans sheets in a match)\n",
    "* Poisson - how many times an event happens over a fixed period(eg red cards in a 90-minute match)"
   ]
  },
  {
   "attachments": {
    "image.png": {
     "image/png": "[encoded data removed]"
    }
   },
   "cell_type": "markdown",
   "id": "78032efa",
   "metadata": {},
   "source": [
    "![image.png](attachment:image.png)"
   ]
  },
  {
   "cell_type": "markdown",
   "id": "f1ce8e19",
   "metadata": {},
   "source": [
    "#### Brief python review\n",
    "Lets take a look at our data."
   ]
  },
  {
   "cell_type": "code",
   "execution_count": 1,
   "id": "60255cc2",
   "metadata": {},
   "outputs": [
    {
     "name": "stdout",
     "output_type": "stream",
     "text": [
      "<class 'pandas.core.frame.DataFrame'>\n",
      "RangeIndex: 562 entries, 0 to 561\n",
      "Data columns (total 57 columns):\n",
      " #   Column                     Non-Null Count  Dtype  \n",
      "---  ------                     --------------  -----  \n",
      " 0   Player Name                562 non-null    object \n",
      " 1   Club                       562 non-null    object \n",
      " 2   Nationality                562 non-null    object \n",
      " 3   Position                   562 non-null    object \n",
      " 4   Appearances                562 non-null    int64  \n",
      " 5   Minutes                    562 non-null    int64  \n",
      " 6   Goals                      562 non-null    int64  \n",
      " 7   Assists                    562 non-null    int64  \n",
      " 8   Shots                      562 non-null    int64  \n",
      " 9   Shots On Target            562 non-null    int64  \n",
      " 10  Conversion %               562 non-null    object \n",
      " 11  Big Chances Missed         562 non-null    int64  \n",
      " 12  Hit Woodwork               562 non-null    int64  \n",
      " 13  Offsides                   562 non-null    int64  \n",
      " 14  Touches                    562 non-null    int64  \n",
      " 15  Passes                     562 non-null    int64  \n",
      " 16  Successful Passes          562 non-null    int64  \n",
      " 17  Passes%                    562 non-null    object \n",
      " 18  Crosses                    562 non-null    int64  \n",
      " 19  Successful Crosses         562 non-null    int64  \n",
      " 20  Crosses %                  562 non-null    object \n",
      " 21  fThird Passes              562 non-null    int64  \n",
      " 22  Successful fThird Passes   562 non-null    int64  \n",
      " 23  fThird Passes %            562 non-null    object \n",
      " 24  Through Balls              562 non-null    int64  \n",
      " 25  Carries                    562 non-null    int64  \n",
      " 26  Progressive Carries        562 non-null    int64  \n",
      " 27  Carries Ended with Goal    562 non-null    int64  \n",
      " 28  Carries Ended with Assist  562 non-null    int64  \n",
      " 29  Carries Ended with Shot    562 non-null    int64  \n",
      " 30  Carries Ended with Chance  562 non-null    int64  \n",
      " 31  Possession Won             562 non-null    int64  \n",
      " 32  Dispossessed               562 non-null    int64  \n",
      " 33  Clean Sheets               562 non-null    int64  \n",
      " 34  Clearances                 562 non-null    int64  \n",
      " 35  Interceptions              562 non-null    int64  \n",
      " 36  Blocks                     562 non-null    int64  \n",
      " 37  Tackles                    562 non-null    int64  \n",
      " 38  Ground Duels               562 non-null    int64  \n",
      " 39  gDuels Won                 562 non-null    int64  \n",
      " 40  gDuels %                   562 non-null    object \n",
      " 41  Aerial Duels               562 non-null    int64  \n",
      " 42  aDuels Won                 562 non-null    int64  \n",
      " 43  aDuels %                   562 non-null    object \n",
      " 44  Goals Conceded             562 non-null    int64  \n",
      " 45  xGoT Conceded              562 non-null    int64  \n",
      " 46  Own Goals                  562 non-null    int64  \n",
      " 47  Fouls                      562 non-null    int64  \n",
      " 48  Yellow Cards               562 non-null    int64  \n",
      " 49  Red Cards                  562 non-null    int64  \n",
      " 50  Saves                      562 non-null    int64  \n",
      " 51  Saves %                    562 non-null    object \n",
      " 52  Penalties Saved            562 non-null    int64  \n",
      " 53  Clearances Off Line        562 non-null    int64  \n",
      " 54  Punches                    562 non-null    int64  \n",
      " 55  High Claims                562 non-null    int64  \n",
      " 56  Goals Prevented            562 non-null    float64\n",
      "dtypes: float64(1), int64(45), object(11)\n",
      "memory usage: 250.4+ KB\n"
     ]
    },
    {
     "name": "stderr",
     "output_type": "stream",
     "text": [
      "<>:5: SyntaxWarning: invalid escape sequence '\\e'\n",
      "<>:5: SyntaxWarning: invalid escape sequence '\\e'\n",
      "C:\\Users\\marwa\\AppData\\Local\\Temp\\ipykernel_23584\\1027034139.py:5: SyntaxWarning: invalid escape sequence '\\e'\n",
      "  data = pd.read_csv('../project1\\epl_player_stats_24_25.csv')\n"
     ]
    }
   ],
   "source": [
    "import pandas as pd\n",
    "import numpy as np\n",
    "\n",
    "\n",
    "data = pd.read_csv('../project1\\epl_player_stats_24_25.csv')\n",
    "data.info()"
   ]
  },
  {
   "cell_type": "code",
   "execution_count": 2,
   "id": "e886c3ad",
   "metadata": {},
   "outputs": [
    {
     "data": {
      "application/vnd.microsoft.datawrangler.viewer.v0+json": {
       "columns": [
        {
         "name": "index",
         "rawType": "int64",
         "type": "integer"
        },
        {
         "name": "Player Name",
         "rawType": "object",
         "type": "string"
        },
        {
         "name": "Club",
         "rawType": "object",
         "type": "string"
        },
        {
         "name": "Nationality",
         "rawType": "object",
         "type": "string"
        },
        {
         "name": "Position",
         "rawType": "object",
         "type": "string"
        },
        {
         "name": "Appearances",
         "rawType": "int64",
         "type": "integer"
        },
        {
         "name": "Minutes",
         "rawType": "int64",
         "type": "integer"
        },
        {
         "name": "Goals",
         "rawType": "int64",
         "type": "integer"
        },
        {
         "name": "Assists",
         "rawType": "int64",
         "type": "integer"
        },
        {
         "name": "Shots",
         "rawType": "int64",
         "type": "integer"
        },
        {
         "name": "Shots On Target",
         "rawType": "int64",
         "type": "integer"
        },
        {
         "name": "Conversion %",
         "rawType": "object",
         "type": "string"
        },
        {
         "name": "Big Chances Missed",
         "rawType": "int64",
         "type": "integer"
        },
        {
         "name": "Hit Woodwork",
         "rawType": "int64",
         "type": "integer"
        },
        {
         "name": "Offsides",
         "rawType": "int64",
         "type": "integer"
        },
        {
         "name": "Touches",
         "rawType": "int64",
         "type": "integer"
        },
        {
         "name": "Passes",
         "rawType": "int64",
         "type": "integer"
        },
        {
         "name": "Successful Passes",
         "rawType": "int64",
         "type": "integer"
        },
        {
         "name": "Passes%",
         "rawType": "object",
         "type": "string"
        },
        {
         "name": "Crosses",
         "rawType": "int64",
         "type": "integer"
        },
        {
         "name": "Successful Crosses",
         "rawType": "int64",
         "type": "integer"
        },
        {
         "name": "Crosses %",
         "rawType": "object",
         "type": "string"
        },
        {
         "name": "fThird Passes",
         "rawType": "int64",
         "type": "integer"
        },
        {
         "name": "Successful fThird Passes",
         "rawType": "int64",
         "type": "integer"
        },
        {
         "name": "fThird Passes %",
         "rawType": "object",
         "type": "string"
        },
        {
         "name": "Through Balls",
         "rawType": "int64",
         "type": "integer"
        },
        {
         "name": "Carries",
         "rawType": "int64",
         "type": "integer"
        },
        {
         "name": "Progressive Carries",
         "rawType": "int64",
         "type": "integer"
        },
        {
         "name": "Carries Ended with Goal",
         "rawType": "int64",
         "type": "integer"
        },
        {
         "name": "Carries Ended with Assist",
         "rawType": "int64",
         "type": "integer"
        },
        {
         "name": "Carries Ended with Shot",
         "rawType": "int64",
         "type": "integer"
        },
        {
         "name": "Carries Ended with Chance",
         "rawType": "int64",
         "type": "integer"
        },
        {
         "name": "Possession Won",
         "rawType": "int64",
         "type": "integer"
        },
        {
         "name": "Dispossessed",
         "rawType": "int64",
         "type": "integer"
        },
        {
         "name": "Clean Sheets",
         "rawType": "int64",
         "type": "integer"
        },
        {
         "name": "Clearances",
         "rawType": "int64",
         "type": "integer"
        },
        {
         "name": "Interceptions",
         "rawType": "int64",
         "type": "integer"
        },
        {
         "name": "Blocks",
         "rawType": "int64",
         "type": "integer"
        },
        {
         "name": "Tackles",
         "rawType": "int64",
         "type": "integer"
        },
        {
         "name": "Ground Duels",
         "rawType": "int64",
         "type": "integer"
        },
        {
         "name": "gDuels Won",
         "rawType": "int64",
         "type": "integer"
        },
        {
         "name": "gDuels %",
         "rawType": "object",
         "type": "string"
        },
        {
         "name": "Aerial Duels",
         "rawType": "int64",
         "type": "integer"
        },
        {
         "name": "aDuels Won",
         "rawType": "int64",
         "type": "integer"
        },
        {
         "name": "aDuels %",
         "rawType": "object",
         "type": "string"
        },
        {
         "name": "Goals Conceded",
         "rawType": "int64",
         "type": "integer"
        },
        {
         "name": "xGoT Conceded",
         "rawType": "int64",
         "type": "integer"
        },
        {
         "name": "Own Goals",
         "rawType": "int64",
         "type": "integer"
        },
        {
         "name": "Fouls",
         "rawType": "int64",
         "type": "integer"
        },
        {
         "name": "Yellow Cards",
         "rawType": "int64",
         "type": "integer"
        },
        {
         "name": "Red Cards",
         "rawType": "int64",
         "type": "integer"
        },
        {
         "name": "Saves",
         "rawType": "int64",
         "type": "integer"
        },
        {
         "name": "Saves %",
         "rawType": "object",
         "type": "string"
        },
        {
         "name": "Penalties Saved",
         "rawType": "int64",
         "type": "integer"
        },
        {
         "name": "Clearances Off Line",
         "rawType": "int64",
         "type": "integer"
        },
        {
         "name": "Punches",
         "rawType": "int64",
         "type": "integer"
        },
        {
         "name": "High Claims",
         "rawType": "int64",
         "type": "integer"
        },
        {
         "name": "Goals Prevented",
         "rawType": "float64",
         "type": "float"
        }
       ],
       "ref": "5b2d3b61-8a45-4007-9aee-c5a4ab857c7b",
       "rows": [
        [
         "0",
         "Ben White",
         "Arsenal",
         "England",
         "DEF",
         "17",
         "1198",
         "0",
         "2",
         "9",
         "12",
         "13%",
         "0",
         "0",
         "1",
         "833",
         "1678",
         "1493",
         "89%",
         "51",
         "10",
         "20%",
         "714",
         "592",
         "83%",
         "4",
         "583",
         "296",
         "0",
         "0",
         "5",
         "17",
         "107",
         "6",
         "5",
         "38",
         "23",
         "6",
         "20",
         "231",
         "116",
         "50%",
         "16",
         "5",
         "31%",
         "0",
         "0",
         "0",
         "10",
         "2",
         "0",
         "0",
         "0%",
         "0",
         "0",
         "0",
         "0",
         "0.0"
        ],
        [
         "1",
         "Bukayo Saka",
         "Arsenal",
         "England",
         "MID",
         "25",
         "1735",
         "6",
         "10",
         "67",
         "2",
         "25%",
         "8",
         "0",
         "7",
         "1094",
         "643",
         "556",
         "87%",
         "1",
         "0",
         "0%",
         "55",
         "33",
         "60%",
         "1",
         "167",
         "69",
         "0",
         "0",
         "1",
         "0",
         "44",
         "40",
         "2",
         "6",
         "15",
         "14",
         "29",
         "58",
         "34",
         "59%",
         "45",
         "23",
         "51%",
         "0",
         "0",
         "0",
         "15",
         "3",
         "0",
         "0",
         "0%",
         "0",
         "0",
         "0",
         "0",
         "0.0"
        ],
        [
         "2",
         "David Raya",
         "Arsenal",
         "Spain",
         "GKP",
         "38",
         "3420",
         "0",
         "0",
         "0",
         "0",
         "0%",
         "0",
         "0",
         "0",
         "1599",
         "0",
         "0",
         "0%",
         "0",
         "0",
         "0%",
         "0",
         "0",
         "0%",
         "0",
         "0",
         "0",
         "0",
         "0",
         "0",
         "0",
         "0",
         "0",
         "13",
         "29",
         "0",
         "0",
         "0",
         "0",
         "0",
         "0%",
         "0",
         "0",
         "0%",
         "34",
         "36",
         "0",
         "1",
         "3",
         "0",
         "86",
         "72%",
         "0",
         "0",
         "8",
         "53",
         "2.1"
        ],
        [
         "3",
         "Declan Rice",
         "Arsenal",
         "England",
         "MID",
         "35",
         "2833",
         "4",
         "7",
         "48",
         "18",
         "15%",
         "2",
         "0",
         "2",
         "2016",
         "789",
         "641",
         "81%",
         "63",
         "7",
         "11%",
         "480",
         "364",
         "76%",
         "11",
         "411",
         "260",
         "3",
         "2",
         "18",
         "22",
         "121",
         "32",
         "7",
         "50",
         "13",
         "5",
         "53",
         "342",
         "121",
         "35%",
         "26",
         "10",
         "39%",
         "0",
         "0",
         "0",
         "21",
         "5",
         "1",
         "0",
         "0%",
         "0",
         "0",
         "0",
         "0",
         "0.0"
        ],
        [
         "4",
         "Ethan Nwaneri",
         "Arsenal",
         "England",
         "MID",
         "26",
         "889",
         "4",
         "0",
         "24",
         "0",
         "0%",
         "0",
         "3",
         "6",
         "601",
         "0",
         "0",
         "0%",
         "0",
         "0",
         "0%",
         "0",
         "0",
         "0%",
         "0",
         "0",
         "0",
         "0",
         "0",
         "0",
         "0",
         "0",
         "17",
         "1",
         "4",
         "0",
         "0",
         "11",
         "0",
         "0",
         "0%",
         "0",
         "0",
         "0%",
         "0",
         "0",
         "0",
         "9",
         "1",
         "0",
         "0",
         "0%",
         "0",
         "0",
         "0",
         "0",
         "0.0"
        ]
       ],
       "shape": {
        "columns": 57,
        "rows": 5
       }
      },
      "text/html": [
       "<div>\n",
       "<style scoped>\n",
       "    .dataframe tbody tr th:only-of-type {\n",
       "        vertical-align: middle;\n",
       "    }\n",
       "\n",
       "    .dataframe tbody tr th {\n",
       "        vertical-align: top;\n",
       "    }\n",
       "\n",
       "    .dataframe thead th {\n",
       "        text-align: right;\n",
       "    }\n",
       "</style>\n",
       "<table border=\"1\" class=\"dataframe\">\n",
       "  <thead>\n",
       "    <tr style=\"text-align: right;\">\n",
       "      <th></th>\n",
       "      <th>Player Name</th>\n",
       "      <th>Club</th>\n",
       "      <th>Nationality</th>\n",
       "      <th>Position</th>\n",
       "      <th>Appearances</th>\n",
       "      <th>Minutes</th>\n",
       "      <th>Goals</th>\n",
       "      <th>Assists</th>\n",
       "      <th>Shots</th>\n",
       "      <th>Shots On Target</th>\n",
       "      <th>Conversion %</th>\n",
       "      <th>Big Chances Missed</th>\n",
       "      <th>Hit Woodwork</th>\n",
       "      <th>Offsides</th>\n",
       "      <th>Touches</th>\n",
       "      <th>Passes</th>\n",
       "      <th>Successful Passes</th>\n",
       "      <th>Passes%</th>\n",
       "      <th>Crosses</th>\n",
       "      <th>Successful Crosses</th>\n",
       "      <th>Crosses %</th>\n",
       "      <th>fThird Passes</th>\n",
       "      <th>Successful fThird Passes</th>\n",
       "      <th>fThird Passes %</th>\n",
       "      <th>Through Balls</th>\n",
       "      <th>Carries</th>\n",
       "      <th>Progressive Carries</th>\n",
       "      <th>Carries Ended with Goal</th>\n",
       "      <th>Carries Ended with Assist</th>\n",
       "      <th>Carries Ended with Shot</th>\n",
       "      <th>Carries Ended with Chance</th>\n",
       "      <th>Possession Won</th>\n",
       "      <th>Dispossessed</th>\n",
       "      <th>Clean Sheets</th>\n",
       "      <th>Clearances</th>\n",
       "      <th>Interceptions</th>\n",
       "      <th>Blocks</th>\n",
       "      <th>Tackles</th>\n",
       "      <th>Ground Duels</th>\n",
       "      <th>gDuels Won</th>\n",
       "      <th>gDuels %</th>\n",
       "      <th>Aerial Duels</th>\n",
       "      <th>aDuels Won</th>\n",
       "      <th>aDuels %</th>\n",
       "      <th>Goals Conceded</th>\n",
       "      <th>xGoT Conceded</th>\n",
       "      <th>Own Goals</th>\n",
       "      <th>Fouls</th>\n",
       "      <th>Yellow Cards</th>\n",
       "      <th>Red Cards</th>\n",
       "      <th>Saves</th>\n",
       "      <th>Saves %</th>\n",
       "      <th>Penalties Saved</th>\n",
       "      <th>Clearances Off Line</th>\n",
       "      <th>Punches</th>\n",
       "      <th>High Claims</th>\n",
       "      <th>Goals Prevented</th>\n",
       "    </tr>\n",
       "  </thead>\n",
       "  <tbody>\n",
       "    <tr>\n",
       "      <th>0</th>\n",
       "      <td>Ben White</td>\n",
       "      <td>Arsenal</td>\n",
       "      <td>England</td>\n",
       "      <td>DEF</td>\n",
       "      <td>17</td>\n",
       "      <td>1198</td>\n",
       "      <td>0</td>\n",
       "      <td>2</td>\n",
       "      <td>9</td>\n",
       "      <td>12</td>\n",
       "      <td>13%</td>\n",
       "      <td>0</td>\n",
       "      <td>0</td>\n",
       "      <td>1</td>\n",
       "      <td>833</td>\n",
       "      <td>1678</td>\n",
       "      <td>1493</td>\n",
       "      <td>89%</td>\n",
       "      <td>51</td>\n",
       "      <td>10</td>\n",
       "      <td>20%</td>\n",
       "      <td>714</td>\n",
       "      <td>592</td>\n",
       "      <td>83%</td>\n",
       "      <td>4</td>\n",
       "      <td>583</td>\n",
       "      <td>296</td>\n",
       "      <td>0</td>\n",
       "      <td>0</td>\n",
       "      <td>5</td>\n",
       "      <td>17</td>\n",
       "      <td>107</td>\n",
       "      <td>6</td>\n",
       "      <td>5</td>\n",
       "      <td>38</td>\n",
       "      <td>23</td>\n",
       "      <td>6</td>\n",
       "      <td>20</td>\n",
       "      <td>231</td>\n",
       "      <td>116</td>\n",
       "      <td>50%</td>\n",
       "      <td>16</td>\n",
       "      <td>5</td>\n",
       "      <td>31%</td>\n",
       "      <td>0</td>\n",
       "      <td>0</td>\n",
       "      <td>0</td>\n",
       "      <td>10</td>\n",
       "      <td>2</td>\n",
       "      <td>0</td>\n",
       "      <td>0</td>\n",
       "      <td>0%</td>\n",
       "      <td>0</td>\n",
       "      <td>0</td>\n",
       "      <td>0</td>\n",
       "      <td>0</td>\n",
       "      <td>0.0</td>\n",
       "    </tr>\n",
       "    <tr>\n",
       "      <th>1</th>\n",
       "      <td>Bukayo Saka</td>\n",
       "      <td>Arsenal</td>\n",
       "      <td>England</td>\n",
       "      <td>MID</td>\n",
       "      <td>25</td>\n",
       "      <td>1735</td>\n",
       "      <td>6</td>\n",
       "      <td>10</td>\n",
       "      <td>67</td>\n",
       "      <td>2</td>\n",
       "      <td>25%</td>\n",
       "      <td>8</td>\n",
       "      <td>0</td>\n",
       "      <td>7</td>\n",
       "      <td>1094</td>\n",
       "      <td>643</td>\n",
       "      <td>556</td>\n",
       "      <td>87%</td>\n",
       "      <td>1</td>\n",
       "      <td>0</td>\n",
       "      <td>0%</td>\n",
       "      <td>55</td>\n",
       "      <td>33</td>\n",
       "      <td>60%</td>\n",
       "      <td>1</td>\n",
       "      <td>167</td>\n",
       "      <td>69</td>\n",
       "      <td>0</td>\n",
       "      <td>0</td>\n",
       "      <td>1</td>\n",
       "      <td>0</td>\n",
       "      <td>44</td>\n",
       "      <td>40</td>\n",
       "      <td>2</td>\n",
       "      <td>6</td>\n",
       "      <td>15</td>\n",
       "      <td>14</td>\n",
       "      <td>29</td>\n",
       "      <td>58</td>\n",
       "      <td>34</td>\n",
       "      <td>59%</td>\n",
       "      <td>45</td>\n",
       "      <td>23</td>\n",
       "      <td>51%</td>\n",
       "      <td>0</td>\n",
       "      <td>0</td>\n",
       "      <td>0</td>\n",
       "      <td>15</td>\n",
       "      <td>3</td>\n",
       "      <td>0</td>\n",
       "      <td>0</td>\n",
       "      <td>0%</td>\n",
       "      <td>0</td>\n",
       "      <td>0</td>\n",
       "      <td>0</td>\n",
       "      <td>0</td>\n",
       "      <td>0.0</td>\n",
       "    </tr>\n",
       "    <tr>\n",
       "      <th>2</th>\n",
       "      <td>David Raya</td>\n",
       "      <td>Arsenal</td>\n",
       "      <td>Spain</td>\n",
       "      <td>GKP</td>\n",
       "      <td>38</td>\n",
       "      <td>3420</td>\n",
       "      <td>0</td>\n",
       "      <td>0</td>\n",
       "      <td>0</td>\n",
       "      <td>0</td>\n",
       "      <td>0%</td>\n",
       "      <td>0</td>\n",
       "      <td>0</td>\n",
       "      <td>0</td>\n",
       "      <td>1599</td>\n",
       "      <td>0</td>\n",
       "      <td>0</td>\n",
       "      <td>0%</td>\n",
       "      <td>0</td>\n",
       "      <td>0</td>\n",
       "      <td>0%</td>\n",
       "      <td>0</td>\n",
       "      <td>0</td>\n",
       "      <td>0%</td>\n",
       "      <td>0</td>\n",
       "      <td>0</td>\n",
       "      <td>0</td>\n",
       "      <td>0</td>\n",
       "      <td>0</td>\n",
       "      <td>0</td>\n",
       "      <td>0</td>\n",
       "      <td>0</td>\n",
       "      <td>0</td>\n",
       "      <td>13</td>\n",
       "      <td>29</td>\n",
       "      <td>0</td>\n",
       "      <td>0</td>\n",
       "      <td>0</td>\n",
       "      <td>0</td>\n",
       "      <td>0</td>\n",
       "      <td>0%</td>\n",
       "      <td>0</td>\n",
       "      <td>0</td>\n",
       "      <td>0%</td>\n",
       "      <td>34</td>\n",
       "      <td>36</td>\n",
       "      <td>0</td>\n",
       "      <td>1</td>\n",
       "      <td>3</td>\n",
       "      <td>0</td>\n",
       "      <td>86</td>\n",
       "      <td>72%</td>\n",
       "      <td>0</td>\n",
       "      <td>0</td>\n",
       "      <td>8</td>\n",
       "      <td>53</td>\n",
       "      <td>2.1</td>\n",
       "    </tr>\n",
       "    <tr>\n",
       "      <th>3</th>\n",
       "      <td>Declan Rice</td>\n",
       "      <td>Arsenal</td>\n",
       "      <td>England</td>\n",
       "      <td>MID</td>\n",
       "      <td>35</td>\n",
       "      <td>2833</td>\n",
       "      <td>4</td>\n",
       "      <td>7</td>\n",
       "      <td>48</td>\n",
       "      <td>18</td>\n",
       "      <td>15%</td>\n",
       "      <td>2</td>\n",
       "      <td>0</td>\n",
       "      <td>2</td>\n",
       "      <td>2016</td>\n",
       "      <td>789</td>\n",
       "      <td>641</td>\n",
       "      <td>81%</td>\n",
       "      <td>63</td>\n",
       "      <td>7</td>\n",
       "      <td>11%</td>\n",
       "      <td>480</td>\n",
       "      <td>364</td>\n",
       "      <td>76%</td>\n",
       "      <td>11</td>\n",
       "      <td>411</td>\n",
       "      <td>260</td>\n",
       "      <td>3</td>\n",
       "      <td>2</td>\n",
       "      <td>18</td>\n",
       "      <td>22</td>\n",
       "      <td>121</td>\n",
       "      <td>32</td>\n",
       "      <td>7</td>\n",
       "      <td>50</td>\n",
       "      <td>13</td>\n",
       "      <td>5</td>\n",
       "      <td>53</td>\n",
       "      <td>342</td>\n",
       "      <td>121</td>\n",
       "      <td>35%</td>\n",
       "      <td>26</td>\n",
       "      <td>10</td>\n",
       "      <td>39%</td>\n",
       "      <td>0</td>\n",
       "      <td>0</td>\n",
       "      <td>0</td>\n",
       "      <td>21</td>\n",
       "      <td>5</td>\n",
       "      <td>1</td>\n",
       "      <td>0</td>\n",
       "      <td>0%</td>\n",
       "      <td>0</td>\n",
       "      <td>0</td>\n",
       "      <td>0</td>\n",
       "      <td>0</td>\n",
       "      <td>0.0</td>\n",
       "    </tr>\n",
       "    <tr>\n",
       "      <th>4</th>\n",
       "      <td>Ethan Nwaneri</td>\n",
       "      <td>Arsenal</td>\n",
       "      <td>England</td>\n",
       "      <td>MID</td>\n",
       "      <td>26</td>\n",
       "      <td>889</td>\n",
       "      <td>4</td>\n",
       "      <td>0</td>\n",
       "      <td>24</td>\n",
       "      <td>0</td>\n",
       "      <td>0%</td>\n",
       "      <td>0</td>\n",
       "      <td>3</td>\n",
       "      <td>6</td>\n",
       "      <td>601</td>\n",
       "      <td>0</td>\n",
       "      <td>0</td>\n",
       "      <td>0%</td>\n",
       "      <td>0</td>\n",
       "      <td>0</td>\n",
       "      <td>0%</td>\n",
       "      <td>0</td>\n",
       "      <td>0</td>\n",
       "      <td>0%</td>\n",
       "      <td>0</td>\n",
       "      <td>0</td>\n",
       "      <td>0</td>\n",
       "      <td>0</td>\n",
       "      <td>0</td>\n",
       "      <td>0</td>\n",
       "      <td>0</td>\n",
       "      <td>0</td>\n",
       "      <td>17</td>\n",
       "      <td>1</td>\n",
       "      <td>4</td>\n",
       "      <td>0</td>\n",
       "      <td>0</td>\n",
       "      <td>11</td>\n",
       "      <td>0</td>\n",
       "      <td>0</td>\n",
       "      <td>0%</td>\n",
       "      <td>0</td>\n",
       "      <td>0</td>\n",
       "      <td>0%</td>\n",
       "      <td>0</td>\n",
       "      <td>0</td>\n",
       "      <td>0</td>\n",
       "      <td>9</td>\n",
       "      <td>1</td>\n",
       "      <td>0</td>\n",
       "      <td>0</td>\n",
       "      <td>0%</td>\n",
       "      <td>0</td>\n",
       "      <td>0</td>\n",
       "      <td>0</td>\n",
       "      <td>0</td>\n",
       "      <td>0.0</td>\n",
       "    </tr>\n",
       "  </tbody>\n",
       "</table>\n",
       "</div>"
      ],
      "text/plain": [
       "     Player Name     Club Nationality  ... Punches  High Claims  Goals Prevented\n",
       "0      Ben White  Arsenal     England  ...       0            0              0.0\n",
       "1    Bukayo Saka  Arsenal     England  ...       0            0              0.0\n",
       "2     David Raya  Arsenal       Spain  ...       8           53              2.1\n",
       "3    Declan Rice  Arsenal     England  ...       0            0              0.0\n",
       "4  Ethan Nwaneri  Arsenal     England  ...       0            0              0.0\n",
       "\n",
       "[5 rows x 57 columns]"
      ]
     },
     "execution_count": 2,
     "metadata": {},
     "output_type": "execute_result"
    }
   ],
   "source": [
    "data.head()"
   ]
  },
  {
   "cell_type": "code",
   "execution_count": 3,
   "id": "cadc79cd",
   "metadata": {},
   "outputs": [
    {
     "data": {
      "application/vnd.microsoft.datawrangler.viewer.v0+json": {
       "columns": [
        {
         "name": "index",
         "rawType": "int64",
         "type": "integer"
        },
        {
         "name": "Shots",
         "rawType": "int64",
         "type": "integer"
        },
        {
         "name": "Shots On Target",
         "rawType": "int64",
         "type": "integer"
        },
        {
         "name": "Conversion %",
         "rawType": "object",
         "type": "string"
        },
        {
         "name": "Carries",
         "rawType": "int64",
         "type": "integer"
        },
        {
         "name": "Progressive Carries",
         "rawType": "int64",
         "type": "integer"
        },
        {
         "name": "Carries Ended with Goal",
         "rawType": "int64",
         "type": "integer"
        }
       ],
       "ref": "95686953-d11d-44b5-b81c-dd7d7c739ec2",
       "rows": [
        [
         "0",
         "9",
         "12",
         "13%",
         "583",
         "296",
         "0"
        ],
        [
         "1",
         "67",
         "2",
         "25%",
         "167",
         "69",
         "0"
        ],
        [
         "2",
         "0",
         "0",
         "0%",
         "0",
         "0",
         "0"
        ],
        [
         "3",
         "48",
         "18",
         "15%",
         "411",
         "260",
         "3"
        ],
        [
         "4",
         "24",
         "0",
         "0%",
         "0",
         "0",
         "0"
        ]
       ],
       "shape": {
        "columns": 6,
        "rows": 5
       }
      },
      "text/html": [
       "<div>\n",
       "<style scoped>\n",
       "    .dataframe tbody tr th:only-of-type {\n",
       "        vertical-align: middle;\n",
       "    }\n",
       "\n",
       "    .dataframe tbody tr th {\n",
       "        vertical-align: top;\n",
       "    }\n",
       "\n",
       "    .dataframe thead th {\n",
       "        text-align: right;\n",
       "    }\n",
       "</style>\n",
       "<table border=\"1\" class=\"dataframe\">\n",
       "  <thead>\n",
       "    <tr style=\"text-align: right;\">\n",
       "      <th></th>\n",
       "      <th>Shots</th>\n",
       "      <th>Shots On Target</th>\n",
       "      <th>Conversion %</th>\n",
       "      <th>Carries</th>\n",
       "      <th>Progressive Carries</th>\n",
       "      <th>Carries Ended with Goal</th>\n",
       "    </tr>\n",
       "  </thead>\n",
       "  <tbody>\n",
       "    <tr>\n",
       "      <th>0</th>\n",
       "      <td>9</td>\n",
       "      <td>12</td>\n",
       "      <td>13%</td>\n",
       "      <td>583</td>\n",
       "      <td>296</td>\n",
       "      <td>0</td>\n",
       "    </tr>\n",
       "    <tr>\n",
       "      <th>1</th>\n",
       "      <td>67</td>\n",
       "      <td>2</td>\n",
       "      <td>25%</td>\n",
       "      <td>167</td>\n",
       "      <td>69</td>\n",
       "      <td>0</td>\n",
       "    </tr>\n",
       "    <tr>\n",
       "      <th>2</th>\n",
       "      <td>0</td>\n",
       "      <td>0</td>\n",
       "      <td>0%</td>\n",
       "      <td>0</td>\n",
       "      <td>0</td>\n",
       "      <td>0</td>\n",
       "    </tr>\n",
       "    <tr>\n",
       "      <th>3</th>\n",
       "      <td>48</td>\n",
       "      <td>18</td>\n",
       "      <td>15%</td>\n",
       "      <td>411</td>\n",
       "      <td>260</td>\n",
       "      <td>3</td>\n",
       "    </tr>\n",
       "    <tr>\n",
       "      <th>4</th>\n",
       "      <td>24</td>\n",
       "      <td>0</td>\n",
       "      <td>0%</td>\n",
       "      <td>0</td>\n",
       "      <td>0</td>\n",
       "      <td>0</td>\n",
       "    </tr>\n",
       "  </tbody>\n",
       "</table>\n",
       "</div>"
      ],
      "text/plain": [
       "   Shots  Shots On Target  ... Progressive Carries  Carries Ended with Goal\n",
       "0      9               12  ...                 296                        0\n",
       "1     67                2  ...                  69                        0\n",
       "2      0                0  ...                   0                        0\n",
       "3     48               18  ...                 260                        3\n",
       "4     24                0  ...                   0                        0\n",
       "\n",
       "[5 rows x 6 columns]"
      ]
     },
     "execution_count": 3,
     "metadata": {},
     "output_type": "execute_result"
    }
   ],
   "source": [
    "# 60:40\n",
    "# 70:30\n",
    "# 80:20\n",
    "\n",
    "\n",
    "from sklearn.model_selection import train_test_split\n",
    "\n",
    "feature_columns = ['Shots', 'Shots On Target', 'Conversion %','Carries', 'Progressive Carries','Carries Ended with Goal']\n",
    "\"\"\" \n",
    "- separate the features from the target \n",
    "features will be represented by X\n",
    "target will be represented by y ###\n",
    "- determine the size for the test/train sets\n",
    "\"\"\"\n",
    "\n",
    "X = data[feature_columns]\n",
    "y = data['Goals']\n",
    "\n",
    "# train_test_split()\n",
    "\n",
    "X.head()"
   ]
  },
  {
   "cell_type": "code",
   "execution_count": 4,
   "id": "4dd0426f",
   "metadata": {},
   "outputs": [
    {
     "name": "stderr",
     "output_type": "stream",
     "text": [
      "C:\\Users\\marwa\\AppData\\Local\\Temp\\ipykernel_23584\\2098402412.py:5: SettingWithCopyWarning: \n",
      "A value is trying to be set on a copy of a slice from a DataFrame.\n",
      "Try using .loc[row_indexer,col_indexer] = value instead\n",
      "\n",
      "See the caveats in the documentation: https://pandas.pydata.org/pandas-docs/stable/user_guide/indexing.html#returning-a-view-versus-a-copy\n",
      "  X['Conversion %']  = X['Conversion %'].apply(lambda x: re.sub(pattern, '', x))\n",
      "C:\\Users\\marwa\\AppData\\Local\\Temp\\ipykernel_23584\\2098402412.py:7: SettingWithCopyWarning: \n",
      "A value is trying to be set on a copy of a slice from a DataFrame.\n",
      "Try using .loc[row_indexer,col_indexer] = value instead\n",
      "\n",
      "See the caveats in the documentation: https://pandas.pydata.org/pandas-docs/stable/user_guide/indexing.html#returning-a-view-versus-a-copy\n",
      "  X['Conversion %']   = X['Conversion %'].astype(int)\n"
     ]
    },
    {
     "data": {
      "application/vnd.microsoft.datawrangler.viewer.v0+json": {
       "columns": [
        {
         "name": "index",
         "rawType": "int64",
         "type": "integer"
        },
        {
         "name": "Shots",
         "rawType": "int64",
         "type": "integer"
        },
        {
         "name": "Shots On Target",
         "rawType": "int64",
         "type": "integer"
        },
        {
         "name": "Conversion %",
         "rawType": "int32",
         "type": "integer"
        },
        {
         "name": "Carries",
         "rawType": "int64",
         "type": "integer"
        },
        {
         "name": "Progressive Carries",
         "rawType": "int64",
         "type": "integer"
        },
        {
         "name": "Carries Ended with Goal",
         "rawType": "int64",
         "type": "integer"
        }
       ],
       "ref": "8a2a6a18-b766-46d9-ac55-19de8e7db78d",
       "rows": [
        [
         "0",
         "9",
         "12",
         "13",
         "583",
         "296",
         "0"
        ],
        [
         "1",
         "67",
         "2",
         "25",
         "167",
         "69",
         "0"
        ],
        [
         "2",
         "0",
         "0",
         "0",
         "0",
         "0",
         "0"
        ],
        [
         "3",
         "48",
         "18",
         "15",
         "411",
         "260",
         "3"
        ],
        [
         "4",
         "24",
         "0",
         "0",
         "0",
         "0",
         "0"
        ]
       ],
       "shape": {
        "columns": 6,
        "rows": 5
       }
      },
      "text/html": [
       "<div>\n",
       "<style scoped>\n",
       "    .dataframe tbody tr th:only-of-type {\n",
       "        vertical-align: middle;\n",
       "    }\n",
       "\n",
       "    .dataframe tbody tr th {\n",
       "        vertical-align: top;\n",
       "    }\n",
       "\n",
       "    .dataframe thead th {\n",
       "        text-align: right;\n",
       "    }\n",
       "</style>\n",
       "<table border=\"1\" class=\"dataframe\">\n",
       "  <thead>\n",
       "    <tr style=\"text-align: right;\">\n",
       "      <th></th>\n",
       "      <th>Shots</th>\n",
       "      <th>Shots On Target</th>\n",
       "      <th>Conversion %</th>\n",
       "      <th>Carries</th>\n",
       "      <th>Progressive Carries</th>\n",
       "      <th>Carries Ended with Goal</th>\n",
       "    </tr>\n",
       "  </thead>\n",
       "  <tbody>\n",
       "    <tr>\n",
       "      <th>0</th>\n",
       "      <td>9</td>\n",
       "      <td>12</td>\n",
       "      <td>13</td>\n",
       "      <td>583</td>\n",
       "      <td>296</td>\n",
       "      <td>0</td>\n",
       "    </tr>\n",
       "    <tr>\n",
       "      <th>1</th>\n",
       "      <td>67</td>\n",
       "      <td>2</td>\n",
       "      <td>25</td>\n",
       "      <td>167</td>\n",
       "      <td>69</td>\n",
       "      <td>0</td>\n",
       "    </tr>\n",
       "    <tr>\n",
       "      <th>2</th>\n",
       "      <td>0</td>\n",
       "      <td>0</td>\n",
       "      <td>0</td>\n",
       "      <td>0</td>\n",
       "      <td>0</td>\n",
       "      <td>0</td>\n",
       "    </tr>\n",
       "    <tr>\n",
       "      <th>3</th>\n",
       "      <td>48</td>\n",
       "      <td>18</td>\n",
       "      <td>15</td>\n",
       "      <td>411</td>\n",
       "      <td>260</td>\n",
       "      <td>3</td>\n",
       "    </tr>\n",
       "    <tr>\n",
       "      <th>4</th>\n",
       "      <td>24</td>\n",
       "      <td>0</td>\n",
       "      <td>0</td>\n",
       "      <td>0</td>\n",
       "      <td>0</td>\n",
       "      <td>0</td>\n",
       "    </tr>\n",
       "  </tbody>\n",
       "</table>\n",
       "</div>"
      ],
      "text/plain": [
       "   Shots  Shots On Target  ...  Progressive Carries  Carries Ended with Goal\n",
       "0      9               12  ...                  296                        0\n",
       "1     67                2  ...                   69                        0\n",
       "2      0                0  ...                    0                        0\n",
       "3     48               18  ...                  260                        3\n",
       "4     24                0  ...                    0                        0\n",
       "\n",
       "[5 rows x 6 columns]"
      ]
     },
     "execution_count": 4,
     "metadata": {},
     "output_type": "execute_result"
    }
   ],
   "source": [
    "import re\n",
    "\n",
    "pattern = r'%'\n",
    "\n",
    "X['Conversion %']  = X['Conversion %'].apply(lambda x: re.sub(pattern, '', x))\n",
    "\n",
    "X['Conversion %']   = X['Conversion %'].astype(int)\n",
    "\n",
    "X.head()"
   ]
  },
  {
   "cell_type": "code",
   "execution_count": 32,
   "id": "6a09b91a",
   "metadata": {},
   "outputs": [
    {
     "name": "stdout",
     "output_type": "stream",
     "text": [
      "<class 'pandas.core.frame.DataFrame'>\n",
      "RangeIndex: 562 entries, 0 to 561\n",
      "Data columns (total 6 columns):\n",
      " #   Column                   Non-Null Count  Dtype\n",
      "---  ------                   --------------  -----\n",
      " 0   Shots                    562 non-null    int64\n",
      " 1   Shots On Target          562 non-null    int64\n",
      " 2   Conversion %             562 non-null    int32\n",
      " 3   Carries                  562 non-null    int64\n",
      " 4   Progressive Carries      562 non-null    int64\n",
      " 5   Carries Ended with Goal  562 non-null    int64\n",
      "dtypes: int32(1), int64(5)\n",
      "memory usage: 24.3 KB\n"
     ]
    }
   ],
   "source": [
    "X.info()"
   ]
  },
  {
   "cell_type": "code",
   "execution_count": 5,
   "id": "673fdf46",
   "metadata": {},
   "outputs": [
    {
     "data": {
      "application/vnd.microsoft.datawrangler.viewer.v0+json": {
       "columns": [
        {
         "name": "index",
         "rawType": "int64",
         "type": "integer"
        },
        {
         "name": "Shots",
         "rawType": "int64",
         "type": "integer"
        },
        {
         "name": "Shots On Target",
         "rawType": "int64",
         "type": "integer"
        },
        {
         "name": "Conversion %",
         "rawType": "int32",
         "type": "integer"
        },
        {
         "name": "Carries",
         "rawType": "int64",
         "type": "integer"
        },
        {
         "name": "Progressive Carries",
         "rawType": "int64",
         "type": "integer"
        },
        {
         "name": "Carries Ended with Goal",
         "rawType": "int64",
         "type": "integer"
        }
       ],
       "ref": "f0461fc7-48d0-4fd7-a285-65b9ecbb8b27",
       "rows": [
        [
         "250",
         "7",
         "2",
         "0",
         "92",
         "60",
         "0"
        ],
        [
         "482",
         "60",
         "23",
         "9",
         "274",
         "163",
         "2"
        ],
        [
         "19",
         "10",
         "0",
         "0",
         "0",
         "0",
         "0"
        ],
        [
         "172",
         "7",
         "0",
         "0",
         "0",
         "0",
         "0"
        ],
        [
         "396",
         "1",
         "0",
         "0",
         "0",
         "0",
         "0"
        ]
       ],
       "shape": {
        "columns": 6,
        "rows": 5
       }
      },
      "text/html": [
       "<div>\n",
       "<style scoped>\n",
       "    .dataframe tbody tr th:only-of-type {\n",
       "        vertical-align: middle;\n",
       "    }\n",
       "\n",
       "    .dataframe tbody tr th {\n",
       "        vertical-align: top;\n",
       "    }\n",
       "\n",
       "    .dataframe thead th {\n",
       "        text-align: right;\n",
       "    }\n",
       "</style>\n",
       "<table border=\"1\" class=\"dataframe\">\n",
       "  <thead>\n",
       "    <tr style=\"text-align: right;\">\n",
       "      <th></th>\n",
       "      <th>Shots</th>\n",
       "      <th>Shots On Target</th>\n",
       "      <th>Conversion %</th>\n",
       "      <th>Carries</th>\n",
       "      <th>Progressive Carries</th>\n",
       "      <th>Carries Ended with Goal</th>\n",
       "    </tr>\n",
       "  </thead>\n",
       "  <tbody>\n",
       "    <tr>\n",
       "      <th>250</th>\n",
       "      <td>7</td>\n",
       "      <td>2</td>\n",
       "      <td>0</td>\n",
       "      <td>92</td>\n",
       "      <td>60</td>\n",
       "      <td>0</td>\n",
       "    </tr>\n",
       "    <tr>\n",
       "      <th>482</th>\n",
       "      <td>60</td>\n",
       "      <td>23</td>\n",
       "      <td>9</td>\n",
       "      <td>274</td>\n",
       "      <td>163</td>\n",
       "      <td>2</td>\n",
       "    </tr>\n",
       "    <tr>\n",
       "      <th>19</th>\n",
       "      <td>10</td>\n",
       "      <td>0</td>\n",
       "      <td>0</td>\n",
       "      <td>0</td>\n",
       "      <td>0</td>\n",
       "      <td>0</td>\n",
       "    </tr>\n",
       "    <tr>\n",
       "      <th>172</th>\n",
       "      <td>7</td>\n",
       "      <td>0</td>\n",
       "      <td>0</td>\n",
       "      <td>0</td>\n",
       "      <td>0</td>\n",
       "      <td>0</td>\n",
       "    </tr>\n",
       "    <tr>\n",
       "      <th>396</th>\n",
       "      <td>1</td>\n",
       "      <td>0</td>\n",
       "      <td>0</td>\n",
       "      <td>0</td>\n",
       "      <td>0</td>\n",
       "      <td>0</td>\n",
       "    </tr>\n",
       "  </tbody>\n",
       "</table>\n",
       "</div>"
      ],
      "text/plain": [
       "     Shots  Shots On Target  ...  Progressive Carries  Carries Ended with Goal\n",
       "250      7                2  ...                   60                        0\n",
       "482     60               23  ...                  163                        2\n",
       "19      10                0  ...                    0                        0\n",
       "172      7                0  ...                    0                        0\n",
       "396      1                0  ...                    0                        0\n",
       "\n",
       "[5 rows x 6 columns]"
      ]
     },
     "execution_count": 5,
     "metadata": {},
     "output_type": "execute_result"
    }
   ],
   "source": [
    "X_train, X_test, y_train, y_test = train_test_split(X, y, test_size=0.3, random_state=42)\n",
    "\n",
    "X_train.head()"
   ]
  },
  {
   "cell_type": "code",
   "execution_count": 43,
   "id": "8330e4b7",
   "metadata": {},
   "outputs": [
    {
     "data": {
      "application/vnd.microsoft.datawrangler.viewer.v0+json": {
       "columns": [
        {
         "name": "index",
         "rawType": "int64",
         "type": "integer"
        },
        {
         "name": "Goals",
         "rawType": "int64",
         "type": "integer"
        }
       ],
       "ref": "06c88762-cabf-4fb8-8eea-77562d0b14f0",
       "rows": [
        [
         "250",
         "1"
        ],
        [
         "482",
         "9"
        ],
        [
         "19",
         "0"
        ],
        [
         "172",
         "0"
        ],
        [
         "396",
         "0"
        ]
       ],
       "shape": {
        "columns": 1,
        "rows": 5
       }
      },
      "text/plain": [
       "250    1\n",
       "482    9\n",
       "19     0\n",
       "172    0\n",
       "396    0\n",
       "Name: Goals, dtype: int64"
      ]
     },
     "execution_count": 43,
     "metadata": {},
     "output_type": "execute_result"
    }
   ],
   "source": [
    "y_train.head()"
   ]
  },
  {
   "cell_type": "code",
   "execution_count": 38,
   "id": "356c28aa",
   "metadata": {},
   "outputs": [
    {
     "data": {
      "application/vnd.microsoft.datawrangler.viewer.v0+json": {
       "columns": [
        {
         "name": "index",
         "rawType": "int64",
         "type": "integer"
        },
        {
         "name": "Shots",
         "rawType": "int64",
         "type": "integer"
        },
        {
         "name": "Shots On Target",
         "rawType": "int64",
         "type": "integer"
        },
        {
         "name": "Conversion %",
         "rawType": "int32",
         "type": "integer"
        },
        {
         "name": "Carries",
         "rawType": "int64",
         "type": "integer"
        },
        {
         "name": "Progressive Carries",
         "rawType": "int64",
         "type": "integer"
        },
        {
         "name": "Carries Ended with Goal",
         "rawType": "int64",
         "type": "integer"
        }
       ],
       "ref": "b001dc19-22a5-414d-bb32-a4ed45d1079d",
       "rows": [
        [
         "504",
         "0",
         "0",
         "0",
         "0",
         "0",
         "0"
        ],
        [
         "219",
         "39",
         "12",
         "5",
         "315",
         "187",
         "0"
        ],
        [
         "201",
         "1",
         "0",
         "0",
         "0",
         "0",
         "0"
        ],
        [
         "381",
         "20",
         "0",
         "0",
         "0",
         "0",
         "0"
        ],
        [
         "251",
         "10",
         "11",
         "7",
         "415",
         "200",
         "1"
        ]
       ],
       "shape": {
        "columns": 6,
        "rows": 5
       }
      },
      "text/html": [
       "<div>\n",
       "<style scoped>\n",
       "    .dataframe tbody tr th:only-of-type {\n",
       "        vertical-align: middle;\n",
       "    }\n",
       "\n",
       "    .dataframe tbody tr th {\n",
       "        vertical-align: top;\n",
       "    }\n",
       "\n",
       "    .dataframe thead th {\n",
       "        text-align: right;\n",
       "    }\n",
       "</style>\n",
       "<table border=\"1\" class=\"dataframe\">\n",
       "  <thead>\n",
       "    <tr style=\"text-align: right;\">\n",
       "      <th></th>\n",
       "      <th>Shots</th>\n",
       "      <th>Shots On Target</th>\n",
       "      <th>Conversion %</th>\n",
       "      <th>Carries</th>\n",
       "      <th>Progressive Carries</th>\n",
       "      <th>Carries Ended with Goal</th>\n",
       "    </tr>\n",
       "  </thead>\n",
       "  <tbody>\n",
       "    <tr>\n",
       "      <th>504</th>\n",
       "      <td>0</td>\n",
       "      <td>0</td>\n",
       "      <td>0</td>\n",
       "      <td>0</td>\n",
       "      <td>0</td>\n",
       "      <td>0</td>\n",
       "    </tr>\n",
       "    <tr>\n",
       "      <th>219</th>\n",
       "      <td>39</td>\n",
       "      <td>12</td>\n",
       "      <td>5</td>\n",
       "      <td>315</td>\n",
       "      <td>187</td>\n",
       "      <td>0</td>\n",
       "    </tr>\n",
       "    <tr>\n",
       "      <th>201</th>\n",
       "      <td>1</td>\n",
       "      <td>0</td>\n",
       "      <td>0</td>\n",
       "      <td>0</td>\n",
       "      <td>0</td>\n",
       "      <td>0</td>\n",
       "    </tr>\n",
       "    <tr>\n",
       "      <th>381</th>\n",
       "      <td>20</td>\n",
       "      <td>0</td>\n",
       "      <td>0</td>\n",
       "      <td>0</td>\n",
       "      <td>0</td>\n",
       "      <td>0</td>\n",
       "    </tr>\n",
       "    <tr>\n",
       "      <th>251</th>\n",
       "      <td>10</td>\n",
       "      <td>11</td>\n",
       "      <td>7</td>\n",
       "      <td>415</td>\n",
       "      <td>200</td>\n",
       "      <td>1</td>\n",
       "    </tr>\n",
       "  </tbody>\n",
       "</table>\n",
       "</div>"
      ],
      "text/plain": [
       "     Shots  Shots On Target  Conversion %  Carries  Progressive Carries  \\\n",
       "504      0                0             0        0                    0   \n",
       "219     39               12             5      315                  187   \n",
       "201      1                0             0        0                    0   \n",
       "381     20                0             0        0                    0   \n",
       "251     10               11             7      415                  200   \n",
       "\n",
       "     Carries Ended with Goal  \n",
       "504                        0  \n",
       "219                        0  \n",
       "201                        0  \n",
       "381                        0  \n",
       "251                        1  "
      ]
     },
     "execution_count": 38,
     "metadata": {},
     "output_type": "execute_result"
    }
   ],
   "source": [
    "X_train, X_test, y_train, y_test = train_test_split(X, y, test_size=0.3)\n",
    "\n",
    "\n",
    "X_train.head()"
   ]
  },
  {
   "cell_type": "code",
   "execution_count": null,
   "id": "d20661cb",
   "metadata": {},
   "outputs": [],
   "source": [
    "# param_grid = {\n",
    "#     random_state: list(range(1, 1000)),\n",
    "#     test_size: list(range(0.1, 0.7))\n",
    "# }"
   ]
  },
  {
   "cell_type": "code",
   "execution_count": 7,
   "id": "f5d36385",
   "metadata": {},
   "outputs": [],
   "source": [
    "from sklearn.model_selection import train_test_split"
   ]
  },
  {
   "cell_type": "code",
   "execution_count": null,
   "id": "67b7a363",
   "metadata": {},
   "outputs": [],
   "source": []
  },
  {
   "cell_type": "code",
   "execution_count": null,
   "id": "dc50b8a6",
   "metadata": {},
   "outputs": [],
   "source": []
  },
  {
   "cell_type": "code",
   "execution_count": null,
   "id": "0b34260e",
   "metadata": {},
   "outputs": [],
   "source": []
  },
  {
   "cell_type": "code",
   "execution_count": null,
   "id": "75c390e7",
   "metadata": {},
   "outputs": [],
   "source": []
  },
  {
   "cell_type": "code",
   "execution_count": null,
   "id": "5eafada7",
   "metadata": {},
   "outputs": [],
   "source": []
  },
  {
   "cell_type": "code",
   "execution_count": null,
   "id": "86fb6ce7",
   "metadata": {},
   "outputs": [],
   "source": []
  },
  {
   "cell_type": "code",
   "execution_count": null,
   "id": "6801cf9a",
   "metadata": {},
   "outputs": [],
   "source": []
  },
  {
   "cell_type": "code",
   "execution_count": null,
   "id": "4443a588",
   "metadata": {},
   "outputs": [],
   "source": []
  },
  {
   "cell_type": "markdown",
   "id": "0c23cb95",
   "metadata": {},
   "source": [
    "#### Hypothesis Testing\n",
    "Hypothesis is an educated guess in which you try to prove with an experiment.\n",
    "\n",
    "There are two types of hypothesis:\n",
    "* `Null Hypothesis` - it is the currently generally accepted truth/situation.\n",
    "* `Alternative Hypothesis` - this involves the claim you are trying to prove. Its usually the opposite of a null hypothesis.\n",
    "\n",
    "#### Outcomes of hypothesis testing\n",
    "1. Reject the null hypothesis\n",
    "2. Fail to reject the null hypothesis"
   ]
  },
  {
   "cell_type": "markdown",
   "id": "bbebe721",
   "metadata": {},
   "source": [
    "### Z-test\n",
    "The average house hold income in Nairobi is normally distributed with a standard deviation of 5.2. We took a sample of 50 which had a mean of 65 selected at random. Find a 95% confidence interval for the population mean. \n",
    "Formulate the null and alternative hypothesis.\n"
   ]
  },
  {
   "cell_type": "code",
   "execution_count": null,
   "id": "76f81311",
   "metadata": {},
   "outputs": [],
   "source": [
    "sigma = 5.2\n",
    "n = 50\n",
    "x_bar = 65\n",
    "\n",
    "\n",
    "\n",
    "alpha_value = 0.05\n",
    "\n",
    "p_value = #value to calculate.\n",
    "\n",
    "# mu = ...\n",
    "from statsmodels.stats.proportion import proportions_ztest\n",
    "\n",
    "\n",
    "\n",
    "count = 5\n",
    "nobs = 83\n",
    "value = .05\n",
    "stat, pval = proportions_ztest(count, nobs, value)\n"
   ]
  },
  {
   "cell_type": "markdown",
   "id": "e9ffbb0d",
   "metadata": {},
   "source": [
    "### Student T-test\n",
    "The average house hold income in Nairobi is normally distributed with a standard deviation of 5.2. We took a sample of 30 which had a mean of 65 selected at random. Find a 95% confidence interval for the population mean. \n",
    "Formulate the null and alternative hypothesis.\n"
   ]
  },
  {
   "cell_type": "code",
   "execution_count": null,
   "id": "c7bcc31c",
   "metadata": {},
   "outputs": [],
   "source": []
  },
  {
   "cell_type": "code",
   "execution_count": null,
   "id": "4d5509b1",
   "metadata": {},
   "outputs": [],
   "source": []
  },
  {
   "cell_type": "code",
   "execution_count": null,
   "id": "4600f7e4",
   "metadata": {},
   "outputs": [],
   "source": []
  },
  {
   "cell_type": "code",
   "execution_count": 28,
   "id": "4b311a61",
   "metadata": {},
   "outputs": [
    {
     "name": "stdout",
     "output_type": "stream",
     "text": [
      "1\n",
      "2\n",
      "h\n",
      "4\n",
      "7\n",
      "m\n"
     ]
    },
    {
     "data": {
      "text/plain": [
       "[]"
      ]
     },
     "execution_count": 28,
     "metadata": {},
     "output_type": "execute_result"
    }
   ],
   "source": [
    "# X.info()\n",
    "\n",
    "import re\n",
    "pattern = r'0-9'\n",
    "\n",
    "test = '12h47m'\n",
    "\n",
    "\n",
    "#split the string then select only numbers\n",
    "test_splits = list(test)\n",
    "\n",
    "numbers = []\n",
    "\n",
    "for element in test_splits:\n",
    "    print(element)\n",
    "    if element in re.findall(pattern, element):\n",
    "        print(element)\n",
    "        numbers.append(element)\n",
    "    else:\n",
    "        None\n",
    "\n",
    "numbers"
   ]
  },
  {
   "cell_type": "code",
   "execution_count": 29,
   "id": "c9d27fdb",
   "metadata": {},
   "outputs": [
    {
     "name": "stdout",
     "output_type": "stream",
     "text": [
      "[]\n",
      "[]\n",
      "[]\n",
      "[]\n"
     ]
    }
   ],
   "source": [
    "test2 = [\n",
    "    '123 jovial',\n",
    "    '12', \n",
    "    'monday',\n",
    "    '25'\n",
    "]\n",
    "\n",
    "# pattern = r'A-Za-z0-9'\n",
    "for i in test2:\n",
    "    x = re.findall(pattern, i)\n",
    "    print(x)"
   ]
  },
  {
   "cell_type": "code",
   "execution_count": null,
   "id": "4ac0e96a",
   "metadata": {},
   "outputs": [],
   "source": []
  }
 ],
 "metadata": {
  "kernelspec": {
   "display_name": "xBase",
   "language": "python",
   "name": "python3"
  },
  "language_info": {
   "codemirror_mode": {
    "name": "ipython",
    "version": 3
   },
   "file_extension": ".py",
   "mimetype": "text/x-python",
   "name": "python",
   "nbconvert_exporter": "python",
   "pygments_lexer": "ipython3",
   "version": "3.12.3"
  }
 },
 "nbformat": 4,
 "nbformat_minor": 5
}
