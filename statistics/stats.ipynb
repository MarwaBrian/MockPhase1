{
 "cells": [
  {
   "cell_type": "markdown",
   "id": "fea0ad94",
   "metadata": {},
   "source": [
    "### Set Theory\n",
    "`Set` - this is a collection of distinct object or elements.\n",
    "\n",
    "When you have all the possible outcomes within a set, the set becomes a `universal set.`\n",
    "\n",
    "`Subset` is a set containing some elements from our universal set."
   ]
  },
  {
   "cell_type": "code",
   "execution_count": 3,
   "id": "3b67da69",
   "metadata": {},
   "outputs": [
    {
     "data": {
      "text/plain": [
       "{1, 3, 5}"
      ]
     },
     "execution_count": 3,
     "metadata": {},
     "output_type": "execute_result"
    }
   ],
   "source": [
    "dice_outcomes = {1, 2, 3, 4, 5, 6} #universal set for rolling a dice\n",
    "\n",
    "even_dice_outcomes = {2, 4, 6} #set for even outcomes in rolling a dice  {subset }f universal set)\n",
    "\n",
    "odd_dice_outcomes = {1, 3, 5}\n",
    "\n",
    "odd_dice_outcomes"
   ]
  },
  {
   "cell_type": "markdown",
   "id": "6b2bc0c9",
   "metadata": {},
   "source": [
    "![alt text](image.png)"
   ]
  },
  {
   "cell_type": "code",
   "execution_count": null,
   "id": "fb2b1f87",
   "metadata": {},
   "outputs": [
    {
     "data": {
      "text/plain": [
       "{11, 23, 44, 82, 93}"
      ]
     },
     "execution_count": 9,
     "metadata": {},
     "output_type": "execute_result"
    }
   ],
   "source": [
    "# complements in sets withing python we use the `-` sign\n",
    "import numpy as np\n",
    "\n",
    "universal_set = set(np.array(range(1,101)))\n",
    "\n",
    "A = {1, 2, 3, 4, 5, 6, 7, 8, 9}\n",
    "\n",
    "B = {11, 23, 3, 44, 5, 6, 7, 82, 93}\n",
    "\n",
    "a_complement_b = A - B\n",
    "a_complement_b"
   ]
  },
  {
   "cell_type": "markdown",
   "id": "ec7131d5",
   "metadata": {},
   "source": [
    "A complement B ---> complement of B in A\n",
    "\n",
    "`A complement of B ` - We are looking at elements in **A** that are not in **B**(elements in the first set that are not in the second set.)"
   ]
  },
  {
   "cell_type": "code",
   "execution_count": 10,
   "id": "1f344290",
   "metadata": {},
   "outputs": [
    {
     "data": {
      "text/plain": [
       "{11, 23, 44, 82, 93}"
      ]
     },
     "execution_count": 10,
     "metadata": {},
     "output_type": "execute_result"
    }
   ],
   "source": [
    "#B complement of A\n",
    "b_complement_a = B - A\n",
    "\n",
    "#what elements are in B that are not in A\n",
    "b_complement_a\n"
   ]
  },
  {
   "cell_type": "code",
   "execution_count": 12,
   "id": "e3db774c",
   "metadata": {},
   "outputs": [
    {
     "name": "stdout",
     "output_type": "stream",
     "text": [
      "{1, 2, 3, 4, 5, 6, 7, 8, 9}\n",
      "{3, 5, 6, 7, 11, 44, 82, 23, 93}\n"
     ]
    }
   ],
   "source": [
    "print(A)\n",
    "print(B)"
   ]
  },
  {
   "cell_type": "code",
   "execution_count": 13,
   "id": "2df80992",
   "metadata": {},
   "outputs": [
    {
     "data": {
      "text/plain": [
       "{3, 5, 6, 7}"
      ]
     },
     "execution_count": 13,
     "metadata": {},
     "output_type": "execute_result"
    }
   ],
   "source": [
    "#looking for the intersect\n",
    "\n",
    "intersect_a_b = A & B\n",
    "\n",
    "intersect_a_b"
   ]
  },
  {
   "cell_type": "code",
   "execution_count": 14,
   "id": "d7fe8e1e",
   "metadata": {},
   "outputs": [
    {
     "data": {
      "text/plain": [
       "array([3, 5, 6, 7])"
      ]
     },
     "execution_count": 14,
     "metadata": {},
     "output_type": "execute_result"
    }
   ],
   "source": [
    "list_a = list(A) \n",
    "list_b = list(B)\n",
    "\n",
    "\n",
    "np.intersect1d(list_a, list_b)"
   ]
  },
  {
   "cell_type": "code",
   "execution_count": 15,
   "id": "88ea1d83",
   "metadata": {},
   "outputs": [
    {
     "data": {
      "text/plain": [
       "array([ 1,  2,  3,  4,  5,  6,  7,  8,  9, 11, 23, 44, 82, 93])"
      ]
     },
     "execution_count": 15,
     "metadata": {},
     "output_type": "execute_result"
    }
   ],
   "source": [
    "##union of sets\n",
    "np.union1d(list_a, list_b)"
   ]
  },
  {
   "cell_type": "code",
   "execution_count": 16,
   "id": "64bdf31f",
   "metadata": {},
   "outputs": [
    {
     "data": {
      "text/plain": [
       "{1, 2, 3, 4, 5, 6, 7, 8, 9, 11, 23, 44, 82, 93}"
      ]
     },
     "execution_count": 16,
     "metadata": {},
     "output_type": "execute_result"
    }
   ],
   "source": [
    "union_a_b = A | B\n",
    "\n",
    "union_a_b"
   ]
  },
  {
   "cell_type": "markdown",
   "id": "48f98e6c",
   "metadata": {},
   "source": [
    "### Intro to Sampling\n",
    "`Population` - complete set of individuals\n",
    "\n",
    "`Sample` - a subset of the population\n",
    "\n",
    "\n",
    "#### Methods for sampling\n",
    "* `Systematic sampling` = selects the nth element from a list starting at a random point.\n",
    "* `Random sampling` = every element has an equal chance of being selected.\n",
    "* `Cluster sampling` = \n",
    "* `Stratified sampling` = "
   ]
  },
  {
   "cell_type": "code",
   "execution_count": 17,
   "id": "e2a359b9",
   "metadata": {},
   "outputs": [
    {
     "data": {
      "text/plain": [
       "{1,\n",
       " 2,\n",
       " 3,\n",
       " 4,\n",
       " 5,\n",
       " 6,\n",
       " 7,\n",
       " 8,\n",
       " 9,\n",
       " 10,\n",
       " 11,\n",
       " 12,\n",
       " 13,\n",
       " 14,\n",
       " 15,\n",
       " 16,\n",
       " 17,\n",
       " 18,\n",
       " 19,\n",
       " 20,\n",
       " 21,\n",
       " 22,\n",
       " 23,\n",
       " 24,\n",
       " 25,\n",
       " 26,\n",
       " 27,\n",
       " 28,\n",
       " 29,\n",
       " 30,\n",
       " 31,\n",
       " 32,\n",
       " 33,\n",
       " 34,\n",
       " 35,\n",
       " 36,\n",
       " 37,\n",
       " 38,\n",
       " 39,\n",
       " 40,\n",
       " 41,\n",
       " 42,\n",
       " 43,\n",
       " 44,\n",
       " 45,\n",
       " 46,\n",
       " 47,\n",
       " 48,\n",
       " 49,\n",
       " 50,\n",
       " 51,\n",
       " 52,\n",
       " 53,\n",
       " 54,\n",
       " 55,\n",
       " 56,\n",
       " 57,\n",
       " 58,\n",
       " 59,\n",
       " 60,\n",
       " 61,\n",
       " 62,\n",
       " 63,\n",
       " 64,\n",
       " 65,\n",
       " 66,\n",
       " 67,\n",
       " 68,\n",
       " 69,\n",
       " 70,\n",
       " 71,\n",
       " 72,\n",
       " 73,\n",
       " 74,\n",
       " 75,\n",
       " 76,\n",
       " 77,\n",
       " 78,\n",
       " 79,\n",
       " 80,\n",
       " 81,\n",
       " 82,\n",
       " 83,\n",
       " 84,\n",
       " 85,\n",
       " 86,\n",
       " 87,\n",
       " 88,\n",
       " 89,\n",
       " 90,\n",
       " 91,\n",
       " 92,\n",
       " 93,\n",
       " 94,\n",
       " 95,\n",
       " 96,\n",
       " 97,\n",
       " 98,\n",
       " 99,\n",
       " 100}"
      ]
     },
     "execution_count": 17,
     "metadata": {},
     "output_type": "execute_result"
    }
   ],
   "source": [
    "universal_set"
   ]
  },
  {
   "cell_type": "code",
   "execution_count": null,
   "id": "e7f1b692",
   "metadata": {},
   "outputs": [],
   "source": []
  }
 ],
 "metadata": {
  "kernelspec": {
   "display_name": "xBase",
   "language": "python",
   "name": "python3"
  },
  "language_info": {
   "codemirror_mode": {
    "name": "ipython",
    "version": 3
   },
   "file_extension": ".py",
   "mimetype": "text/x-python",
   "name": "python",
   "nbconvert_exporter": "python",
   "pygments_lexer": "ipython3",
   "version": "3.12.3"
  }
 },
 "nbformat": 4,
 "nbformat_minor": 5
}
