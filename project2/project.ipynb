{
 "cells": [
  {
   "cell_type": "markdown",
   "id": "2566695a",
   "metadata": {},
   "source": []
  },
  {
   "cell_type": "code",
   "execution_count": 4,
   "id": "c6c34980",
   "metadata": {},
   "outputs": [
    {
     "data": {
      "application/vnd.microsoft.datawrangler.viewer.v0+json": {
       "columns": [
        {
         "name": "index",
         "rawType": "int64",
         "type": "integer"
        },
        {
         "name": "Year",
         "rawType": "object",
         "type": "string"
        },
        {
         "name": "Make",
         "rawType": "object",
         "type": "string"
        },
        {
         "name": "Model",
         "rawType": "object",
         "type": "string"
        },
        {
         "name": "Vehicle Class",
         "rawType": "object",
         "type": "string"
        },
        {
         "name": "Engine Size (L)",
         "rawType": "float64",
         "type": "float"
        },
        {
         "name": "Cylinders",
         "rawType": "float64",
         "type": "float"
        },
        {
         "name": "Transmission",
         "rawType": "object",
         "type": "string"
        },
        {
         "name": "Fuel Type",
         "rawType": "object",
         "type": "string"
        },
        {
         "name": "Fuel Consumption (L/100Km)",
         "rawType": "float64",
         "type": "float"
        },
        {
         "name": "Hwy (L/100 km)",
         "rawType": "float64",
         "type": "float"
        },
        {
         "name": "Comb (L/100 km)",
         "rawType": "float64",
         "type": "float"
        },
        {
         "name": "Comb (mpg)",
         "rawType": "float64",
         "type": "float"
        },
        {
         "name": "CO2 Emissions (g/km)",
         "rawType": "float64",
         "type": "float"
        },
        {
         "name": "CO2 Rating",
         "rawType": "float64",
         "type": "float"
        },
        {
         "name": "Smog Rating",
         "rawType": "float64",
         "type": "float"
        }
       ],
       "ref": "b5926cd7-78ec-492a-9c98-45424a189d0a",
       "rows": [
        [
         "0",
         "2023",
         "Acura",
         "Integra",
         "Full-size",
         "1.5",
         "4.0",
         "AV7",
         "Z",
         "7.9",
         "6.3",
         "7.2",
         "39.0",
         "167.0",
         "6.0",
         "7.0"
        ],
        [
         "1",
         "2023",
         "Acura",
         "Integra A-SPEC",
         "Full-size",
         "1.5",
         "4.0",
         "AV7",
         "Z",
         "8.1",
         "6.5",
         "7.4",
         "38.0",
         "172.0",
         "6.0",
         "7.0"
        ],
        [
         "2",
         "2023",
         "Acura",
         "Integra A-SPEC",
         "Full-size",
         "1.5",
         "4.0",
         "M6",
         "Z",
         "8.9",
         "6.5",
         "7.8",
         "36.0",
         "181.0",
         "6.0",
         "6.0"
        ],
        [
         "3",
         "2023",
         "Acura",
         "MDX SH-AWD",
         "SUV: Small",
         "3.5",
         "6.0",
         "AS10",
         "Z",
         "12.6",
         "9.4",
         "11.2",
         "25.0",
         "263.0",
         "4.0",
         "5.0"
        ],
        [
         "4",
         "2023",
         "Acura",
         "MDX SH-AWD Type S",
         "SUV: Standard",
         "3.0",
         "6.0",
         "AS10",
         "Z",
         "13.8",
         "11.2",
         "12.4",
         "23.0",
         "291.0",
         "4.0",
         "5.0"
        ]
       ],
       "shape": {
        "columns": 15,
        "rows": 5
       }
      },
      "text/html": [
       "<div>\n",
       "<style scoped>\n",
       "    .dataframe tbody tr th:only-of-type {\n",
       "        vertical-align: middle;\n",
       "    }\n",
       "\n",
       "    .dataframe tbody tr th {\n",
       "        vertical-align: top;\n",
       "    }\n",
       "\n",
       "    .dataframe thead th {\n",
       "        text-align: right;\n",
       "    }\n",
       "</style>\n",
       "<table border=\"1\" class=\"dataframe\">\n",
       "  <thead>\n",
       "    <tr style=\"text-align: right;\">\n",
       "      <th></th>\n",
       "      <th>Year</th>\n",
       "      <th>Make</th>\n",
       "      <th>Model</th>\n",
       "      <th>Vehicle Class</th>\n",
       "      <th>Engine Size (L)</th>\n",
       "      <th>Cylinders</th>\n",
       "      <th>Transmission</th>\n",
       "      <th>Fuel Type</th>\n",
       "      <th>Fuel Consumption (L/100Km)</th>\n",
       "      <th>Hwy (L/100 km)</th>\n",
       "      <th>Comb (L/100 km)</th>\n",
       "      <th>Comb (mpg)</th>\n",
       "      <th>CO2 Emissions (g/km)</th>\n",
       "      <th>CO2 Rating</th>\n",
       "      <th>Smog Rating</th>\n",
       "    </tr>\n",
       "  </thead>\n",
       "  <tbody>\n",
       "    <tr>\n",
       "      <th>0</th>\n",
       "      <td>2023</td>\n",
       "      <td>Acura</td>\n",
       "      <td>Integra</td>\n",
       "      <td>Full-size</td>\n",
       "      <td>1.5</td>\n",
       "      <td>4.0</td>\n",
       "      <td>AV7</td>\n",
       "      <td>Z</td>\n",
       "      <td>7.9</td>\n",
       "      <td>6.3</td>\n",
       "      <td>7.2</td>\n",
       "      <td>39.0</td>\n",
       "      <td>167.0</td>\n",
       "      <td>6.0</td>\n",
       "      <td>7.0</td>\n",
       "    </tr>\n",
       "    <tr>\n",
       "      <th>1</th>\n",
       "      <td>2023</td>\n",
       "      <td>Acura</td>\n",
       "      <td>Integra A-SPEC</td>\n",
       "      <td>Full-size</td>\n",
       "      <td>1.5</td>\n",
       "      <td>4.0</td>\n",
       "      <td>AV7</td>\n",
       "      <td>Z</td>\n",
       "      <td>8.1</td>\n",
       "      <td>6.5</td>\n",
       "      <td>7.4</td>\n",
       "      <td>38.0</td>\n",
       "      <td>172.0</td>\n",
       "      <td>6.0</td>\n",
       "      <td>7.0</td>\n",
       "    </tr>\n",
       "    <tr>\n",
       "      <th>2</th>\n",
       "      <td>2023</td>\n",
       "      <td>Acura</td>\n",
       "      <td>Integra A-SPEC</td>\n",
       "      <td>Full-size</td>\n",
       "      <td>1.5</td>\n",
       "      <td>4.0</td>\n",
       "      <td>M6</td>\n",
       "      <td>Z</td>\n",
       "      <td>8.9</td>\n",
       "      <td>6.5</td>\n",
       "      <td>7.8</td>\n",
       "      <td>36.0</td>\n",
       "      <td>181.0</td>\n",
       "      <td>6.0</td>\n",
       "      <td>6.0</td>\n",
       "    </tr>\n",
       "    <tr>\n",
       "      <th>3</th>\n",
       "      <td>2023</td>\n",
       "      <td>Acura</td>\n",
       "      <td>MDX SH-AWD</td>\n",
       "      <td>SUV: Small</td>\n",
       "      <td>3.5</td>\n",
       "      <td>6.0</td>\n",
       "      <td>AS10</td>\n",
       "      <td>Z</td>\n",
       "      <td>12.6</td>\n",
       "      <td>9.4</td>\n",
       "      <td>11.2</td>\n",
       "      <td>25.0</td>\n",
       "      <td>263.0</td>\n",
       "      <td>4.0</td>\n",
       "      <td>5.0</td>\n",
       "    </tr>\n",
       "    <tr>\n",
       "      <th>4</th>\n",
       "      <td>2023</td>\n",
       "      <td>Acura</td>\n",
       "      <td>MDX SH-AWD Type S</td>\n",
       "      <td>SUV: Standard</td>\n",
       "      <td>3.0</td>\n",
       "      <td>6.0</td>\n",
       "      <td>AS10</td>\n",
       "      <td>Z</td>\n",
       "      <td>13.8</td>\n",
       "      <td>11.2</td>\n",
       "      <td>12.4</td>\n",
       "      <td>23.0</td>\n",
       "      <td>291.0</td>\n",
       "      <td>4.0</td>\n",
       "      <td>5.0</td>\n",
       "    </tr>\n",
       "  </tbody>\n",
       "</table>\n",
       "</div>"
      ],
      "text/plain": [
       "   Year   Make              Model  Vehicle Class  Engine Size (L)  Cylinders  \\\n",
       "0  2023  Acura            Integra      Full-size              1.5        4.0   \n",
       "1  2023  Acura     Integra A-SPEC      Full-size              1.5        4.0   \n",
       "2  2023  Acura     Integra A-SPEC      Full-size              1.5        4.0   \n",
       "3  2023  Acura         MDX SH-AWD     SUV: Small              3.5        6.0   \n",
       "4  2023  Acura  MDX SH-AWD Type S  SUV: Standard              3.0        6.0   \n",
       "\n",
       "  Transmission Fuel Type  Fuel Consumption (L/100Km)  Hwy (L/100 km)  \\\n",
       "0          AV7         Z                         7.9             6.3   \n",
       "1          AV7         Z                         8.1             6.5   \n",
       "2           M6         Z                         8.9             6.5   \n",
       "3         AS10         Z                        12.6             9.4   \n",
       "4         AS10         Z                        13.8            11.2   \n",
       "\n",
       "   Comb (L/100 km)  Comb (mpg)  CO2 Emissions (g/km)  CO2 Rating  Smog Rating  \n",
       "0              7.2        39.0                 167.0         6.0          7.0  \n",
       "1              7.4        38.0                 172.0         6.0          7.0  \n",
       "2              7.8        36.0                 181.0         6.0          6.0  \n",
       "3             11.2        25.0                 263.0         4.0          5.0  \n",
       "4             12.4        23.0                 291.0         4.0          5.0  "
      ]
     },
     "execution_count": 4,
     "metadata": {},
     "output_type": "execute_result"
    }
   ],
   "source": [
    "import pandas as pd \n",
    "\n",
    "\n",
    "df = pd.read_csv('./data/fuel_consumption_ratings.csv', encoding='latin1')\n",
    "\n",
    "df.head()"
   ]
  },
  {
   "cell_type": "code",
   "execution_count": 5,
   "id": "06ef7b1a",
   "metadata": {},
   "outputs": [
    {
     "name": "stdout",
     "output_type": "stream",
     "text": [
      "<class 'pandas.core.frame.DataFrame'>\n",
      "RangeIndex: 856 entries, 0 to 855\n",
      "Data columns (total 15 columns):\n",
      " #   Column                      Non-Null Count  Dtype  \n",
      "---  ------                      --------------  -----  \n",
      " 0   Year                        841 non-null    object \n",
      " 1   Make                        854 non-null    object \n",
      " 2   Model                       833 non-null    object \n",
      " 3   Vehicle Class               833 non-null    object \n",
      " 4   Engine Size (L)             833 non-null    float64\n",
      " 5   Cylinders                   833 non-null    float64\n",
      " 6   Transmission                833 non-null    object \n",
      " 7   Fuel Type                   833 non-null    object \n",
      " 8   Fuel Consumption (L/100Km)  833 non-null    float64\n",
      " 9   Hwy (L/100 km)              833 non-null    float64\n",
      " 10  Comb (L/100 km)             833 non-null    float64\n",
      " 11  Comb (mpg)                  833 non-null    float64\n",
      " 12  CO2 Emissions (g/km)        833 non-null    float64\n",
      " 13  CO2 Rating                  833 non-null    float64\n",
      " 14  Smog Rating                 833 non-null    float64\n",
      "dtypes: float64(9), object(6)\n",
      "memory usage: 100.4+ KB\n"
     ]
    }
   ],
   "source": [
    "df.info()"
   ]
  },
  {
   "cell_type": "code",
   "execution_count": null,
   "id": "5715abfe",
   "metadata": {},
   "outputs": [],
   "source": []
  },
  {
   "cell_type": "code",
   "execution_count": null,
   "id": "cae4bd79",
   "metadata": {},
   "outputs": [],
   "source": [
    "\"\"\" \n",
    "AGE | Years they've Played | Goals\n",
    "25            9                85\n",
    "27            9                 \n",
    "\"\"\""
   ]
  }
 ],
 "metadata": {
  "kernelspec": {
   "display_name": "xBase",
   "language": "python",
   "name": "python3"
  },
  "language_info": {
   "codemirror_mode": {
    "name": "ipython",
    "version": 3
   },
   "file_extension": ".py",
   "mimetype": "text/x-python",
   "name": "python",
   "nbconvert_exporter": "python",
   "pygments_lexer": "ipython3",
   "version": "3.12.3"
  }
 },
 "nbformat": 4,
 "nbformat_minor": 5
}
